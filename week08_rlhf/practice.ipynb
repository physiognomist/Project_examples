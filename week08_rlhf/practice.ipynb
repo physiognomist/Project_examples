{
  "cells": [
    {
      "cell_type": "markdown",
      "metadata": {
        "id": "NvhPa7a59AIG"
      },
      "source": [
        "<font color=red>**Danger zone:**</font> you'll be fine-tuning a model to generate positive, negative or even toxic reviews. We'll be doing this for fun, but this is also the technique for [review bombing](https://en.wikipedia.org/wiki/Review_bomb), bot farms on social media and other less than dignified stuff. It is ultimately your decision how you apply this knowledge, but before you choose, ask yourself: is this why you chose to learn ML?\n",
        "\n",
        "\n",
        "# LLMs Alignment with Reinforcement Learning from human feedback (RLHF).\n",
        "\n",
        "_based on the [original notebook](https://github.com/antndlcrx/oxford-llms-workshop/blob/main/materials/seminars/day_3/8_LLMs%20alignment%20with%20RLHF.ipynb) by Ilya Boytsov for the Oxford LLMs workshop_\n",
        "\n"
      ]
    },
    {
      "cell_type": "markdown",
      "metadata": {
        "id": "bgfL4bSSAXan"
      },
      "source": [
        "In this session, you're gonna fine-tune a language model with reinforcement learning to make it generate good (or bad) reviews.\n",
        "\n",
        "To perform RL-based fine-tuning, we'll use a new (in this course) library called [Transformer Reinforcement Learning (TRL)](https://huggingface.co/docs/trl). TRL implements the main reinforcement learning components of RLHF: reward modeling and fine-tuning with PPO.\n",
        "\n",
        "![img](https://huggingface.co/datasets/trl-internal-testing/example-images/resolve/main/images/TRL-readme.png)"
      ]
    },
    {
      "cell_type": "code",
      "source": [
        "%pip install -q trl==0.7.4 transformers==4.33.1 datasets==2.14.4 peft==0.5.0"
      ],
      "metadata": {
        "id": "uADkArNHQDW6"
      },
      "execution_count": 1,
      "outputs": []
    },
    {
      "cell_type": "code",
      "source": [
        "%pip install -U datasets"
      ],
      "metadata": {
        "colab": {
          "base_uri": "https://localhost:8080/"
        },
        "id": "gZ_bG-oGI4eK",
        "outputId": "00f1ddb9-72a3-453d-9417-f5b3f96f91b8"
      },
      "execution_count": 2,
      "outputs": [
        {
          "output_type": "stream",
          "name": "stdout",
          "text": [
            "Requirement already satisfied: datasets in /usr/local/lib/python3.10/dist-packages (2.14.4)\n",
            "Collecting datasets\n",
            "  Using cached datasets-3.2.0-py3-none-any.whl.metadata (20 kB)\n",
            "Requirement already satisfied: filelock in /usr/local/lib/python3.10/dist-packages (from datasets) (3.16.1)\n",
            "Requirement already satisfied: numpy>=1.17 in /usr/local/lib/python3.10/dist-packages (from datasets) (1.26.4)\n",
            "Requirement already satisfied: pyarrow>=15.0.0 in /usr/local/lib/python3.10/dist-packages (from datasets) (17.0.0)\n",
            "Requirement already satisfied: dill<0.3.9,>=0.3.0 in /usr/local/lib/python3.10/dist-packages (from datasets) (0.3.7)\n",
            "Requirement already satisfied: pandas in /usr/local/lib/python3.10/dist-packages (from datasets) (2.2.2)\n",
            "Requirement already satisfied: requests>=2.32.2 in /usr/local/lib/python3.10/dist-packages (from datasets) (2.32.3)\n",
            "Requirement already satisfied: tqdm>=4.66.3 in /usr/local/lib/python3.10/dist-packages (from datasets) (4.66.6)\n",
            "Requirement already satisfied: xxhash in /usr/local/lib/python3.10/dist-packages (from datasets) (3.5.0)\n",
            "Requirement already satisfied: multiprocess<0.70.17 in /usr/local/lib/python3.10/dist-packages (from datasets) (0.70.15)\n",
            "Requirement already satisfied: fsspec<=2024.9.0,>=2023.1.0 in /usr/local/lib/python3.10/dist-packages (from fsspec[http]<=2024.9.0,>=2023.1.0->datasets) (2024.9.0)\n",
            "Requirement already satisfied: aiohttp in /usr/local/lib/python3.10/dist-packages (from datasets) (3.11.10)\n",
            "Requirement already satisfied: huggingface-hub>=0.23.0 in /usr/local/lib/python3.10/dist-packages (from datasets) (0.26.5)\n",
            "Requirement already satisfied: packaging in /usr/local/lib/python3.10/dist-packages (from datasets) (24.2)\n",
            "Requirement already satisfied: pyyaml>=5.1 in /usr/local/lib/python3.10/dist-packages (from datasets) (6.0.2)\n",
            "Requirement already satisfied: aiohappyeyeballs>=2.3.0 in /usr/local/lib/python3.10/dist-packages (from aiohttp->datasets) (2.4.4)\n",
            "Requirement already satisfied: aiosignal>=1.1.2 in /usr/local/lib/python3.10/dist-packages (from aiohttp->datasets) (1.3.2)\n",
            "Requirement already satisfied: async-timeout<6.0,>=4.0 in /usr/local/lib/python3.10/dist-packages (from aiohttp->datasets) (4.0.3)\n",
            "Requirement already satisfied: attrs>=17.3.0 in /usr/local/lib/python3.10/dist-packages (from aiohttp->datasets) (24.2.0)\n",
            "Requirement already satisfied: frozenlist>=1.1.1 in /usr/local/lib/python3.10/dist-packages (from aiohttp->datasets) (1.5.0)\n",
            "Requirement already satisfied: multidict<7.0,>=4.5 in /usr/local/lib/python3.10/dist-packages (from aiohttp->datasets) (6.1.0)\n",
            "Requirement already satisfied: propcache>=0.2.0 in /usr/local/lib/python3.10/dist-packages (from aiohttp->datasets) (0.2.1)\n",
            "Requirement already satisfied: yarl<2.0,>=1.17.0 in /usr/local/lib/python3.10/dist-packages (from aiohttp->datasets) (1.18.3)\n",
            "Requirement already satisfied: typing-extensions>=3.7.4.3 in /usr/local/lib/python3.10/dist-packages (from huggingface-hub>=0.23.0->datasets) (4.12.2)\n",
            "Requirement already satisfied: charset-normalizer<4,>=2 in /usr/local/lib/python3.10/dist-packages (from requests>=2.32.2->datasets) (3.4.0)\n",
            "Requirement already satisfied: idna<4,>=2.5 in /usr/local/lib/python3.10/dist-packages (from requests>=2.32.2->datasets) (3.10)\n",
            "Requirement already satisfied: urllib3<3,>=1.21.1 in /usr/local/lib/python3.10/dist-packages (from requests>=2.32.2->datasets) (2.2.3)\n",
            "Requirement already satisfied: certifi>=2017.4.17 in /usr/local/lib/python3.10/dist-packages (from requests>=2.32.2->datasets) (2024.8.30)\n",
            "Requirement already satisfied: python-dateutil>=2.8.2 in /usr/local/lib/python3.10/dist-packages (from pandas->datasets) (2.8.2)\n",
            "Requirement already satisfied: pytz>=2020.1 in /usr/local/lib/python3.10/dist-packages (from pandas->datasets) (2024.2)\n",
            "Requirement already satisfied: tzdata>=2022.7 in /usr/local/lib/python3.10/dist-packages (from pandas->datasets) (2024.2)\n",
            "Requirement already satisfied: six>=1.5 in /usr/local/lib/python3.10/dist-packages (from python-dateutil>=2.8.2->pandas->datasets) (1.17.0)\n",
            "Using cached datasets-3.2.0-py3-none-any.whl (480 kB)\n",
            "Installing collected packages: datasets\n",
            "  Attempting uninstall: datasets\n",
            "    Found existing installation: datasets 2.14.4\n",
            "    Uninstalling datasets-2.14.4:\n",
            "      Successfully uninstalled datasets-2.14.4\n",
            "Successfully installed datasets-3.2.0\n"
          ]
        }
      ]
    },
    {
      "cell_type": "markdown",
      "metadata": {
        "id": "8cJfrTbFYAx8"
      },
      "source": [
        "### Tutorial: align the model to generate positive movie reviews\n",
        "\n",
        "To see how TRL works, we'll use it to align GPT2 on IMDB dataset to generate positive (or negative) movie reviews. In fact, __it's your choice whether you want positive or negative reviews.__\n",
        "\n",
        "But before you choose, let's take a look at the baseline model: a GPT-2 fine-tuned on generating arbitrary movie reviews."
      ]
    },
    {
      "cell_type": "code",
      "source": [
        "import torch\n",
        "import transformers\n",
        "device = torch.device('cuda' if torch.cuda.is_available() else 'cpu')\n",
        "main_tokenizer = transformers.AutoTokenizer.from_pretrained(\"lvwerra/gpt2-imdb\")\n",
        "main_model = transformers.AutoModelForCausalLM.from_pretrained(\"lvwerra/gpt2-imdb\", device_map=device)"
      ],
      "metadata": {
        "id": "pHs22MXdPify",
        "colab": {
          "base_uri": "https://localhost:8080/"
        },
        "outputId": "3d9d9733-c5ec-4493-e970-d346d9231f5a"
      },
      "execution_count": 3,
      "outputs": [
        {
          "output_type": "stream",
          "name": "stderr",
          "text": [
            "/usr/local/lib/python3.10/dist-packages/huggingface_hub/file_download.py:797: FutureWarning: `resume_download` is deprecated and will be removed in version 1.0.0. Downloads always resume when possible. If you want to force a new download, use `force_download=True`.\n",
            "  warnings.warn(\n",
            "/usr/local/lib/python3.10/dist-packages/huggingface_hub/utils/_auth.py:94: UserWarning: \n",
            "The secret `HF_TOKEN` does not exist in your Colab secrets.\n",
            "To authenticate with the Hugging Face Hub, create a token in your settings tab (https://huggingface.co/settings/tokens), set it as secret in your Google Colab and restart your session.\n",
            "You will be able to reuse this secret in all of your notebooks.\n",
            "Please note that authentication is recommended but still optional to access public models or datasets.\n",
            "  warnings.warn(\n",
            "/usr/local/lib/python3.10/dist-packages/transformers/utils/generic.py:311: FutureWarning: `torch.utils._pytree._register_pytree_node` is deprecated. Please use `torch.utils._pytree.register_pytree_node` instead.\n",
            "  torch.utils._pytree._register_pytree_node(\n",
            "/usr/local/lib/python3.10/dist-packages/transformers/utils/generic.py:311: FutureWarning: `torch.utils._pytree._register_pytree_node` is deprecated. Please use `torch.utils._pytree.register_pytree_node` instead.\n",
            "  torch.utils._pytree._register_pytree_node(\n",
            "/usr/local/lib/python3.10/dist-packages/transformers/modeling_utils.py:488: FutureWarning: You are using `torch.load` with `weights_only=False` (the current default value), which uses the default pickle module implicitly. It is possible to construct malicious pickle data which will execute arbitrary code during unpickling (See https://github.com/pytorch/pytorch/blob/main/SECURITY.md#untrusted-models for more details). In a future release, the default value for `weights_only` will be flipped to `True`. This limits the functions that could be executed during unpickling. Arbitrary objects will no longer be allowed to be loaded via this mode unless they are explicitly allowlisted by the user via `torch.serialization.add_safe_globals`. We recommend you start setting `weights_only=True` for any use case where you don't have full control of the loaded file. Please open an issue on GitHub for any issues related to this experimental feature.\n",
            "  return torch.load(checkpoint_file, map_location=map_location)\n",
            "/usr/local/lib/python3.10/dist-packages/huggingface_hub/file_download.py:797: FutureWarning: `resume_download` is deprecated and will be removed in version 1.0.0. Downloads always resume when possible. If you want to force a new download, use `force_download=True`.\n",
            "  warnings.warn(\n"
          ]
        }
      ]
    },
    {
      "cell_type": "code",
      "source": [
        "inputs = main_tokenizer(\"The movie\", return_tensors='pt').to(device)\n",
        "generated_ids = main_model.generate(**inputs, max_new_tokens=50, do_sample=True)\n",
        "print(\"\\nGenerated text:\", main_tokenizer.decode(generated_ids.flatten().cpu().numpy().tolist()))"
      ],
      "metadata": {
        "colab": {
          "base_uri": "https://localhost:8080/"
        },
        "id": "KE3jo7uhQrvK",
        "outputId": "2ab791f2-68a6-4999-fb1b-f18883e32cce"
      },
      "execution_count": 4,
      "outputs": [
        {
          "output_type": "stream",
          "name": "stderr",
          "text": [
            "Setting `pad_token_id` to `eos_token_id`:50256 for open-end generation.\n"
          ]
        },
        {
          "output_type": "stream",
          "name": "stdout",
          "text": [
            "\n",
            "Generated text: The movie is very well put together and with some excellent acting. When it's all said and the writer and director are out there again, it's always better than having a bunch of people work together to do the job right.<br /><br />The\n"
          ]
        }
      ]
    },
    {
      "cell_type": "markdown",
      "source": [
        "If you run this cell a couple of times, you'll see that the model generates both positive, negative and neutral reviews in some proportion. What we're gonna do next is teach the model to generate more positive (or negative) reviews.\n",
        "\n",
        "Similarly to InstructGPT, we're gonna do that in 2 stages:\n",
        "- **train a reward model** to assign higher values to positive (or negative) reviews\n",
        "- fine-tune the language model to **maximize that reward using [proximal policy optimization](https://openai.com/research/openai-baselines-ppo)**\n",
        "\n"
      ],
      "metadata": {
        "id": "dJbfhMEpR4Sz"
      }
    },
    {
      "cell_type": "markdown",
      "metadata": {
        "id": "Bcv4uC7xb26Z"
      },
      "source": [
        "## Stage 1: train a reward model\n",
        "\n",
        "First, we'll train a BERT-like model as our reward model. We'll generate a synthetic pairwise rankings to emulate human rankings.\n",
        "\n",
        "__Q:__ why do I need a reward model? Can I just use a pre-trained sentiment classifier? <br> __A:__ Yes, you can - but that only works for movie reviews. But this tutorial will teach you how to do RLHF for any kind objective.\n",
        "\n",
        "\n",
        "__If you actually want to maximize sentiment (or other \"label\") instead of human preferences, train reward model as a classifier! (see week5)__\n"
      ]
    },
    {
      "cell_type": "code",
      "source": [
        "# We'll be fine-tuning a small BERT-like model for now. Please try other models for the main assignment.\n",
        "reward_model = transformers.AutoModelForSequenceClassification.from_pretrained(\"distilbert-base-cased\", device_map=device)\n",
        "reward_tokenizer = transformers.AutoTokenizer.from_pretrained(\"distilbert-base-cased\")"
      ],
      "metadata": {
        "colab": {
          "base_uri": "https://localhost:8080/"
        },
        "id": "WeOdZ_ayc9dy",
        "outputId": "d92ddf46-0fe0-46d8-e621-71db3292fb94"
      },
      "execution_count": 5,
      "outputs": [
        {
          "output_type": "stream",
          "name": "stderr",
          "text": [
            "Some weights of DistilBertForSequenceClassification were not initialized from the model checkpoint at distilbert-base-cased and are newly initialized: ['pre_classifier.weight', 'classifier.bias', 'pre_classifier.bias', 'classifier.weight']\n",
            "You should probably TRAIN this model on a down-stream task to be able to use it for predictions and inference.\n"
          ]
        }
      ]
    },
    {
      "cell_type": "markdown",
      "source": [
        "__Note that__ the reward model has a separate tokenizer, different from the main model. They don't need to be the same for RLHF fine-tuning."
      ],
      "metadata": {
        "id": "_ZUUNQo-d11b"
      }
    },
    {
      "cell_type": "code",
      "source": [
        "# To train a reward model, you need a dataset (or generator) of positive-negative pairs.\n",
        "# Each training sample should be a dict with 4 keys:\n",
        "#  - input_ids_chosen, attention_mask_chosen = tokenizer(\"A sentence that human labeler likes more\")\n",
        "#  - input_ids_rejected, attention_mask_rejected = tokenizer(\"A sentence that human labeler likes less\")\n",
        "\n",
        "import torch\n",
        "import datasets\n",
        "\n",
        "class IMDBPairwiseDataset(torch.utils.data.Dataset):\n",
        "    \"\"\" A dataset of all possible pairs of chosen and texts in TRT reward training format \"\"\"\n",
        "    def __init__(self, imdb, tokenizer, accepted_label: int):\n",
        "        super().__init__()\n",
        "        self.tokenizer = tokenizer\n",
        "        self.chosen_texts = [row['text'] for row in imdb if row['label'] == accepted_label]\n",
        "        self.rejected_texts = [row['text'] for row in imdb if row['label'] != accepted_label]\n",
        "        assert self.chosen_texts, f\"no texts with label {accepted_label}\"\n",
        "        print(f\"Found {len(self.chosen_texts)} chosen and {len(self.rejected_texts)} rejected texts, {len(self)} pairs\")\n",
        "\n",
        "    def __len__(self):\n",
        "        return len(self.chosen_texts) * len(self.rejected_texts)  # all pairs\n",
        "\n",
        "    def __getitem__(self, index: int):\n",
        "        chosen = self.tokenizer(self.chosen_texts[index // len(self.chosen_texts)], truncation=True)\n",
        "        rejected = self.tokenizer(self.rejected_texts[index % len(self.chosen_texts)], truncation=True)\n",
        "        return dict(input_ids_chosen=chosen['input_ids'], attention_mask_chosen=chosen['attention_mask'],\n",
        "                    input_ids_rejected=rejected['input_ids'], attention_mask_rejected=rejected['attention_mask'])"
      ],
      "metadata": {
        "id": "TTWR-48ZXQX6"
      },
      "execution_count": 6,
      "outputs": []
    },
    {
      "cell_type": "code",
      "source": [
        "# [d for d in datasets.list_datasets() if 'imdb' in d]"
      ],
      "metadata": {
        "id": "a1CyIEDxDWXX"
      },
      "execution_count": 7,
      "outputs": []
    },
    {
      "cell_type": "code",
      "source": [
        "TARGET_LABEL = 0   # and make sure it works by reviewing the sample printed below\n",
        "imdb = datasets.load_dataset(\"imdb\", split='train')\n",
        "reward_data = IMDBPairwiseDataset(imdb, reward_tokenizer, accepted_label=TARGET_LABEL)\n",
        "\n",
        "sample = reward_data[31337]\n",
        "print('CHOSEN:', reward_tokenizer.decode(sample['input_ids_chosen']))\n",
        "print('REJECTED:', reward_tokenizer.decode(sample['input_ids_rejected']))"
      ],
      "metadata": {
        "colab": {
          "base_uri": "https://localhost:8080/"
        },
        "id": "olo-bvgNcwEC",
        "outputId": "e129523f-efb2-4ef6-9be4-b10271b11c18"
      },
      "execution_count": 8,
      "outputs": [
        {
          "output_type": "stream",
          "name": "stdout",
          "text": [
            "Found 12500 chosen and 12500 rejected texts, 156250000 pairs\n",
            "CHOSEN: [CLS] If only to avoid making this type of film in the future. This film is interesting as an experiment but tells no cogent story. < br / > < br / > One might feel virtuous for sitting thru it because it touches on so many IMPORTANT issues but it does so without any discernable motive. The viewer comes away with no new perspectives ( unless one comes up with one while one's mind wanders, as it will invariably do during this pointless film ). < br / > < br / > One might better spend one's time staring out a window at a tree growing. < br / > < br / > [SEP]\n",
            "REJECTED: [CLS] This movie has some things that are pretty amazing. First, it is supposed to be based on a true story. That, in itself, is amazing that multiple tornadoes would hit the same town at night in the fall - in Nebraska. I wonder if the real town's name was close to \" Blainsworth \" ( which is the town's name in the movie ). There is an Ainsworth, Nebraska, but there is also a town that starts with Blains - something. < br / > < br / > It does show the slowest moving tornadoes on record in the the seen where the boys are in the house. On the other hand, the scene where the TV goes fuzzy is based in fact. Before Doppler radar and weather radio, we were taught that if you turned your TV to a particular channel ( not on cable ) and tuned the brightness just right, you could tell if there was a tornado coming. The problem was that by then you would be able to hear it. < br / > < br / > Since I know something about midwest tornadoes, it made this movie fun for me. I enjoy it more than Twister. I mean, give me a break - there is no way you could make it through and F5 by chaining yourself to a pipe in a well house. [SEP]\n"
          ]
        }
      ]
    },
    {
      "cell_type": "markdown",
      "source": [
        "We'll be using `trl.RewardTrainer` - a special case of `transformers.Trainer` that you used in the past. `RewardTrainer` accepts the same format of training arguments (e.g. batch size, gradient checkpointing) as before, except that it trains the model for the pairwise reward objective from [the InstructGPT paper](https://arxiv.org/pdf/2203.02155.pdf):\n",
        "\n",
        "![img](https://i.imgur.com/2JzNAPs.png)\n",
        "\n",
        "Note that the model itself does not score pairs: it processes chosen ($y_w$) and rejected ($y_l$) samples independently. To minimize this loss, the reward model needs to score chosen sample higher than the rejected one. Note that the formula also assumes some context $x$, which is useful for seq2seq tasks. In our case of movie reviews, $x$ is empty."
      ],
      "metadata": {
        "id": "kZRczyofiSl0"
      }
    },
    {
      "cell_type": "code",
      "source": [
        "import trl\n",
        "\n",
        "training_args = trl.RewardConfig(  # like transformers.TrainingArguments\n",
        "    output_dir=\"reward_model\",\n",
        "    per_device_train_batch_size=32,\n",
        "    gradient_accumulation_steps=1,\n",
        "    learning_rate=1.41e-5,\n",
        "    max_steps=1_000,              # note: training may need more than 1k steps\n",
        "    logging_steps=50,\n",
        "    gradient_checkpointing=True,  # reduce memory usage but train ~30% slower\n",
        "    gradient_checkpointing_kwargs={\"use_reentrant\": False},\n",
        "    fp16=True                     # disable this on CPU or on very old GPUs\n",
        "    # you may add any other hyperparameters that you found useful in weeks 5-7\n",
        ")\n",
        "\n",
        "trainer = trl.RewardTrainer(\n",
        "    model=reward_model,\n",
        "    args=training_args,\n",
        "    tokenizer=reward_tokenizer,\n",
        "    train_dataset=reward_data,\n",
        "    peft_config=None,  # optionally, you may tune with LoRA, prompt-tuning, etc\n",
        ")\n",
        "\n",
        "trainer.train()"
      ],
      "metadata": {
        "colab": {
          "base_uri": "https://localhost:8080/",
          "height": 1000
        },
        "id": "oaQ_-JAzakJs",
        "outputId": "342fe7a6-31d6-44bf-af59-df89f3eb741d"
      },
      "execution_count": 9,
      "outputs": [
        {
          "output_type": "stream",
          "name": "stderr",
          "text": [
            "/usr/local/lib/python3.10/dist-packages/transformers/utils/generic.py:311: FutureWarning: `torch.utils._pytree._register_pytree_node` is deprecated. Please use `torch.utils._pytree.register_pytree_node` instead.\n",
            "  torch.utils._pytree._register_pytree_node(\n",
            "/usr/local/lib/python3.10/dist-packages/trl/trainer/ppo_config.py:141: UserWarning: The `optimize_cuda_cache` arguement will be deprecated soon, please use `optimize_device_cache` instead.\n",
            "  warnings.warn(\n",
            "/usr/local/lib/python3.10/dist-packages/trl/trainer/reward_trainer.py:174: UserWarning: When using RewardDataCollatorWithPadding, you should set `max_length` in RewardConfig. It will be set to `512` by default, but you should do it yourself in the future.\n",
            "  warnings.warn(\n",
            "/usr/local/lib/python3.10/dist-packages/trl/trainer/reward_trainer.py:191: UserWarning: When using RewardDataCollatorWithPadding, you should set `remove_unused_columns=False` in your RewardConfig we have set it for you, but you should do it yourself in the future.\n",
            "  warnings.warn(\n",
            "/usr/local/lib/python3.10/dist-packages/accelerate/accelerator.py:433: FutureWarning: `torch.cuda.amp.GradScaler(args...)` is deprecated. Please use `torch.amp.GradScaler('cuda', args...)` instead.\n",
            "  self.scaler = torch.cuda.amp.GradScaler(**kwargs)\n",
            "\u001b[34m\u001b[1mwandb\u001b[0m: Using wandb-core as the SDK backend.  Please refer to https://wandb.me/wandb-core for more information.\n",
            "\u001b[34m\u001b[1mwandb\u001b[0m: Currently logged in as: \u001b[33myazykov-sa\u001b[0m (\u001b[33myazykov-sa-m-v-lomonosovmoscow-state-university\u001b[0m). Use \u001b[1m`wandb login --relogin`\u001b[0m to force relogin\n"
          ]
        },
        {
          "output_type": "display_data",
          "data": {
            "text/plain": [
              "<IPython.core.display.HTML object>"
            ],
            "text/html": [
              "Tracking run with wandb version 0.18.7"
            ]
          },
          "metadata": {}
        },
        {
          "output_type": "display_data",
          "data": {
            "text/plain": [
              "<IPython.core.display.HTML object>"
            ],
            "text/html": [
              "Run data is saved locally in <code>/content/wandb/run-20241218_001819-r91o9dct</code>"
            ]
          },
          "metadata": {}
        },
        {
          "output_type": "display_data",
          "data": {
            "text/plain": [
              "<IPython.core.display.HTML object>"
            ],
            "text/html": [
              "Syncing run <strong><a href='https://wandb.ai/yazykov-sa-m-v-lomonosovmoscow-state-university/huggingface/runs/r91o9dct' target=\"_blank\">fluent-paper-3</a></strong> to <a href='https://wandb.ai/yazykov-sa-m-v-lomonosovmoscow-state-university/huggingface' target=\"_blank\">Weights & Biases</a> (<a href='https://wandb.me/developer-guide' target=\"_blank\">docs</a>)<br/>"
            ]
          },
          "metadata": {}
        },
        {
          "output_type": "display_data",
          "data": {
            "text/plain": [
              "<IPython.core.display.HTML object>"
            ],
            "text/html": [
              " View project at <a href='https://wandb.ai/yazykov-sa-m-v-lomonosovmoscow-state-university/huggingface' target=\"_blank\">https://wandb.ai/yazykov-sa-m-v-lomonosovmoscow-state-university/huggingface</a>"
            ]
          },
          "metadata": {}
        },
        {
          "output_type": "display_data",
          "data": {
            "text/plain": [
              "<IPython.core.display.HTML object>"
            ],
            "text/html": [
              " View run at <a href='https://wandb.ai/yazykov-sa-m-v-lomonosovmoscow-state-university/huggingface/runs/r91o9dct' target=\"_blank\">https://wandb.ai/yazykov-sa-m-v-lomonosovmoscow-state-university/huggingface/runs/r91o9dct</a>"
            ]
          },
          "metadata": {}
        },
        {
          "output_type": "stream",
          "name": "stderr",
          "text": [
            "You're using a DistilBertTokenizerFast tokenizer. Please note that with a fast tokenizer, using the `__call__` method is faster than using a method to encode the text followed by a call to the `pad` method to get a padded encoding.\n",
            "/usr/local/lib/python3.10/dist-packages/transformers/tokenization_utils_base.py:2436: UserWarning: `max_length` is ignored when `padding`=`True` and there is no truncation strategy. To pad to max length, use `padding='max_length'`.\n",
            "  warnings.warn(\n",
            "/usr/local/lib/python3.10/dist-packages/torch/_dynamo/eval_frame.py:632: UserWarning: torch.utils.checkpoint: the use_reentrant parameter should be passed explicitly. In version 2.5 we will raise an exception if use_reentrant is not passed. use_reentrant=False is recommended, but if you need to preserve the current default behavior, you can pass use_reentrant=True. Refer to docs for more details on the differences between the two variants.\n",
            "  return fn(*args, **kwargs)\n",
            "Could not estimate the number of tokens of the input, floating-point operations will not be computed\n"
          ]
        },
        {
          "output_type": "display_data",
          "data": {
            "text/plain": [
              "<IPython.core.display.HTML object>"
            ],
            "text/html": [
              "\n",
              "    <div>\n",
              "      \n",
              "      <progress value='1000' max='1000' style='width:300px; height:20px; vertical-align: middle;'></progress>\n",
              "      [1000/1000 05:10, Epoch 0/1]\n",
              "    </div>\n",
              "    <table border=\"1\" class=\"dataframe\">\n",
              "  <thead>\n",
              " <tr style=\"text-align: left;\">\n",
              "      <th>Step</th>\n",
              "      <th>Training Loss</th>\n",
              "    </tr>\n",
              "  </thead>\n",
              "  <tbody>\n",
              "    <tr>\n",
              "      <td>50</td>\n",
              "      <td>0.598700</td>\n",
              "    </tr>\n",
              "    <tr>\n",
              "      <td>100</td>\n",
              "      <td>0.218400</td>\n",
              "    </tr>\n",
              "    <tr>\n",
              "      <td>150</td>\n",
              "      <td>0.146800</td>\n",
              "    </tr>\n",
              "    <tr>\n",
              "      <td>200</td>\n",
              "      <td>0.123500</td>\n",
              "    </tr>\n",
              "    <tr>\n",
              "      <td>250</td>\n",
              "      <td>0.103000</td>\n",
              "    </tr>\n",
              "    <tr>\n",
              "      <td>300</td>\n",
              "      <td>0.111000</td>\n",
              "    </tr>\n",
              "    <tr>\n",
              "      <td>350</td>\n",
              "      <td>0.091500</td>\n",
              "    </tr>\n",
              "    <tr>\n",
              "      <td>400</td>\n",
              "      <td>0.084100</td>\n",
              "    </tr>\n",
              "    <tr>\n",
              "      <td>450</td>\n",
              "      <td>0.068200</td>\n",
              "    </tr>\n",
              "    <tr>\n",
              "      <td>500</td>\n",
              "      <td>0.069100</td>\n",
              "    </tr>\n",
              "    <tr>\n",
              "      <td>550</td>\n",
              "      <td>0.077100</td>\n",
              "    </tr>\n",
              "    <tr>\n",
              "      <td>600</td>\n",
              "      <td>0.066200</td>\n",
              "    </tr>\n",
              "    <tr>\n",
              "      <td>650</td>\n",
              "      <td>0.066400</td>\n",
              "    </tr>\n",
              "    <tr>\n",
              "      <td>700</td>\n",
              "      <td>0.080200</td>\n",
              "    </tr>\n",
              "    <tr>\n",
              "      <td>750</td>\n",
              "      <td>0.072800</td>\n",
              "    </tr>\n",
              "    <tr>\n",
              "      <td>800</td>\n",
              "      <td>0.072100</td>\n",
              "    </tr>\n",
              "    <tr>\n",
              "      <td>850</td>\n",
              "      <td>0.075900</td>\n",
              "    </tr>\n",
              "    <tr>\n",
              "      <td>900</td>\n",
              "      <td>0.068300</td>\n",
              "    </tr>\n",
              "    <tr>\n",
              "      <td>950</td>\n",
              "      <td>0.069500</td>\n",
              "    </tr>\n",
              "    <tr>\n",
              "      <td>1000</td>\n",
              "      <td>0.073500</td>\n",
              "    </tr>\n",
              "  </tbody>\n",
              "</table><p>"
            ]
          },
          "metadata": {}
        },
        {
          "output_type": "stream",
          "name": "stderr",
          "text": [
            "/usr/local/lib/python3.10/dist-packages/transformers/tokenization_utils_base.py:2436: UserWarning: `max_length` is ignored when `padding`=`True` and there is no truncation strategy. To pad to max length, use `padding='max_length'`.\n",
            "  warnings.warn(\n",
            "/usr/local/lib/python3.10/dist-packages/torch/_dynamo/eval_frame.py:632: UserWarning: torch.utils.checkpoint: the use_reentrant parameter should be passed explicitly. In version 2.5 we will raise an exception if use_reentrant is not passed. use_reentrant=False is recommended, but if you need to preserve the current default behavior, you can pass use_reentrant=True. Refer to docs for more details on the differences between the two variants.\n",
            "  return fn(*args, **kwargs)\n"
          ]
        },
        {
          "output_type": "execute_result",
          "data": {
            "text/plain": [
              "TrainOutput(global_step=1000, training_loss=0.11681960272789002, metrics={'train_runtime': 335.0787, 'train_samples_per_second': 95.5, 'train_steps_per_second': 2.984, 'total_flos': 0.0, 'train_loss': 0.11681960272789002, 'epoch': 0.0})"
            ]
          },
          "metadata": {},
          "execution_count": 9
        }
      ]
    },
    {
      "cell_type": "code",
      "source": [
        "reward_model.gradient_checkpointing_disable()\n",
        "reward_model.eval()"
      ],
      "metadata": {
        "colab": {
          "base_uri": "https://localhost:8080/"
        },
        "id": "CRk7z-2r4C-A",
        "outputId": "7365ccfe-20a4-4cf6-deb6-863b0233ccfa"
      },
      "execution_count": 13,
      "outputs": [
        {
          "output_type": "execute_result",
          "data": {
            "text/plain": [
              "DistilBertForSequenceClassification(\n",
              "  (distilbert): DistilBertModel(\n",
              "    (embeddings): Embeddings(\n",
              "      (word_embeddings): Embedding(28996, 768, padding_idx=0)\n",
              "      (position_embeddings): Embedding(512, 768)\n",
              "      (LayerNorm): LayerNorm((768,), eps=1e-12, elementwise_affine=True)\n",
              "      (dropout): Dropout(p=0.1, inplace=False)\n",
              "    )\n",
              "    (transformer): Transformer(\n",
              "      (layer): ModuleList(\n",
              "        (0-5): 6 x TransformerBlock(\n",
              "          (attention): MultiHeadSelfAttention(\n",
              "            (dropout): Dropout(p=0.1, inplace=False)\n",
              "            (q_lin): Linear(in_features=768, out_features=768, bias=True)\n",
              "            (k_lin): Linear(in_features=768, out_features=768, bias=True)\n",
              "            (v_lin): Linear(in_features=768, out_features=768, bias=True)\n",
              "            (out_lin): Linear(in_features=768, out_features=768, bias=True)\n",
              "          )\n",
              "          (sa_layer_norm): LayerNorm((768,), eps=1e-12, elementwise_affine=True)\n",
              "          (ffn): FFN(\n",
              "            (dropout): Dropout(p=0.1, inplace=False)\n",
              "            (lin1): Linear(in_features=768, out_features=3072, bias=True)\n",
              "            (lin2): Linear(in_features=3072, out_features=768, bias=True)\n",
              "            (activation): GELUActivation()\n",
              "          )\n",
              "          (output_layer_norm): LayerNorm((768,), eps=1e-12, elementwise_affine=True)\n",
              "        )\n",
              "      )\n",
              "    )\n",
              "  )\n",
              "  (pre_classifier): Linear(in_features=768, out_features=768, bias=True)\n",
              "  (classifier): Linear(in_features=768, out_features=2, bias=True)\n",
              "  (dropout): Dropout(p=0.2, inplace=False)\n",
              ")"
            ]
          },
          "metadata": {},
          "execution_count": 13
        }
      ]
    },
    {
      "cell_type": "markdown",
      "source": [
        "### Sanity-check the reward model (1 point)\n",
        "\n",
        "Let's check how our reward model performs.\n",
        "\n",
        "__Your task__ is to measure how often does your reward model can rank a pair of (chosen and rejected) reviews correctly. Please measure this separately for train data (`imdb`) and a separate test set loaded below."
      ],
      "metadata": {
        "id": "wZIaS-gRo8yc"
      }
    },
    {
      "cell_type": "code",
      "source": [
        "\n",
        "for sample_index in 45, 16000:\n",
        "  print('TEXT:', imdb[sample_index]['text'])\n",
        "  inputs = reward_tokenizer(\n",
        "      imdb[sample_index]['text'], truncation=True, return_tensors='pt').to(device)\n",
        "  with torch.no_grad():\n",
        "    reward = reward_model(**inputs).logits[0, 0].item()\n",
        "    print(\"REWARD:\", reward)\n",
        "  print('LABEL:', imdb[sample_index]['label'])\n",
        "  print()\n",
        "\n",
        "# note: your reward model may produce different absolute rewards.\n",
        "# This is fine as long as the rewards are ordered correctly (most of the time)"
      ],
      "metadata": {
        "colab": {
          "base_uri": "https://localhost:8080/"
        },
        "id": "IeQ108nOZ7nO",
        "outputId": "fd74288d-d66a-4cba-f1a2-a09136ca5051"
      },
      "execution_count": 14,
      "outputs": [
        {
          "output_type": "stream",
          "name": "stdout",
          "text": [
            "TEXT: This movie sucked. It really was a waste of my life. The acting was atrocious, the plot completely implausible. Long, long story short, these people get \"terrorized\" by this pathetic \"crazed killer\", but completely fail to fight back in any manner. And this is after they take a raft on a camping trip, with no gear, and show up at a campsite that is already assembled and completely stocked with food and clothes and the daughters headphones. Additionally, after their boat goes missing, they panic that they're stuck in the woods, but then the daughters boyfriend just shows up and they apparently never consider that they could just hike out of the woods like he did to get to them. Like I said, this movie sucks. A complete joke. Don't let your girlfriend talk you into watching it.\n",
            "REWARD: 4.66015625\n",
            "LABEL: 0\n",
            "\n",
            "TEXT: Good: Engaging cinematic firefights, great presentation, vehicles are actually fun to drive, fairly appealing multiplayer, faithful to the movie, and the list goes on.<br /><br />Bad: Main missions are a bit short.<br /><br />This game defines what a \"good\" third person shooter(not necessarily a spy-game) is. Great firefights carry on the story and make you want to complete EVERY single mission through, and unlock all the genuine bonuses the game has to offer. The hype this game had, was lived up to, and I personally think you should buy it, and hook up with a couple of friends and play this one. Loads of fun. <br /><br />The sound in this game, is a rip-roaring achievement from a few previous bond games, and firing a weapon, really feels like you're firing a weapon. It ties in with the aspect that you are a deadly and ruthless spy.<br /><br />All in all, this game makes you excited and satisfied after you make it through, and some multiplayer that can compete with the standards of the crafty James Bond \"Nightfire\" game for gamecube.\n",
            "REWARD: -5.17578125\n",
            "LABEL: 1\n",
            "\n"
          ]
        }
      ]
    },
    {
      "cell_type": "code",
      "source": [
        "def evaluate_reward_model(dataset, model, tokenizer, direction = 0):\n",
        "\n",
        "    tp, fp, tn, fn = 0, 0, 0, 0\n",
        "\n",
        "    model.eval()\n",
        "    with torch.no_grad():\n",
        "        for row in dataset:\n",
        "            label = row['label']\n",
        "            inputs = tokenizer(row['text'], truncation=True, return_tensors='pt').to(device)\n",
        "            reward = reward_model(**inputs).logits[0, 0].item()\n",
        "            model_label = direction if reward > 0 else 1 - direction\n",
        "            if label == model_label:\n",
        "                if model_label == 1:\n",
        "                    tp += 1\n",
        "                else:\n",
        "                    tn += 1\n",
        "            else:\n",
        "                if model_label == 1:\n",
        "                    fp += 1\n",
        "                else:\n",
        "                    fn += 1\n",
        "    return [tp, fp, tn, fn]"
      ],
      "metadata": {
        "id": "VEt2AXdcVE-w"
      },
      "execution_count": 33,
      "outputs": []
    },
    {
      "cell_type": "code",
      "source": [
        "imdb_test = datasets.load_dataset(\"imdb\", split='test')\n",
        "\n",
        "train_result = evaluate_reward_model(imdb, reward_model, reward_tokenizer)\n",
        "test_result = evaluate_reward_model(imdb_test, reward_model, reward_tokenizer)\n",
        "\n",
        "# <a whole lot of your code here, feel free to spit it as you see fit>"
      ],
      "metadata": {
        "id": "aEevUrfqavnb"
      },
      "execution_count": 16,
      "outputs": []
    },
    {
      "cell_type": "code",
      "source": [
        "def calc_accuracy(result):\n",
        "    return round((result[0] + result[2]) / sum(result), 3)\n",
        "\n",
        "print(f'Train accuracy: {calc_accuracy(train_result)}; test accuracy: {calc_accuracy(test_result)}')"
      ],
      "metadata": {
        "colab": {
          "base_uri": "https://localhost:8080/"
        },
        "id": "rHyYkg2wZ3yv",
        "outputId": "e4381d85-99f8-4a9f-94cb-53674f18f664"
      },
      "execution_count": 17,
      "outputs": [
        {
          "output_type": "stream",
          "name": "stdout",
          "text": [
            "Train accuracy: 0.935; test accuracy: 0.912\n"
          ]
        }
      ]
    },
    {
      "cell_type": "markdown",
      "source": [
        "### Reward-guided generation (1 point)\n",
        "\n",
        "If you did everything right, by now you should have a decent reward model. Before we use it for reinforcement learning, let's see if we can align model samples without any training.\n",
        "\n",
        "To do so, you can use reward-guided inference: __generate N=16 samples, then select the one with the highest reward__ (according to your reward model).\n",
        "\n",
        "For this problem, it's on you to demonstrate whether or not your code works. Find at least 5 neutral prompts such as \"This movie is\" (...), generate samples, rank them based on reward and show which samples get the highest reward.\n",
        "\n",
        "Note: it is faster to generate samples in parallel, rather than sequentially, as follows:\n",
        "\n",
        "\n"
      ],
      "metadata": {
        "id": "NHCWHMyRw2-k"
      }
    },
    {
      "cell_type": "code",
      "source": [
        "inputs = main_tokenizer([\"It was\"] * 5, return_tensors='pt').to(device)\n",
        "for candidate in main_model.generate(**inputs, max_new_tokens=50, do_sample=True):\n",
        "  print(\"Sample:\", main_tokenizer.decode(candidate.flatten().cpu().numpy().tolist()))"
      ],
      "metadata": {
        "colab": {
          "base_uri": "https://localhost:8080/"
        },
        "id": "8BRsyb2cq5dR",
        "outputId": "75fe01ac-1010-40ad-9c7d-6177e1b75076"
      },
      "execution_count": 18,
      "outputs": [
        {
          "output_type": "stream",
          "name": "stderr",
          "text": [
            "Setting `pad_token_id` to `eos_token_id`:50256 for open-end generation.\n"
          ]
        },
        {
          "output_type": "stream",
          "name": "stdout",
          "text": [
            "Sample: It was a fun trip and i enjoyed both the cast and director.<br /><br />So stay away from these type of movies but just be prepared for a lot of surprises and surprises!<|endoftext|><|endoftext|><|endoftext|><|endoftext|><|endoftext|><|endoftext|><|endoftext|><|endoftext|><|endoftext|><|endoftext|><|endoftext|><|endoftext|><|endoftext|>\n",
            "Sample: It was a nice surprise, and it is a wonderful experience. I really thought the film was going to be over after the first hour, but it was a nice surprise, I really thought the film was going to be over after the first hour, but it\n",
            "Sample: It was a very strong movie with lots of action, the acting was outstanding. This movie is really bad. It was kind of sad. The characters were bland. The acting was okay too. But there is no mystery in this movie and there are some annoying\n",
            "Sample: It was not the same movie I just purchased when I found this in the back of my shelf...no suspense, little surprise to the cast, and very low-budget. This is one of the good movies I have made a habit of at the theater.\n",
            "Sample: It was quite an achievement, and by the end of it, I was convinced I'd be out by all that.<br /><br />The film did not disappoint me. There was some good acting, some terrific acting, some very tense scenes, some\n"
          ]
        }
      ]
    },
    {
      "cell_type": "code",
      "source": [
        "import numpy as np\n",
        "\n",
        "def reward_guided_inference(reward_model, reward_tokenizer, main_model, main_tokenizer, prompt, n_samples=16, max_length=50):\n",
        "    main_model.eval()\n",
        "    reward_model.eval()\n",
        "\n",
        "    input_ids = main_tokenizer(prompt, return_tensors='pt').input_ids.to(device)\n",
        "    with torch.no_grad():\n",
        "        outputs = main_model.generate(\n",
        "            input_ids=input_ids,\n",
        "            do_sample=True,\n",
        "            max_length=max_length,\n",
        "            num_return_sequences=n_samples,\n",
        "            pad_token_id=main_tokenizer.eos_token_id\n",
        "        )\n",
        "    samples = [main_tokenizer.decode(output, skip_special_tokens=True) for output in outputs]\n",
        "    rewards = []\n",
        "    for sample in samples:\n",
        "        inputs = reward_tokenizer(sample, truncation=True, return_tensors='pt').to(device)\n",
        "        with torch.no_grad():\n",
        "            reward = reward_model(**inputs).logits[0, 0].item()\n",
        "        rewards.append(reward)\n",
        "    best_index = np.argmax(rewards)\n",
        "    best_sample = samples[best_index]\n",
        "    best_reward = rewards[best_index]\n",
        "\n",
        "    return best_sample, best_reward"
      ],
      "metadata": {
        "id": "r08F4lz7yxE1"
      },
      "execution_count": 19,
      "outputs": []
    },
    {
      "cell_type": "code",
      "source": [
        "neutral_prompts = [\n",
        "    \"This movie is\",\n",
        "    \"The main character of the movie is\",\n",
        "    \"The movies plot revolves around\",\n",
        "    \"I think the story of this movie is\",\n",
        "    \"The movie leaves the audience\"\n",
        "]\n",
        "\n",
        "def demonstrate_reward_guided_inference():\n",
        "    for prompt in neutral_prompts:\n",
        "        print(f\"\\nPrompt: {prompt}\")\n",
        "        best_sample, best_reward = reward_guided_inference(\n",
        "            reward_model, reward_tokenizer, main_model, main_tokenizer, prompt\n",
        "        )\n",
        "\n",
        "        print(f\"Best Sample: {best_sample}\")\n",
        "        print(f\"Best Reward: {best_reward:.4f}\")\n",
        "        print(\"\\n\\n\\n\")\n",
        "\n",
        "demonstrate_reward_guided_inference()"
      ],
      "metadata": {
        "colab": {
          "base_uri": "https://localhost:8080/"
        },
        "id": "tWRyxIz-duwZ",
        "outputId": "009c33ab-5de4-4d20-b1ef-74ca5afa4b4a"
      },
      "execution_count": 20,
      "outputs": [
        {
          "output_type": "stream",
          "name": "stdout",
          "text": [
            "\n",
            "Prompt: This movie is\n",
            "Best Sample: This movie is so bad that the producers never really try to get the audience or any other audience involved so the director can get the fans involved. The only good thing about this movie is that the director's own family was involved too. If there is\n",
            "Best Reward: 4.4219\n",
            "\n",
            "\n",
            "\n",
            "\n",
            "\n",
            "Prompt: The main character of the movie is\n",
            "Best Sample: The main character of the movie is pretty awful, as if she is being watched by some man dressed like a dung-ho monster, so the rest of the movie is just a very boring pile of dung. This film is definitely worth seeing\n",
            "Best Reward: 4.0898\n",
            "\n",
            "\n",
            "\n",
            "\n",
            "\n",
            "Prompt: The movies plot revolves around\n",
            "Best Sample: The movies plot revolves around a man who finds this woman wandering out into the night looking for her and is attacked by a black bear. This is a terrible movie. If only the movie director were more like it and not just an excuse for the writers\n",
            "Best Reward: 4.3047\n",
            "\n",
            "\n",
            "\n",
            "\n",
            "\n",
            "Prompt: I think the story of this movie is\n",
            "Best Sample: I think the story of this movie is the main reason why he decided not to make the movie. He didn't like his daughter enough to decide what type of movie he wanted to make. In the last scene he had this strange feeling. When he\n",
            "Best Reward: 1.0068\n",
            "\n",
            "\n",
            "\n",
            "\n",
            "\n",
            "Prompt: The movie leaves the audience\n",
            "Best Sample: The movie leaves the audience bewildered (and even frustrated), and the audience can't tell whether the movie was worth watching or not.<br /><br />The plot is based on the book, and the movie is a bit too long and boring\n",
            "Best Reward: 4.1094\n",
            "\n",
            "\n",
            "\n",
            "\n"
          ]
        }
      ]
    },
    {
      "cell_type": "markdown",
      "metadata": {
        "id": "8NjQ40BRoH5f"
      },
      "source": [
        "# Stage 2: fine-tune the main model with RL\n",
        "\n",
        "\n",
        "For this tutorial, we will optimize GPT2 to produce positive IMDB movie reviews using the reward model you trained above.\n",
        "\n",
        "Unlike supervised fine-tuning, RL allows model to generate it's own sentences on each training step. Then, it calculates the reward of those specific sentences, and finally, updates the model to increase the probability of sentences with high reward.\n",
        "\n",
        "Thus, each RLHF consists of three stages: __Rollout__, __Evaluation__ and __Update__\n",
        "\n",
        "<div style=\"text-align: center\">\n",
        "<img src='https://huggingface.co/datasets/trl-internal-testing/example-images/resolve/main/images/gpt2_bert_training.png' width='600'>\n",
        "\n",
        "The update stage depends on the specific RL algorithm. We'll be using Proximal Policy Optimization, or [PPO](https://arxiv.org/abs/1707.06347), similarly to what was used for InstructGPT.\n",
        "\n",
        "Before we run those 3 stages, however, we need to create a dataset of \"queries\" - partial reviews in our case."
      ]
    },
    {
      "cell_type": "code",
      "source": [
        "# Note: this code is specific to IMDB; you will need to re-write it for other tasks\n",
        "imdb_for_rlhf = imdb.filter(lambda row: len(row['text']) > 200, batched=False)\n",
        "imdb_for_rlhf = imdb_for_rlhf.remove_columns(['label'])\n",
        "sample_length = trl.core.LengthSampler(2, 8)  # use the first 2-8 tokens as query\n",
        "\n",
        "def select_query_and_tokenize(sample):\n",
        "    query_ids = main_tokenizer.encode(sample[\"text\"])[: sample_length()]\n",
        "    sample[\"query\"] = main_tokenizer.decode(query_ids)  # query is the only required column\n",
        "    sample[\"input_ids\"] = query_ids  # to avoid re-tokenizing later\n",
        "    return sample  # we do not need the rest - it will be generated by the model\n",
        "\n",
        "imdb_for_rlhf = imdb_for_rlhf.map(select_query_and_tokenize, batched=False)\n",
        "imdb_for_rlhf.set_format(type=\"torch\")"
      ],
      "metadata": {
        "id": "jm5IUrer0xd_"
      },
      "execution_count": 21,
      "outputs": []
    },
    {
      "cell_type": "markdown",
      "source": [
        "Next, let's prepare your reward model to predict rewards on whatever reviews were generated. Note that we use plaintext reviews because main model uses a different tokenizer from the reward model."
      ],
      "metadata": {
        "id": "lKIAyilP3Bf1"
      }
    },
    {
      "cell_type": "code",
      "source": [
        "from typing import List\n",
        "def compute_reward(texts: List[str]) -> torch.Tensor:\n",
        "  inputs = reward_tokenizer(texts, truncation=True, padding=True, return_tensors='pt').to(device)\n",
        "  with torch.no_grad():\n",
        "    return reward_model(**inputs).logits[:, 0]"
      ],
      "metadata": {
        "id": "kkm4MLOr20Jk"
      },
      "execution_count": 22,
      "outputs": []
    },
    {
      "cell_type": "code",
      "source": [
        "compute_reward([imdb[45]['text'], imdb[16000]['text']])  # test on human-written reviews"
      ],
      "metadata": {
        "colab": {
          "base_uri": "https://localhost:8080/"
        },
        "id": "7wJto13M3vWu",
        "outputId": "97f2a785-984b-4660-cfb9-1b1873cb9ad2"
      },
      "execution_count": 23,
      "outputs": [
        {
          "output_type": "execute_result",
          "data": {
            "text/plain": [
              "tensor([ 4.6602, -5.1758], device='cuda:0')"
            ]
          },
          "metadata": {},
          "execution_count": 23
        }
      ]
    },
    {
      "cell_type": "markdown",
      "source": [
        "Finally, we move to RL training. In this tutorial, we'll train LoRA adapters and not the full model."
      ],
      "metadata": {
        "id": "U3buACYV4QLJ"
      }
    },
    {
      "cell_type": "code",
      "source": [
        "import peft\n",
        "peft_config = peft.LoraConfig(\n",
        "    task_type=peft.TaskType.CAUSAL_LM, r=32, lora_alpha=32, lora_dropout=0.0, inference_mode=False\n",
        ")\n",
        "\n",
        "# reload main model as AutoModelForCausalLMWithValueHead - with an extra head needed for PPO\n",
        "main_tokenizer = transformers.AutoTokenizer.from_pretrained(\"lvwerra/gpt2-imdb\")\n",
        "main_tokenizer.pad_token = main_tokenizer.eos_token\n",
        "\n",
        "main_model = trl.AutoModelForCausalLMWithValueHead.from_pretrained(\"lvwerra/gpt2-imdb\", device_map=device)\n",
        "main_model = peft.get_peft_model(main_model, peft_config, adapter_name='default')\n",
        "main_model.print_trainable_parameters()"
      ],
      "metadata": {
        "colab": {
          "base_uri": "https://localhost:8080/"
        },
        "id": "nar1yXgl4KQa",
        "outputId": "2b6ca46e-c374-4316-b760-d1aa50d89552"
      },
      "execution_count": 24,
      "outputs": [
        {
          "output_type": "stream",
          "name": "stderr",
          "text": [
            "/usr/local/lib/python3.10/dist-packages/huggingface_hub/file_download.py:797: FutureWarning: `resume_download` is deprecated and will be removed in version 1.0.0. Downloads always resume when possible. If you want to force a new download, use `force_download=True`.\n",
            "  warnings.warn(\n",
            "/usr/local/lib/python3.10/dist-packages/accelerate/accelerator.py:433: FutureWarning: `torch.cuda.amp.GradScaler(args...)` is deprecated. Please use `torch.amp.GradScaler('cuda', args...)` instead.\n",
            "  self.scaler = torch.cuda.amp.GradScaler(**kwargs)\n",
            "/usr/local/lib/python3.10/dist-packages/transformers/modeling_utils.py:488: FutureWarning: You are using `torch.load` with `weights_only=False` (the current default value), which uses the default pickle module implicitly. It is possible to construct malicious pickle data which will execute arbitrary code during unpickling (See https://github.com/pytorch/pytorch/blob/main/SECURITY.md#untrusted-models for more details). In a future release, the default value for `weights_only` will be flipped to `True`. This limits the functions that could be executed during unpickling. Arbitrary objects will no longer be allowed to be loaded via this mode unless they are explicitly allowlisted by the user via `torch.serialization.add_safe_globals`. We recommend you start setting `weights_only=True` for any use case where you don't have full control of the loaded file. Please open an issue on GitHub for any issues related to this experimental feature.\n",
            "  return torch.load(checkpoint_file, map_location=map_location)\n",
            "/usr/local/lib/python3.10/dist-packages/trl/models/modeling_base.py:298: FutureWarning: You are using `torch.load` with `weights_only=False` (the current default value), which uses the default pickle module implicitly. It is possible to construct malicious pickle data which will execute arbitrary code during unpickling (See https://github.com/pytorch/pytorch/blob/main/SECURITY.md#untrusted-models for more details). In a future release, the default value for `weights_only` will be flipped to `True`. This limits the functions that could be executed during unpickling. Arbitrary objects will no longer be allowed to be loaded via this mode unless they are explicitly allowlisted by the user via `torch.serialization.add_safe_globals`. We recommend you start setting `weights_only=True` for any use case where you don't have full control of the loaded file. Please open an issue on GitHub for any issues related to this experimental feature.\n",
            "  state_dict = loading_func(filename if not use_safe else safe_filename, **load_kwargs)\n",
            "/usr/local/lib/python3.10/dist-packages/peft/tuners/lora.py:475: UserWarning: fan_in_fan_out is set to False but the target module is `Conv1D`. Setting fan_in_fan_out to True.\n",
            "  warnings.warn(\n"
          ]
        },
        {
          "output_type": "stream",
          "name": "stdout",
          "text": [
            "trainable params: 1,179,648 || all params: 125,620,225 || trainable%: 0.9390589771670923\n"
          ]
        }
      ]
    },
    {
      "cell_type": "markdown",
      "source": [
        "Same as before, trl has a special type of trainer that minimize PPO-specific pseudo-loss. You can read more on this trainer [here](https://huggingface.co/docs/trl/main/en/ppo_trainer)."
      ],
      "metadata": {
        "id": "qIQK5bcpCPZ6"
      }
    },
    {
      "cell_type": "code",
      "source": [
        "training_args = trl.PPOConfig(\n",
        "    model_name=main_model.config._name_or_path,\n",
        "    gradient_accumulation_steps=1,\n",
        "    learning_rate=1.41e-5,\n",
        "    batch_size=64,\n",
        "    ppo_epochs=4,                 # PPO performs this many updates per training batch\n",
        ")\n",
        "\n",
        "ppo_trainer = trl.PPOTrainer(\n",
        "    training_args, model=main_model.model, tokenizer=main_tokenizer,\n",
        "    dataset=imdb_for_rlhf, data_collator=lambda data: dict((key, [d[key] for d in data]) for key in data[0])\n",
        ")  # note: we pass main_model.model because PPOTrainer checks for one of several supported model types ...\n",
        "# ... main_model.model is a model with adapters, which is supported. main_model itself is a wrapper that is not supported"
      ],
      "metadata": {
        "id": "EvTtiLs94txE"
      },
      "execution_count": 25,
      "outputs": []
    },
    {
      "cell_type": "code",
      "source": [
        "from tqdm.auto import tqdm\n",
        "max_steps = 50   # can be insufficient for some tasks - watch your learning curves\n",
        "generation_kwargs = dict(\n",
        "    min_length=-1, max_new_tokens=128, do_sample=True, top_k=0, top_p=1.0, pad_token_id=main_tokenizer.eos_token_id)\n",
        "#                                  ^-- task-specific parameter!\n",
        "with tqdm(enumerate(ppo_trainer.dataloader), total=max_steps) as progressbar:\n",
        "  # note: ppo_trainer.dataloader is just a regular dataloader of queries, no RL-specific magic :)\n",
        "  for epoch, batch in progressbar:\n",
        "    if epoch >= max_steps:\n",
        "        break\n",
        "\n",
        "    # Rollout stage: generate continuations from batch queries using main_model\n",
        "    response_tensors = ppo_trainer.generate(batch['input_ids'], **generation_kwargs)\n",
        "    # ^-- list of tensors of token ids from main model tokenizer\n",
        "\n",
        "    # de-tokenize responses to strings (since reward model uses a different tokenizer)\n",
        "    batch[\"response\"] = [main_tokenizer.decode(response.squeeze()) for response in response_tensors]\n",
        "    # note: response_tensors already contain query tokens, so we don't need to add queries manually.\n",
        "    # This may not be true for other tasks: check this manually by viewing batch[\"response\"] and batch[\"query\"]\n",
        "\n",
        "\n",
        "    # Evaluation stage\n",
        "    rewards = compute_reward(batch['response'])\n",
        "\n",
        "    # Update stage\n",
        "    stats = ppo_trainer.step(batch['input_ids'], response_tensors, list(rewards.split(1)))\n",
        "    stats['rewards/mean'] = rewards.mean().item()\n",
        "\n",
        "    print(\"-\" * 30, 'STEP', epoch, '-' * 30)\n",
        "    print(f'rewards/mean:\\t{stats[\"rewards/mean\"]:.9f}\\t<---- average reward over this batch (higher=better, noisy)')\n",
        "    print(f'ppo/returns/mean:\\t{stats[\"ppo/returns/mean\"]:.9f}\\t<---- model-estimated average discounted reward')\n",
        "    print(f'objective/kl:\\t{stats[\"objective/kl\"]:.9f}\\t<---- how far we are from the original model (regularizer)')\n",
        "    print()\n",
        "\n",
        "    ppo_trainer.log_stats(stats, batch, list(rewards.split(1)))"
      ],
      "metadata": {
        "colab": {
          "base_uri": "https://localhost:8080/",
          "height": 1000,
          "referenced_widgets": [
            "bd2957ddd6ba4aa7bc2f581faa7c166e",
            "159552672d334a539db8412836dfe69d",
            "0a08e7f9b4e14d42a7770cc17dd164b5",
            "80dfa6d2e1f442e7a606dbf93d645305",
            "92330e1feb15439cb6e42ac8b6c55a46",
            "f5c5028f1a7b420d85b914d8253a1411",
            "424c84c453be42208bc54262bff72152",
            "3f03fa9f94f7479b80d2479c90ac7839",
            "1c7321e8eb5e42c697ed7303a3693cfc",
            "9bea2ac29ec543ff8d90ddf95eab93f2",
            "40a51333114549508e4a2734513283a0"
          ]
        },
        "id": "eYr-w666-QfK",
        "outputId": "a02da3f1-4c9e-4a86-adbe-643d4bbb56fe"
      },
      "execution_count": 26,
      "outputs": [
        {
          "output_type": "display_data",
          "data": {
            "text/plain": [
              "  0%|          | 0/50 [00:00<?, ?it/s]"
            ],
            "application/vnd.jupyter.widget-view+json": {
              "version_major": 2,
              "version_minor": 0,
              "model_id": "bd2957ddd6ba4aa7bc2f581faa7c166e"
            }
          },
          "metadata": {}
        },
        {
          "output_type": "stream",
          "name": "stderr",
          "text": [
            "You're using a GPT2TokenizerFast tokenizer. Please note that with a fast tokenizer, using the `__call__` method is faster than using a method to encode the text followed by a call to the `pad` method to get a padded encoding.\n"
          ]
        },
        {
          "output_type": "stream",
          "name": "stdout",
          "text": [
            "------------------------------ STEP 0 ------------------------------\n",
            "rewards/mean:\t-0.179120064\t<---- average reward over this batch (higher=better, noisy)\n",
            "ppo/returns/mean:\t-0.394124538\t<---- model-estimated average discounted reward\n",
            "objective/kl:\t0.000000000\t<---- how far we are from the original model (regularizer)\n",
            "\n",
            "------------------------------ STEP 1 ------------------------------\n",
            "rewards/mean:\t-1.043389320\t<---- average reward over this batch (higher=better, noisy)\n",
            "ppo/returns/mean:\t-0.571330190\t<---- model-estimated average discounted reward\n",
            "objective/kl:\t0.382258058\t<---- how far we are from the original model (regularizer)\n",
            "\n",
            "------------------------------ STEP 2 ------------------------------\n",
            "rewards/mean:\t-0.646959305\t<---- average reward over this batch (higher=better, noisy)\n",
            "ppo/returns/mean:\t-0.557142556\t<---- model-estimated average discounted reward\n",
            "objective/kl:\t0.918479919\t<---- how far we are from the original model (regularizer)\n",
            "\n",
            "------------------------------ STEP 3 ------------------------------\n",
            "rewards/mean:\t0.647339582\t<---- average reward over this batch (higher=better, noisy)\n",
            "ppo/returns/mean:\t-0.363657832\t<---- model-estimated average discounted reward\n",
            "objective/kl:\t1.619178057\t<---- how far we are from the original model (regularizer)\n",
            "\n",
            "------------------------------ STEP 4 ------------------------------\n",
            "rewards/mean:\t0.059234858\t<---- average reward over this batch (higher=better, noisy)\n",
            "ppo/returns/mean:\t-0.437513322\t<---- model-estimated average discounted reward\n",
            "objective/kl:\t2.423463821\t<---- how far we are from the original model (regularizer)\n",
            "\n",
            "------------------------------ STEP 5 ------------------------------\n",
            "rewards/mean:\t0.753388405\t<---- average reward over this batch (higher=better, noisy)\n",
            "ppo/returns/mean:\t-0.301880121\t<---- model-estimated average discounted reward\n",
            "objective/kl:\t2.939515591\t<---- how far we are from the original model (regularizer)\n",
            "\n",
            "------------------------------ STEP 6 ------------------------------\n",
            "rewards/mean:\t1.020086288\t<---- average reward over this batch (higher=better, noisy)\n",
            "ppo/returns/mean:\t-0.154543042\t<---- model-estimated average discounted reward\n",
            "objective/kl:\t3.971201181\t<---- how far we are from the original model (regularizer)\n",
            "\n",
            "------------------------------ STEP 7 ------------------------------\n",
            "rewards/mean:\t0.343191862\t<---- average reward over this batch (higher=better, noisy)\n",
            "ppo/returns/mean:\t-0.179140180\t<---- model-estimated average discounted reward\n",
            "objective/kl:\t4.531014919\t<---- how far we are from the original model (regularizer)\n",
            "\n",
            "------------------------------ STEP 8 ------------------------------\n",
            "rewards/mean:\t0.649097443\t<---- average reward over this batch (higher=better, noisy)\n",
            "ppo/returns/mean:\t-0.184865415\t<---- model-estimated average discounted reward\n",
            "objective/kl:\t5.861739159\t<---- how far we are from the original model (regularizer)\n",
            "\n",
            "------------------------------ STEP 9 ------------------------------\n",
            "rewards/mean:\t0.462899208\t<---- average reward over this batch (higher=better, noisy)\n",
            "ppo/returns/mean:\t-0.103218436\t<---- model-estimated average discounted reward\n",
            "objective/kl:\t6.892238617\t<---- how far we are from the original model (regularizer)\n",
            "\n",
            "------------------------------ STEP 10 ------------------------------\n",
            "rewards/mean:\t0.996346474\t<---- average reward over this batch (higher=better, noisy)\n",
            "ppo/returns/mean:\t-0.180099517\t<---- model-estimated average discounted reward\n",
            "objective/kl:\t6.268022537\t<---- how far we are from the original model (regularizer)\n",
            "\n",
            "------------------------------ STEP 11 ------------------------------\n",
            "rewards/mean:\t1.331492424\t<---- average reward over this batch (higher=better, noisy)\n",
            "ppo/returns/mean:\t-0.016378853\t<---- model-estimated average discounted reward\n",
            "objective/kl:\t6.725541115\t<---- how far we are from the original model (regularizer)\n",
            "\n",
            "------------------------------ STEP 12 ------------------------------\n",
            "rewards/mean:\t0.428081512\t<---- average reward over this batch (higher=better, noisy)\n",
            "ppo/returns/mean:\t-0.047331799\t<---- model-estimated average discounted reward\n",
            "objective/kl:\t7.090094090\t<---- how far we are from the original model (regularizer)\n",
            "\n",
            "------------------------------ STEP 13 ------------------------------\n",
            "rewards/mean:\t0.257543564\t<---- average reward over this batch (higher=better, noisy)\n",
            "ppo/returns/mean:\t-0.160559982\t<---- model-estimated average discounted reward\n",
            "objective/kl:\t7.017474651\t<---- how far we are from the original model (regularizer)\n",
            "\n",
            "------------------------------ STEP 14 ------------------------------\n",
            "rewards/mean:\t1.063070774\t<---- average reward over this batch (higher=better, noisy)\n",
            "ppo/returns/mean:\t-0.075873524\t<---- model-estimated average discounted reward\n",
            "objective/kl:\t8.427003860\t<---- how far we are from the original model (regularizer)\n",
            "\n",
            "------------------------------ STEP 15 ------------------------------\n",
            "rewards/mean:\t1.269111156\t<---- average reward over this batch (higher=better, noisy)\n",
            "ppo/returns/mean:\t0.080619588\t<---- model-estimated average discounted reward\n",
            "objective/kl:\t7.469081402\t<---- how far we are from the original model (regularizer)\n",
            "\n",
            "------------------------------ STEP 16 ------------------------------\n",
            "rewards/mean:\t0.939113617\t<---- average reward over this batch (higher=better, noisy)\n",
            "ppo/returns/mean:\t0.065564305\t<---- model-estimated average discounted reward\n",
            "objective/kl:\t8.380642891\t<---- how far we are from the original model (regularizer)\n",
            "\n",
            "------------------------------ STEP 17 ------------------------------\n",
            "rewards/mean:\t1.259115219\t<---- average reward over this batch (higher=better, noisy)\n",
            "ppo/returns/mean:\t0.102439046\t<---- model-estimated average discounted reward\n",
            "objective/kl:\t9.592357635\t<---- how far we are from the original model (regularizer)\n",
            "\n",
            "------------------------------ STEP 18 ------------------------------\n",
            "rewards/mean:\t1.619129181\t<---- average reward over this batch (higher=better, noisy)\n",
            "ppo/returns/mean:\t0.206552088\t<---- model-estimated average discounted reward\n",
            "objective/kl:\t9.185707092\t<---- how far we are from the original model (regularizer)\n",
            "\n",
            "------------------------------ STEP 19 ------------------------------\n",
            "rewards/mean:\t1.527414322\t<---- average reward over this batch (higher=better, noisy)\n",
            "ppo/returns/mean:\t0.240704596\t<---- model-estimated average discounted reward\n",
            "objective/kl:\t8.720386505\t<---- how far we are from the original model (regularizer)\n",
            "\n",
            "------------------------------ STEP 20 ------------------------------\n",
            "rewards/mean:\t1.119873047\t<---- average reward over this batch (higher=better, noisy)\n",
            "ppo/returns/mean:\t0.222415566\t<---- model-estimated average discounted reward\n",
            "objective/kl:\t8.339660645\t<---- how far we are from the original model (regularizer)\n",
            "\n",
            "------------------------------ STEP 21 ------------------------------\n",
            "rewards/mean:\t1.585220337\t<---- average reward over this batch (higher=better, noisy)\n",
            "ppo/returns/mean:\t0.347983897\t<---- model-estimated average discounted reward\n",
            "objective/kl:\t8.282900810\t<---- how far we are from the original model (regularizer)\n",
            "\n",
            "------------------------------ STEP 22 ------------------------------\n",
            "rewards/mean:\t1.782836914\t<---- average reward over this batch (higher=better, noisy)\n",
            "ppo/returns/mean:\t0.330077499\t<---- model-estimated average discounted reward\n",
            "objective/kl:\t8.702426910\t<---- how far we are from the original model (regularizer)\n",
            "\n",
            "------------------------------ STEP 23 ------------------------------\n",
            "rewards/mean:\t1.239266396\t<---- average reward over this batch (higher=better, noisy)\n",
            "ppo/returns/mean:\t0.394768655\t<---- model-estimated average discounted reward\n",
            "objective/kl:\t10.392330170\t<---- how far we are from the original model (regularizer)\n",
            "\n",
            "------------------------------ STEP 24 ------------------------------\n",
            "rewards/mean:\t1.745473862\t<---- average reward over this batch (higher=better, noisy)\n",
            "ppo/returns/mean:\t0.497487694\t<---- model-estimated average discounted reward\n",
            "objective/kl:\t8.754724503\t<---- how far we are from the original model (regularizer)\n",
            "\n",
            "------------------------------ STEP 25 ------------------------------\n",
            "rewards/mean:\t1.355719566\t<---- average reward over this batch (higher=better, noisy)\n",
            "ppo/returns/mean:\t0.537773728\t<---- model-estimated average discounted reward\n",
            "objective/kl:\t7.996414661\t<---- how far we are from the original model (regularizer)\n",
            "\n",
            "------------------------------ STEP 26 ------------------------------\n",
            "rewards/mean:\t1.843704224\t<---- average reward over this batch (higher=better, noisy)\n",
            "ppo/returns/mean:\t0.568689466\t<---- model-estimated average discounted reward\n",
            "objective/kl:\t9.872404099\t<---- how far we are from the original model (regularizer)\n",
            "\n",
            "------------------------------ STEP 27 ------------------------------\n",
            "rewards/mean:\t1.619430542\t<---- average reward over this batch (higher=better, noisy)\n",
            "ppo/returns/mean:\t0.365153670\t<---- model-estimated average discounted reward\n",
            "objective/kl:\t9.714595795\t<---- how far we are from the original model (regularizer)\n",
            "\n",
            "------------------------------ STEP 28 ------------------------------\n",
            "rewards/mean:\t1.770533085\t<---- average reward over this batch (higher=better, noisy)\n",
            "ppo/returns/mean:\t0.600565434\t<---- model-estimated average discounted reward\n",
            "objective/kl:\t8.567508698\t<---- how far we are from the original model (regularizer)\n",
            "\n",
            "------------------------------ STEP 29 ------------------------------\n",
            "rewards/mean:\t2.194477081\t<---- average reward over this batch (higher=better, noisy)\n",
            "ppo/returns/mean:\t0.767593086\t<---- model-estimated average discounted reward\n",
            "objective/kl:\t8.703769684\t<---- how far we are from the original model (regularizer)\n",
            "\n",
            "------------------------------ STEP 30 ------------------------------\n",
            "rewards/mean:\t2.201587677\t<---- average reward over this batch (higher=better, noisy)\n",
            "ppo/returns/mean:\t0.883019805\t<---- model-estimated average discounted reward\n",
            "objective/kl:\t10.418336868\t<---- how far we are from the original model (regularizer)\n",
            "\n",
            "------------------------------ STEP 31 ------------------------------\n",
            "rewards/mean:\t2.118908405\t<---- average reward over this batch (higher=better, noisy)\n",
            "ppo/returns/mean:\t0.818588614\t<---- model-estimated average discounted reward\n",
            "objective/kl:\t9.797817230\t<---- how far we are from the original model (regularizer)\n",
            "\n",
            "------------------------------ STEP 32 ------------------------------\n",
            "rewards/mean:\t2.386028290\t<---- average reward over this batch (higher=better, noisy)\n",
            "ppo/returns/mean:\t0.970253348\t<---- model-estimated average discounted reward\n",
            "objective/kl:\t10.184564590\t<---- how far we are from the original model (regularizer)\n",
            "\n",
            "------------------------------ STEP 33 ------------------------------\n",
            "rewards/mean:\t2.282454491\t<---- average reward over this batch (higher=better, noisy)\n",
            "ppo/returns/mean:\t1.059122682\t<---- model-estimated average discounted reward\n",
            "objective/kl:\t10.030015945\t<---- how far we are from the original model (regularizer)\n",
            "\n",
            "------------------------------ STEP 34 ------------------------------\n",
            "rewards/mean:\t2.069761276\t<---- average reward over this batch (higher=better, noisy)\n",
            "ppo/returns/mean:\t0.916680396\t<---- model-estimated average discounted reward\n",
            "objective/kl:\t10.053985596\t<---- how far we are from the original model (regularizer)\n",
            "\n",
            "------------------------------ STEP 35 ------------------------------\n",
            "rewards/mean:\t1.752719879\t<---- average reward over this batch (higher=better, noisy)\n",
            "ppo/returns/mean:\t0.928715289\t<---- model-estimated average discounted reward\n",
            "objective/kl:\t9.378491402\t<---- how far we are from the original model (regularizer)\n",
            "\n",
            "------------------------------ STEP 36 ------------------------------\n",
            "rewards/mean:\t1.907794952\t<---- average reward over this batch (higher=better, noisy)\n",
            "ppo/returns/mean:\t0.905448437\t<---- model-estimated average discounted reward\n",
            "objective/kl:\t11.166933060\t<---- how far we are from the original model (regularizer)\n",
            "\n",
            "------------------------------ STEP 37 ------------------------------\n",
            "rewards/mean:\t2.056903839\t<---- average reward over this batch (higher=better, noisy)\n",
            "ppo/returns/mean:\t0.916440010\t<---- model-estimated average discounted reward\n",
            "objective/kl:\t11.201704025\t<---- how far we are from the original model (regularizer)\n",
            "\n",
            "------------------------------ STEP 38 ------------------------------\n",
            "rewards/mean:\t2.659032345\t<---- average reward over this batch (higher=better, noisy)\n",
            "ppo/returns/mean:\t1.186042428\t<---- model-estimated average discounted reward\n",
            "objective/kl:\t10.858457565\t<---- how far we are from the original model (regularizer)\n",
            "\n",
            "------------------------------ STEP 39 ------------------------------\n",
            "rewards/mean:\t2.060562134\t<---- average reward over this batch (higher=better, noisy)\n",
            "ppo/returns/mean:\t1.116602898\t<---- model-estimated average discounted reward\n",
            "objective/kl:\t10.466329575\t<---- how far we are from the original model (regularizer)\n",
            "\n",
            "------------------------------ STEP 40 ------------------------------\n",
            "rewards/mean:\t2.007985592\t<---- average reward over this batch (higher=better, noisy)\n",
            "ppo/returns/mean:\t1.047238111\t<---- model-estimated average discounted reward\n",
            "objective/kl:\t9.683924675\t<---- how far we are from the original model (regularizer)\n",
            "\n",
            "------------------------------ STEP 41 ------------------------------\n",
            "rewards/mean:\t2.032518864\t<---- average reward over this batch (higher=better, noisy)\n",
            "ppo/returns/mean:\t0.981931925\t<---- model-estimated average discounted reward\n",
            "objective/kl:\t10.963142395\t<---- how far we are from the original model (regularizer)\n",
            "\n",
            "------------------------------ STEP 42 ------------------------------\n",
            "rewards/mean:\t2.581320286\t<---- average reward over this batch (higher=better, noisy)\n",
            "ppo/returns/mean:\t1.210039973\t<---- model-estimated average discounted reward\n",
            "objective/kl:\t9.942636490\t<---- how far we are from the original model (regularizer)\n",
            "\n",
            "------------------------------ STEP 43 ------------------------------\n",
            "rewards/mean:\t1.716887474\t<---- average reward over this batch (higher=better, noisy)\n",
            "ppo/returns/mean:\t0.898846149\t<---- model-estimated average discounted reward\n",
            "objective/kl:\t9.787574768\t<---- how far we are from the original model (regularizer)\n",
            "\n",
            "------------------------------ STEP 44 ------------------------------\n",
            "rewards/mean:\t2.645320177\t<---- average reward over this batch (higher=better, noisy)\n",
            "ppo/returns/mean:\t1.295021057\t<---- model-estimated average discounted reward\n",
            "objective/kl:\t10.477868080\t<---- how far we are from the original model (regularizer)\n",
            "\n",
            "------------------------------ STEP 45 ------------------------------\n",
            "rewards/mean:\t3.083889008\t<---- average reward over this batch (higher=better, noisy)\n",
            "ppo/returns/mean:\t1.478782654\t<---- model-estimated average discounted reward\n",
            "objective/kl:\t12.334560394\t<---- how far we are from the original model (regularizer)\n",
            "\n",
            "------------------------------ STEP 46 ------------------------------\n",
            "rewards/mean:\t2.853059292\t<---- average reward over this batch (higher=better, noisy)\n",
            "ppo/returns/mean:\t1.422935486\t<---- model-estimated average discounted reward\n",
            "objective/kl:\t13.901848793\t<---- how far we are from the original model (regularizer)\n",
            "\n",
            "------------------------------ STEP 47 ------------------------------\n",
            "rewards/mean:\t2.956600189\t<---- average reward over this batch (higher=better, noisy)\n",
            "ppo/returns/mean:\t1.457579136\t<---- model-estimated average discounted reward\n",
            "objective/kl:\t11.985269547\t<---- how far we are from the original model (regularizer)\n",
            "\n",
            "------------------------------ STEP 48 ------------------------------\n",
            "rewards/mean:\t2.487174988\t<---- average reward over this batch (higher=better, noisy)\n",
            "ppo/returns/mean:\t1.386806250\t<---- model-estimated average discounted reward\n",
            "objective/kl:\t11.920624733\t<---- how far we are from the original model (regularizer)\n",
            "\n",
            "------------------------------ STEP 49 ------------------------------\n",
            "rewards/mean:\t2.098527908\t<---- average reward over this batch (higher=better, noisy)\n",
            "ppo/returns/mean:\t1.190551281\t<---- model-estimated average discounted reward\n",
            "objective/kl:\t11.623014450\t<---- how far we are from the original model (regularizer)\n",
            "\n"
          ]
        }
      ]
    },
    {
      "cell_type": "markdown",
      "source": [
        "## Main assignment - <u>actually</u> train the model (8 points)\n",
        "\n",
        "\n",
        "Your main task for this week is to use the RLHF pipeline to train a model for a reward of your choice. Here's what you can choose from:\n",
        "\n",
        "__A. Toxicity fine-tuning:__ train the model to be less (or more!) toxic. For this task, you may use the data from [jigsaw toxic comments](https://www.kaggle.com/c/jigsaw-toxic-comment-classification-challenge) and [lmsys/toxic-chat](https://huggingface.co/datasets/lmsys/toxic-chat),  or any other source. Alternatively, you may use toxicity scores from [oasst1](https://huggingface.co/datasets/OpenAssistant/oasst1).\n",
        "\n",
        "\n",
        "__B. Actual human feedback:__ use one of the existing datasets with pairwise human feedback to align your langauge model. You may use [anthropic's hh-rlhf](https://huggingface.co/datasets/Anthropic/hh-rlhf), [OpenAssistant dataset](https://huggingface.co/datasets/OpenAssistant/oasst1) or any other data you see fit. You may also turn the tables and train the model to [minimize](https://habrastorage.org/getpro/geektimes/post_images/ac7/2ad/827/ac72ad82767d4132164a4b6b76196c42.jpg) human preferences, as long as your model does not degrade to gibberish.\n",
        "\n",
        "__C. Controlled generation:__ Instead of training a reward model from human feedback, you may define the reward function as the text length (longer or shorter) or number of times the model uses specific words (e.g. \"sorry\", \"apologize\"). If you choose specific words, make sure the model generates them at least sometimes.\n",
        "\n",
        "__Alternatively,__ you may choose a different task. However, unless your task is very similar to one of the above, there is a chance that it will be **significantly** harder to solve, requiring orders of magnitude more compute and tuning. If you are in doubt, please ask the course staff. If they are AFK (again >.<), please prefer one of the recommended tasks.\n",
        "\n",
        "\n",
        "#### General tips & tricks\n",
        "\n",
        "\n",
        "Things to look out for:\n",
        "- during PPO stage, the reward model should be in eval mode (dropout disabled)\n",
        "- make sure max_length and max_new_tokens are enough for your chosen dataset - at least most of the time\n",
        "- when in doubt, view the data manually or inspect how the model performs on a few samples\n",
        "\n",
        "\n",
        "We highly recommend that you manually check the performance after each sub-stage:\n",
        "1. when you assembled the pairwise dataset, inspect a couple of from of *your* dataset class and detokenize them. Make sure that you-the-human understand why one sample was accepted and the other - rejected. At least most of the time. This also lets you spot tokenization/truncation errors.\n",
        "2. after you trained a reward model, measure how accurate this model is in isolation. If your reward model is poor, any subsequent RLHF will also fail.\n",
        "3. once you've trained the main model with RL, ask it to generate examples and explore how well it does. If it produces an obviously bad output, check if the reward model assigns high reward to that output. If yes, reward model is the culprit; if no, it's a question of better/longer PPO training.\n",
        "\n",
        "__It is also a good idea to periodically print samples during training.__\n",
        "\n",
        "__When stuck, simplify the problem.__ If you've spent a several hours enchanting the reward model but it still won't budge, try switching to a simple subtask. For instance, if you're training on hh-rlhf, try limiting it the dataset to 10% of the shortest sequences - they are typically easier to learn.\n",
        "\n",
        "\n",
        "## Assignment stages (and grading)\n",
        "\n",
        "Regardless of the specific task you chose, your solution needs to contain several parts that will be graded separately.\n",
        "\n",
        "\n",
        "#### Stage 1: reward model (4 points)\n",
        "\n",
        "Construct a dataset for training the reward model on your problem. Then, train a reward model on that dataset and evaluate how well can your model predict preferences on a hold-out (test) subset of your data.\n",
        "\n",
        "Please make sure that the part of your notebook where you evaluate reward model is clearly visible and reasonably easy to read. And for all that is holy, do not call it IMDB unless it actually **is** data of imdb movie reviews :)\n",
        "\n",
        "__Not all tasks require a reward model for later PPO fine-tuning.__ For instance, there's no reason to train a reward model if your reward equals sentence length. Likewise, toxicity reward can be estimated with a pre-trained toxicity classifier. __If your task does not require training a reward model, please train an unrelated model on [hh-rlhf](https://huggingface.co/datasets/Anthropic/hh-rlhf) as though you were solving assignment version B.__ This is for grading purposes only, you won't use this model for stage 2.\n",
        "\n",
        "\n",
        "#### Stage 2: RL fine-tuning (4 points)\n",
        "\n",
        "Once the reward model is ready - or you can compute rewards without a model - it is time to maximize that reward with PPO. Optionally, you may replace PPO with another RL algorithm (or unlikelihood learning scheme), but only if you're feeling adventurous.\n",
        "\n",
        "\n",
        "First, you need to choose a language model to be fine-tuned. You may choose any model, but make sure that your model **can** generate the data in your format. For instance, [Mistral-7B](https://huggingface.co/mistralai/Mistral-7B-v0.1) is a general purpose LM and may (or may not) need prompt engineering to generate chat assistant responses. For that reason, it is best if you **do not use `\"lvwerra/gpt2-imdb\"` unless you're generating only movie reviews**.\n",
        "\n",
        "\n",
        "\n",
        "There are two \"difficulty modes\" for this task:\n",
        "For the **easy mode**, use [gpt2-large](https://huggingface.co/gpt2-large) or [opt-1.3b](https://huggingface.co/facebook/opt-1.3b) with minimal code changes.\n",
        "If you want the **Hard mode:** use a larger (e.g. 7B) model in combination with `load_in_4bit` and LoRA, the same way we did last week.\n",
        "Some reasonable model choices are [LLaMA-7B](https://huggingface.co/Enoch/llama-7b-hf), [Falcon-7b](https://huggingface.co/tiiuae/falcon-7b), [Mistral-7B](https://huggingface.co/mistralai/Mistral-7B-v0.1) for general-purpose LM or [guanaco-7b](https://huggingface.co/timdettmers/guanaco-7b), [vicuna-7b](https://huggingface.co/lmsys/vicuna-7b-v1.5) for chat-based tasks, though there are many more (see [leaderboard](https://huggingface.co/spaces/HuggingFaceH4/open_llm_leaderboard)). In the hard mode, you will need to modify the training arguments to enable 4-bit fine-tuning. Furthermore, your experiments will take somewhat longer to complete. On the plus side, your model will produce significantly better results.\n",
        "\n",
        "__High reward is not enough!__ RL algorithms are famous for [cheating their reward functions](https://openai.com/research/faulty-reward-functions). To ensure that your model is actually doing what you want it to do, you will need some additional evaluation. To get the full grade, provide at least 20 side-by-side examples of your fine-tuned model vs original model predictions and a short summary.\n",
        "\n",
        "Alternatively, you may provide 5 examples and some extrinsic evaluation metric over many examples. For instance, you may use a different pre-trained toxicity score for option A. When dealing with human preferences, you may choose to [enlist actual humans](https://toloka.ai/) or [ask GPT4/Claude](https://arxiv.org/pdf/2304.03277.pdf) to compare your model's predictions. For task C, when optimizing for simple rewards like sentence lengths, it is enough to compare histograms of rewards (e.g. average lengths).\n",
        "\n",
        "\n",
        "\n",
        "\n",
        "\n",
        "\n",
        "\n",
        "\n",
        "\n",
        "\n"
      ],
      "metadata": {
        "id": "Hgtmjtilq6T8"
      }
    },
    {
      "cell_type": "code",
      "source": [
        "toxic = datasets.load_dataset(\"SetFit/toxic_conversations_50k\", split=\"train\")\n",
        "toxic[665]"
      ],
      "metadata": {
        "colab": {
          "base_uri": "https://localhost:8080/"
        },
        "id": "WrK5ORJbtphi",
        "outputId": "830a4997-eb34-4833-bf3c-0e0ceb056ce7"
      },
      "execution_count": 27,
      "outputs": [
        {
          "output_type": "stream",
          "name": "stderr",
          "text": [
            "Repo card metadata block was not found. Setting CardData to empty.\n",
            "WARNING:huggingface_hub.repocard:Repo card metadata block was not found. Setting CardData to empty.\n"
          ]
        },
        {
          "output_type": "execute_result",
          "data": {
            "text/plain": [
              "{'text': \"Very well written article! As always I would like to point out that getting cheap natural gas distributed statewide will help create new economies and infrastructure to level out the rises and falls of a resource gutting state. We have a gigantic and awesome hunk of the planet here. Time to invest in our own precious metals bank as a backup to the Permanent Fund. By creating our own fully backed Cd's from a state owned by the people bank we can wrest control of our own economy from outside influences.\",\n",
              " 'label': 0,\n",
              " 'label_text': 'not toxic'}"
            ]
          },
          "metadata": {},
          "execution_count": 27
        }
      ]
    },
    {
      "cell_type": "code",
      "source": [
        "class PairwiseDataset(torch.utils.data.Dataset):\n",
        "    \"\"\" A dataset of all possible pairs of chosen and texts in TRT reward training format \"\"\"\n",
        "    def __init__(self, dataset, tokenizer, accepted_label: int):\n",
        "        super().__init__()\n",
        "        self.tokenizer = tokenizer\n",
        "        self.chosen_texts = [row['text'] for row in dataset if row['label'] == accepted_label]\n",
        "        self.rejected_texts = [row['text'] for row in dataset if row['label'] != accepted_label]\n",
        "        print(f\"Found {len(self.chosen_texts)} chosen and {len(self.rejected_texts)} rejected texts, {len(self)} pairs\")\n",
        "\n",
        "    def __len__(self):\n",
        "        return len(self.chosen_texts) * len(self.rejected_texts)\n",
        "\n",
        "    def __getitem__(self, index: int):\n",
        "        chosen = self.tokenizer(self.chosen_texts[index % len(self.chosen_texts)], truncation=True)\n",
        "        rejected = self.tokenizer(self.rejected_texts[index % len(self.chosen_texts)], truncation=True)\n",
        "        return dict(input_ids_chosen=chosen['input_ids'], attention_mask_chosen=chosen['attention_mask'],\n",
        "                    input_ids_rejected=rejected['input_ids'], attention_mask_rejected=rejected['attention_mask'])"
      ],
      "metadata": {
        "id": "hh6zTdjv0KzC"
      },
      "execution_count": 28,
      "outputs": []
    },
    {
      "cell_type": "code",
      "source": [
        "reward_model = transformers.AutoModelForSequenceClassification.from_pretrained(\"google-t5/t5-small\", device_map=device)\n",
        "reward_tokenizer = transformers.AutoTokenizer.from_pretrained(\"google-t5/t5-small\")"
      ],
      "metadata": {
        "colab": {
          "base_uri": "https://localhost:8080/"
        },
        "id": "iQj2SJxE5CHh",
        "outputId": "b75fdc11-caa7-4282-ca45-4cb32babc3fd"
      },
      "execution_count": 29,
      "outputs": [
        {
          "output_type": "stream",
          "name": "stderr",
          "text": [
            "Some weights of T5ForSequenceClassification were not initialized from the model checkpoint at google-t5/t5-small and are newly initialized: ['classification_head.out_proj.weight', 'classification_head.dense.weight', 'classification_head.dense.bias', 'classification_head.out_proj.bias']\n",
            "You should probably TRAIN this model on a down-stream task to be able to use it for predictions and inference.\n"
          ]
        }
      ]
    },
    {
      "cell_type": "code",
      "source": [
        "def train_reward_model(dataset, model, tokenizer, steps = 1666):\n",
        "    reward_data = PairwiseDataset(dataset, tokenizer, 1)\n",
        "\n",
        "    training_args = trl.RewardConfig(\n",
        "        output_dir=\"reward_model\",\n",
        "        per_device_train_batch_size=32,\n",
        "        gradient_accumulation_steps=1,\n",
        "        learning_rate=1.41e-5,\n",
        "        max_steps=steps,\n",
        "        logging_steps=50,\n",
        "        gradient_checkpointing=True,\n",
        "        gradient_checkpointing_kwargs={\"use_reentrant\": False},\n",
        "        fp16=True\n",
        "    )\n",
        "\n",
        "    trainer = trl.RewardTrainer(\n",
        "        model=reward_model,\n",
        "        args=training_args,\n",
        "        tokenizer=reward_tokenizer,\n",
        "        train_dataset=reward_data,\n",
        "        peft_config=None\n",
        "    )\n",
        "\n",
        "    trainer.train()"
      ],
      "metadata": {
        "id": "BU832mJ7tjqK"
      },
      "execution_count": 30,
      "outputs": []
    },
    {
      "cell_type": "code",
      "source": [
        "import warnings\n",
        "warnings.filterwarnings(\"ignore\")\n",
        "\n",
        "train_reward_model(toxic, reward_model, reward_tokenizer, 2500)"
      ],
      "metadata": {
        "colab": {
          "base_uri": "https://localhost:8080/",
          "height": 1000
        },
        "id": "cdUN0GvH4w-j",
        "outputId": "f8378e4e-5428-487e-811f-fc86ef36a34a"
      },
      "execution_count": 31,
      "outputs": [
        {
          "output_type": "stream",
          "name": "stdout",
          "text": [
            "Found 3965 chosen and 46035 rejected texts, 182528775 pairs\n"
          ]
        },
        {
          "output_type": "stream",
          "name": "stderr",
          "text": [
            "You're using a T5TokenizerFast tokenizer. Please note that with a fast tokenizer, using the `__call__` method is faster than using a method to encode the text followed by a call to the `pad` method to get a padded encoding.\n",
            "`use_cache=True` is incompatible with gradient checkpointing. Setting `use_cache=False`...\n",
            "Could not estimate the number of tokens of the input, floating-point operations will not be computed\n"
          ]
        },
        {
          "output_type": "display_data",
          "data": {
            "text/plain": [
              "<IPython.core.display.HTML object>"
            ],
            "text/html": [
              "\n",
              "    <div>\n",
              "      \n",
              "      <progress value='2500' max='2500' style='width:300px; height:20px; vertical-align: middle;'></progress>\n",
              "      [2500/2500 11:00, Epoch 0/1]\n",
              "    </div>\n",
              "    <table border=\"1\" class=\"dataframe\">\n",
              "  <thead>\n",
              " <tr style=\"text-align: left;\">\n",
              "      <th>Step</th>\n",
              "      <th>Training Loss</th>\n",
              "    </tr>\n",
              "  </thead>\n",
              "  <tbody>\n",
              "    <tr>\n",
              "      <td>50</td>\n",
              "      <td>0.690300</td>\n",
              "    </tr>\n",
              "    <tr>\n",
              "      <td>100</td>\n",
              "      <td>0.688800</td>\n",
              "    </tr>\n",
              "    <tr>\n",
              "      <td>150</td>\n",
              "      <td>0.679900</td>\n",
              "    </tr>\n",
              "    <tr>\n",
              "      <td>200</td>\n",
              "      <td>0.671600</td>\n",
              "    </tr>\n",
              "    <tr>\n",
              "      <td>250</td>\n",
              "      <td>0.661200</td>\n",
              "    </tr>\n",
              "    <tr>\n",
              "      <td>300</td>\n",
              "      <td>0.641600</td>\n",
              "    </tr>\n",
              "    <tr>\n",
              "      <td>350</td>\n",
              "      <td>0.605400</td>\n",
              "    </tr>\n",
              "    <tr>\n",
              "      <td>400</td>\n",
              "      <td>0.567300</td>\n",
              "    </tr>\n",
              "    <tr>\n",
              "      <td>450</td>\n",
              "      <td>0.515600</td>\n",
              "    </tr>\n",
              "    <tr>\n",
              "      <td>500</td>\n",
              "      <td>0.479400</td>\n",
              "    </tr>\n",
              "    <tr>\n",
              "      <td>550</td>\n",
              "      <td>0.431300</td>\n",
              "    </tr>\n",
              "    <tr>\n",
              "      <td>600</td>\n",
              "      <td>0.425500</td>\n",
              "    </tr>\n",
              "    <tr>\n",
              "      <td>650</td>\n",
              "      <td>0.394000</td>\n",
              "    </tr>\n",
              "    <tr>\n",
              "      <td>700</td>\n",
              "      <td>0.371400</td>\n",
              "    </tr>\n",
              "    <tr>\n",
              "      <td>750</td>\n",
              "      <td>0.377800</td>\n",
              "    </tr>\n",
              "    <tr>\n",
              "      <td>800</td>\n",
              "      <td>0.360700</td>\n",
              "    </tr>\n",
              "    <tr>\n",
              "      <td>850</td>\n",
              "      <td>0.347900</td>\n",
              "    </tr>\n",
              "    <tr>\n",
              "      <td>900</td>\n",
              "      <td>0.354300</td>\n",
              "    </tr>\n",
              "    <tr>\n",
              "      <td>950</td>\n",
              "      <td>0.314800</td>\n",
              "    </tr>\n",
              "    <tr>\n",
              "      <td>1000</td>\n",
              "      <td>0.304800</td>\n",
              "    </tr>\n",
              "    <tr>\n",
              "      <td>1050</td>\n",
              "      <td>0.315300</td>\n",
              "    </tr>\n",
              "    <tr>\n",
              "      <td>1100</td>\n",
              "      <td>0.319300</td>\n",
              "    </tr>\n",
              "    <tr>\n",
              "      <td>1150</td>\n",
              "      <td>0.320300</td>\n",
              "    </tr>\n",
              "    <tr>\n",
              "      <td>1200</td>\n",
              "      <td>0.308800</td>\n",
              "    </tr>\n",
              "    <tr>\n",
              "      <td>1250</td>\n",
              "      <td>0.280900</td>\n",
              "    </tr>\n",
              "    <tr>\n",
              "      <td>1300</td>\n",
              "      <td>0.302100</td>\n",
              "    </tr>\n",
              "    <tr>\n",
              "      <td>1350</td>\n",
              "      <td>0.278600</td>\n",
              "    </tr>\n",
              "    <tr>\n",
              "      <td>1400</td>\n",
              "      <td>0.275800</td>\n",
              "    </tr>\n",
              "    <tr>\n",
              "      <td>1450</td>\n",
              "      <td>0.279100</td>\n",
              "    </tr>\n",
              "    <tr>\n",
              "      <td>1500</td>\n",
              "      <td>0.256200</td>\n",
              "    </tr>\n",
              "    <tr>\n",
              "      <td>1550</td>\n",
              "      <td>0.279100</td>\n",
              "    </tr>\n",
              "    <tr>\n",
              "      <td>1600</td>\n",
              "      <td>0.280600</td>\n",
              "    </tr>\n",
              "    <tr>\n",
              "      <td>1650</td>\n",
              "      <td>0.310500</td>\n",
              "    </tr>\n",
              "    <tr>\n",
              "      <td>1700</td>\n",
              "      <td>0.245000</td>\n",
              "    </tr>\n",
              "    <tr>\n",
              "      <td>1750</td>\n",
              "      <td>0.261200</td>\n",
              "    </tr>\n",
              "    <tr>\n",
              "      <td>1800</td>\n",
              "      <td>0.256700</td>\n",
              "    </tr>\n",
              "    <tr>\n",
              "      <td>1850</td>\n",
              "      <td>0.244500</td>\n",
              "    </tr>\n",
              "    <tr>\n",
              "      <td>1900</td>\n",
              "      <td>0.247100</td>\n",
              "    </tr>\n",
              "    <tr>\n",
              "      <td>1950</td>\n",
              "      <td>0.261000</td>\n",
              "    </tr>\n",
              "    <tr>\n",
              "      <td>2000</td>\n",
              "      <td>0.240600</td>\n",
              "    </tr>\n",
              "    <tr>\n",
              "      <td>2050</td>\n",
              "      <td>0.256300</td>\n",
              "    </tr>\n",
              "    <tr>\n",
              "      <td>2100</td>\n",
              "      <td>0.260600</td>\n",
              "    </tr>\n",
              "    <tr>\n",
              "      <td>2150</td>\n",
              "      <td>0.274500</td>\n",
              "    </tr>\n",
              "    <tr>\n",
              "      <td>2200</td>\n",
              "      <td>0.256000</td>\n",
              "    </tr>\n",
              "    <tr>\n",
              "      <td>2250</td>\n",
              "      <td>0.253000</td>\n",
              "    </tr>\n",
              "    <tr>\n",
              "      <td>2300</td>\n",
              "      <td>0.258200</td>\n",
              "    </tr>\n",
              "    <tr>\n",
              "      <td>2350</td>\n",
              "      <td>0.250500</td>\n",
              "    </tr>\n",
              "    <tr>\n",
              "      <td>2400</td>\n",
              "      <td>0.244900</td>\n",
              "    </tr>\n",
              "    <tr>\n",
              "      <td>2450</td>\n",
              "      <td>0.262400</td>\n",
              "    </tr>\n",
              "    <tr>\n",
              "      <td>2500</td>\n",
              "      <td>0.237000</td>\n",
              "    </tr>\n",
              "  </tbody>\n",
              "</table><p>"
            ]
          },
          "metadata": {}
        }
      ]
    },
    {
      "cell_type": "code",
      "source": [
        "train_metrics = evaluate_reward_model(toxic, reward_model, reward_tokenizer, 1)\n",
        "calc_accuracy(train_metrics)"
      ],
      "metadata": {
        "colab": {
          "base_uri": "https://localhost:8080/"
        },
        "id": "9-HeyqBZ-t2d",
        "outputId": "ff7d1ad9-c55f-404a-d3ec-1f92d401d63f"
      },
      "execution_count": 34,
      "outputs": [
        {
          "output_type": "execute_result",
          "data": {
            "text/plain": [
              "0.855"
            ]
          },
          "metadata": {},
          "execution_count": 34
        }
      ]
    },
    {
      "cell_type": "code",
      "source": [
        "training_args = trl.PPOConfig(\n",
        "    model_name=main_model.config._name_or_path,\n",
        "    gradient_accumulation_steps=1,\n",
        "    learning_rate=1.41e-5,\n",
        "    batch_size=64,\n",
        "    ppo_epochs=4,                 # PPO performs this many updates per training batch\n",
        ")\n",
        "\n",
        "ppo_trainer = trl.PPOTrainer(\n",
        "    training_args, model=main_model.model, tokenizer=main_tokenizer,\n",
        "    dataset=imdb_for_rlhf, data_collator=lambda data: dict((key, [d[key] for d in data]) for key in data[0])\n",
        ")  # note: we pass main_model.model because PPOTrainer checks for one of several supported model types ...\n",
        "# ... main_model.model is a model with adapters, which is supported. main_model itself is a wrapper that is not supported\n",
        "\n",
        "def finetune_rlhf_pipeline(reward_model, reward_tokenizer, main_model_name, task_name, dataset_name, device='cuda'):\n",
        "    tokenizer = transformers.AutoTokenizer.from_pretrained(main_model_name)\n",
        "    main_model = transformers.AutoModelForSeq2SeqLMWithValueHead.from_pretrained(main_model_name).to(device)\n",
        "    dataset = datasets.load_dataset(dataset_name, split='train')\n",
        "\n",
        "    config = trl.DDPOStableDiffusionPipelinePPOConfig(\n",
        "        model_name=main_model_name,\n",
        "        learning_rate=1e-5,\n",
        "        batch_size=8,\n",
        "        ppo_epochs=4,\n",
        "        max_length=128,\n",
        "        target_kl=0.1\n",
        "    )\n",
        "\n",
        "    ppo_trainer = trl.PPOTrainer(\n",
        "        config,\n",
        "        main_model,\n",
        "        tokenizer,\n",
        "        dataset=dataset\n",
        "    )\n",
        "\n",
        "    def compute_reward(samples):\n",
        "        rewards = []\n",
        "        for sample in samples:\n",
        "            inputs = reward_tokenizer(sample, truncation=True, return_tensors='pt').to(device)\n",
        "            with torch.no_grad():\n",
        "                reward = reward_model(**inputs).logits[0, 0].item()\n",
        "            rewards.append(reward)\n",
        "        return rewards\n",
        "\n",
        "    for epoch, batch in enumerate(ppo_trainer.dataloader):\n",
        "        # Generate model samples\n",
        "        prompts = batch['text']\n",
        "        query_tensors = tokenizer(prompts, return_tensors='pt', truncation=True, padding=True).to(device)\n",
        "        output_tensors = ppo_trainer.generate(query_tensors['input_ids'], max_new_tokens=50)\n",
        "        samples = tokenizer.batch_decode(output_tensors, skip_special_tokens=True)\n",
        "\n",
        "        # Compute rewards\n",
        "        rewards = compute_reward(samples)\n",
        "\n",
        "        # Run PPO step\n",
        "        ppo_trainer.step(query_tensors['input_ids'], output_tensors, rewards)\n",
        "        print(f\"Epoch {epoch}: Rewards: {np.mean(rewards):.4f}\")\n",
        "\n",
        "    print(\"RLHF fine-tuning completed!\")\n",
        "    return generation_model\n",
        "\n",
        "# Example usage\n",
        "device = torch.device(\"cuda\" if torch.cuda.is_available() else \"cpu\")\n",
        "reward_model_name = \"lvwerra/gpt2-imdb\"\n",
        "generation_model_name = \"gpt2-large\"\n",
        "dataset_name = \"anthropic/hh-rlhf\"\n",
        "\n",
        "# Load reward model and tokenizer\n",
        "reward_tokenizer = AutoTokenizer.from_pretrained(reward_model_name)\n",
        "reward_model = AutoModelForCausalLM.from_pretrained(reward_model_name).to(device)\n",
        "\n",
        "# Train RLHF fine-tuning pipeline\n",
        "rlhf_model = finetune_rlhf_pipeline(\n",
        "    reward_model,\n",
        "    reward_tokenizer,\n",
        "    generation_model_name,\n",
        "    task_name=\"human_feedback\",\n",
        "    dataset_name=dataset_name,\n",
        "    device=device\n",
        ")\n",
        "\n",
        "# Save fine-tuned model\n",
        "rlhf_model.save_pretrained(\"fine_tuned_rlhf_model\")\n",
        "print(\"Fine-tuned RLHF model saved!\")\n"
      ],
      "metadata": {
        "colab": {
          "base_uri": "https://localhost:8080/",
          "height": 211
        },
        "id": "yH4N69_QrSm7",
        "outputId": "38f6c66e-2a53-4b59-bb17-12ba14c7114b"
      },
      "execution_count": 35,
      "outputs": [
        {
          "output_type": "error",
          "ename": "NameError",
          "evalue": "name 'AutoTokenizer' is not defined",
          "traceback": [
            "\u001b[0;31m---------------------------------------------------------------------------\u001b[0m",
            "\u001b[0;31mNameError\u001b[0m                                 Traceback (most recent call last)",
            "\u001b[0;32m<ipython-input-35-79a7e46f4380>\u001b[0m in \u001b[0;36m<cell line: 55>\u001b[0;34m()\u001b[0m\n\u001b[1;32m     53\u001b[0m \u001b[0;34m\u001b[0m\u001b[0m\n\u001b[1;32m     54\u001b[0m \u001b[0;31m# Load reward model and tokenizer\u001b[0m\u001b[0;34m\u001b[0m\u001b[0;34m\u001b[0m\u001b[0m\n\u001b[0;32m---> 55\u001b[0;31m \u001b[0mreward_tokenizer\u001b[0m \u001b[0;34m=\u001b[0m \u001b[0mAutoTokenizer\u001b[0m\u001b[0;34m.\u001b[0m\u001b[0mfrom_pretrained\u001b[0m\u001b[0;34m(\u001b[0m\u001b[0mreward_model_name\u001b[0m\u001b[0;34m)\u001b[0m\u001b[0;34m\u001b[0m\u001b[0;34m\u001b[0m\u001b[0m\n\u001b[0m\u001b[1;32m     56\u001b[0m \u001b[0mreward_model\u001b[0m \u001b[0;34m=\u001b[0m \u001b[0mAutoModelForCausalLM\u001b[0m\u001b[0;34m.\u001b[0m\u001b[0mfrom_pretrained\u001b[0m\u001b[0;34m(\u001b[0m\u001b[0mreward_model_name\u001b[0m\u001b[0;34m)\u001b[0m\u001b[0;34m.\u001b[0m\u001b[0mto\u001b[0m\u001b[0;34m(\u001b[0m\u001b[0mdevice\u001b[0m\u001b[0;34m)\u001b[0m\u001b[0;34m\u001b[0m\u001b[0;34m\u001b[0m\u001b[0m\n\u001b[1;32m     57\u001b[0m \u001b[0;34m\u001b[0m\u001b[0m\n",
            "\u001b[0;31mNameError\u001b[0m: name 'AutoTokenizer' is not defined"
          ]
        }
      ]
    },
    {
      "cell_type": "code",
      "source": [],
      "metadata": {
        "id": "aTngqe1nmc8W"
      },
      "execution_count": null,
      "outputs": []
    }
  ],
  "metadata": {
    "colab": {
      "provenance": [],
      "gpuType": "A100",
      "machine_shape": "hm"
    },
    "kernelspec": {
      "display_name": "Python 3",
      "name": "python3"
    },
    "language_info": {
      "codemirror_mode": {
        "name": "ipython",
        "version": 3
      },
      "file_extension": ".py",
      "mimetype": "text/x-python",
      "name": "python",
      "nbconvert_exporter": "python",
      "pygments_lexer": "ipython3",
      "version": "3.9.12 (main, Mar 26 2022, 15:51:15) \n[Clang 13.1.6 (clang-1316.0.21.2)]"
    },
    "vscode": {
      "interpreter": {
        "hash": "4c8ff454cd947027f86954d72bf940c689a97dcc494eb53cfe4813862c6065fe"
      }
    },
    "widgets": {
      "application/vnd.jupyter.widget-state+json": {
        "bd2957ddd6ba4aa7bc2f581faa7c166e": {
          "model_module": "@jupyter-widgets/controls",
          "model_name": "HBoxModel",
          "model_module_version": "1.5.0",
          "state": {
            "_dom_classes": [],
            "_model_module": "@jupyter-widgets/controls",
            "_model_module_version": "1.5.0",
            "_model_name": "HBoxModel",
            "_view_count": null,
            "_view_module": "@jupyter-widgets/controls",
            "_view_module_version": "1.5.0",
            "_view_name": "HBoxView",
            "box_style": "",
            "children": [
              "IPY_MODEL_159552672d334a539db8412836dfe69d",
              "IPY_MODEL_0a08e7f9b4e14d42a7770cc17dd164b5",
              "IPY_MODEL_80dfa6d2e1f442e7a606dbf93d645305"
            ],
            "layout": "IPY_MODEL_92330e1feb15439cb6e42ac8b6c55a46"
          }
        },
        "159552672d334a539db8412836dfe69d": {
          "model_module": "@jupyter-widgets/controls",
          "model_name": "HTMLModel",
          "model_module_version": "1.5.0",
          "state": {
            "_dom_classes": [],
            "_model_module": "@jupyter-widgets/controls",
            "_model_module_version": "1.5.0",
            "_model_name": "HTMLModel",
            "_view_count": null,
            "_view_module": "@jupyter-widgets/controls",
            "_view_module_version": "1.5.0",
            "_view_name": "HTMLView",
            "description": "",
            "description_tooltip": null,
            "layout": "IPY_MODEL_f5c5028f1a7b420d85b914d8253a1411",
            "placeholder": "​",
            "style": "IPY_MODEL_424c84c453be42208bc54262bff72152",
            "value": "100%"
          }
        },
        "0a08e7f9b4e14d42a7770cc17dd164b5": {
          "model_module": "@jupyter-widgets/controls",
          "model_name": "FloatProgressModel",
          "model_module_version": "1.5.0",
          "state": {
            "_dom_classes": [],
            "_model_module": "@jupyter-widgets/controls",
            "_model_module_version": "1.5.0",
            "_model_name": "FloatProgressModel",
            "_view_count": null,
            "_view_module": "@jupyter-widgets/controls",
            "_view_module_version": "1.5.0",
            "_view_name": "ProgressView",
            "bar_style": "danger",
            "description": "",
            "description_tooltip": null,
            "layout": "IPY_MODEL_3f03fa9f94f7479b80d2479c90ac7839",
            "max": 50,
            "min": 0,
            "orientation": "horizontal",
            "style": "IPY_MODEL_1c7321e8eb5e42c697ed7303a3693cfc",
            "value": 50
          }
        },
        "80dfa6d2e1f442e7a606dbf93d645305": {
          "model_module": "@jupyter-widgets/controls",
          "model_name": "HTMLModel",
          "model_module_version": "1.5.0",
          "state": {
            "_dom_classes": [],
            "_model_module": "@jupyter-widgets/controls",
            "_model_module_version": "1.5.0",
            "_model_name": "HTMLModel",
            "_view_count": null,
            "_view_module": "@jupyter-widgets/controls",
            "_view_module_version": "1.5.0",
            "_view_name": "HTMLView",
            "description": "",
            "description_tooltip": null,
            "layout": "IPY_MODEL_9bea2ac29ec543ff8d90ddf95eab93f2",
            "placeholder": "​",
            "style": "IPY_MODEL_40a51333114549508e4a2734513283a0",
            "value": " 50/50 [39:37&lt;00:00, 44.72s/it]"
          }
        },
        "92330e1feb15439cb6e42ac8b6c55a46": {
          "model_module": "@jupyter-widgets/base",
          "model_name": "LayoutModel",
          "model_module_version": "1.2.0",
          "state": {
            "_model_module": "@jupyter-widgets/base",
            "_model_module_version": "1.2.0",
            "_model_name": "LayoutModel",
            "_view_count": null,
            "_view_module": "@jupyter-widgets/base",
            "_view_module_version": "1.2.0",
            "_view_name": "LayoutView",
            "align_content": null,
            "align_items": null,
            "align_self": null,
            "border": null,
            "bottom": null,
            "display": null,
            "flex": null,
            "flex_flow": null,
            "grid_area": null,
            "grid_auto_columns": null,
            "grid_auto_flow": null,
            "grid_auto_rows": null,
            "grid_column": null,
            "grid_gap": null,
            "grid_row": null,
            "grid_template_areas": null,
            "grid_template_columns": null,
            "grid_template_rows": null,
            "height": null,
            "justify_content": null,
            "justify_items": null,
            "left": null,
            "margin": null,
            "max_height": null,
            "max_width": null,
            "min_height": null,
            "min_width": null,
            "object_fit": null,
            "object_position": null,
            "order": null,
            "overflow": null,
            "overflow_x": null,
            "overflow_y": null,
            "padding": null,
            "right": null,
            "top": null,
            "visibility": null,
            "width": null
          }
        },
        "f5c5028f1a7b420d85b914d8253a1411": {
          "model_module": "@jupyter-widgets/base",
          "model_name": "LayoutModel",
          "model_module_version": "1.2.0",
          "state": {
            "_model_module": "@jupyter-widgets/base",
            "_model_module_version": "1.2.0",
            "_model_name": "LayoutModel",
            "_view_count": null,
            "_view_module": "@jupyter-widgets/base",
            "_view_module_version": "1.2.0",
            "_view_name": "LayoutView",
            "align_content": null,
            "align_items": null,
            "align_self": null,
            "border": null,
            "bottom": null,
            "display": null,
            "flex": null,
            "flex_flow": null,
            "grid_area": null,
            "grid_auto_columns": null,
            "grid_auto_flow": null,
            "grid_auto_rows": null,
            "grid_column": null,
            "grid_gap": null,
            "grid_row": null,
            "grid_template_areas": null,
            "grid_template_columns": null,
            "grid_template_rows": null,
            "height": null,
            "justify_content": null,
            "justify_items": null,
            "left": null,
            "margin": null,
            "max_height": null,
            "max_width": null,
            "min_height": null,
            "min_width": null,
            "object_fit": null,
            "object_position": null,
            "order": null,
            "overflow": null,
            "overflow_x": null,
            "overflow_y": null,
            "padding": null,
            "right": null,
            "top": null,
            "visibility": null,
            "width": null
          }
        },
        "424c84c453be42208bc54262bff72152": {
          "model_module": "@jupyter-widgets/controls",
          "model_name": "DescriptionStyleModel",
          "model_module_version": "1.5.0",
          "state": {
            "_model_module": "@jupyter-widgets/controls",
            "_model_module_version": "1.5.0",
            "_model_name": "DescriptionStyleModel",
            "_view_count": null,
            "_view_module": "@jupyter-widgets/base",
            "_view_module_version": "1.2.0",
            "_view_name": "StyleView",
            "description_width": ""
          }
        },
        "3f03fa9f94f7479b80d2479c90ac7839": {
          "model_module": "@jupyter-widgets/base",
          "model_name": "LayoutModel",
          "model_module_version": "1.2.0",
          "state": {
            "_model_module": "@jupyter-widgets/base",
            "_model_module_version": "1.2.0",
            "_model_name": "LayoutModel",
            "_view_count": null,
            "_view_module": "@jupyter-widgets/base",
            "_view_module_version": "1.2.0",
            "_view_name": "LayoutView",
            "align_content": null,
            "align_items": null,
            "align_self": null,
            "border": null,
            "bottom": null,
            "display": null,
            "flex": null,
            "flex_flow": null,
            "grid_area": null,
            "grid_auto_columns": null,
            "grid_auto_flow": null,
            "grid_auto_rows": null,
            "grid_column": null,
            "grid_gap": null,
            "grid_row": null,
            "grid_template_areas": null,
            "grid_template_columns": null,
            "grid_template_rows": null,
            "height": null,
            "justify_content": null,
            "justify_items": null,
            "left": null,
            "margin": null,
            "max_height": null,
            "max_width": null,
            "min_height": null,
            "min_width": null,
            "object_fit": null,
            "object_position": null,
            "order": null,
            "overflow": null,
            "overflow_x": null,
            "overflow_y": null,
            "padding": null,
            "right": null,
            "top": null,
            "visibility": null,
            "width": null
          }
        },
        "1c7321e8eb5e42c697ed7303a3693cfc": {
          "model_module": "@jupyter-widgets/controls",
          "model_name": "ProgressStyleModel",
          "model_module_version": "1.5.0",
          "state": {
            "_model_module": "@jupyter-widgets/controls",
            "_model_module_version": "1.5.0",
            "_model_name": "ProgressStyleModel",
            "_view_count": null,
            "_view_module": "@jupyter-widgets/base",
            "_view_module_version": "1.2.0",
            "_view_name": "StyleView",
            "bar_color": null,
            "description_width": ""
          }
        },
        "9bea2ac29ec543ff8d90ddf95eab93f2": {
          "model_module": "@jupyter-widgets/base",
          "model_name": "LayoutModel",
          "model_module_version": "1.2.0",
          "state": {
            "_model_module": "@jupyter-widgets/base",
            "_model_module_version": "1.2.0",
            "_model_name": "LayoutModel",
            "_view_count": null,
            "_view_module": "@jupyter-widgets/base",
            "_view_module_version": "1.2.0",
            "_view_name": "LayoutView",
            "align_content": null,
            "align_items": null,
            "align_self": null,
            "border": null,
            "bottom": null,
            "display": null,
            "flex": null,
            "flex_flow": null,
            "grid_area": null,
            "grid_auto_columns": null,
            "grid_auto_flow": null,
            "grid_auto_rows": null,
            "grid_column": null,
            "grid_gap": null,
            "grid_row": null,
            "grid_template_areas": null,
            "grid_template_columns": null,
            "grid_template_rows": null,
            "height": null,
            "justify_content": null,
            "justify_items": null,
            "left": null,
            "margin": null,
            "max_height": null,
            "max_width": null,
            "min_height": null,
            "min_width": null,
            "object_fit": null,
            "object_position": null,
            "order": null,
            "overflow": null,
            "overflow_x": null,
            "overflow_y": null,
            "padding": null,
            "right": null,
            "top": null,
            "visibility": null,
            "width": null
          }
        },
        "40a51333114549508e4a2734513283a0": {
          "model_module": "@jupyter-widgets/controls",
          "model_name": "DescriptionStyleModel",
          "model_module_version": "1.5.0",
          "state": {
            "_model_module": "@jupyter-widgets/controls",
            "_model_module_version": "1.5.0",
            "_model_name": "DescriptionStyleModel",
            "_view_count": null,
            "_view_module": "@jupyter-widgets/base",
            "_view_module_version": "1.2.0",
            "_view_name": "StyleView",
            "description_width": ""
          }
        }
      }
    },
    "accelerator": "GPU"
  },
  "nbformat": 4,
  "nbformat_minor": 0
}