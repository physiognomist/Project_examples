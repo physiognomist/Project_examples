{
 "cells": [
  {
   "cell_type": "code",
   "execution_count": 1,
   "metadata": {},
   "outputs": [],
   "source": [
    "import warnings\n",
    "import pandas as pd\n",
    "import numpy as np\n",
    "import seaborn as sns\n",
    "import matplotlib.pyplot as plt\n",
    "from itertools import combinations\n",
    "from IPython.display import display\n",
    "from datetime import timedelta\n",
    "from sklearn import metrics \n",
    "from sklearn.cluster import KMeans\n",
    "from sklearn.preprocessing import StandardScaler\n",
    "from scipy.cluster.hierarchy import dendrogram, linkage\n",
    "from scipy.stats import mannwhitneyu\n",
    "from statsmodels.stats.proportion import proportions_ztest"
   ]
  },
  {
   "cell_type": "markdown",
   "metadata": {},
   "source": [
    "**Описание проекта:** в проекте исследуется структура активности пользователей мобильного приложения и на ее основе выделяются группы пользователей, для каждой из которых подсчитываются целевые метрики, анализируются причины различий в метриках между группами и предлагаются рекомендации по улучшению метрик. \n",
    " \n",
    "**Цель проекта:** \n",
    "1. Сегментировать пользователей на группы на основе поведения в приложении;\n",
    "2. Провести статистический анализ различий между выделенными группами пользователей по целевым метрикам;\n",
    "3. Сформировать типичные портреты клиентов. \n",
    "\n",
    "**Описание данных.**\n",
    "\n",
    "Дафрейм mobile_dataset.csv:\n",
    "- event.time — время совершения\n",
    "- event.name — название события\n",
    "- user.id — идентификатор пользователя\n",
    "\n",
    "Датафрейм mobile_sources.csv:\n",
    "- userId — идентификатор пользователя\n",
    "- source — источник, с которого пользователь установил приложение"
   ]
  },
  {
   "cell_type": "markdown",
   "metadata": {},
   "source": [
    "### Содержание\n",
    "\n",
    "<a href='#step1'>Шаг 1. Предобработка данных </a>\n",
    "\n",
    "<a href='#step2'>Шаг 2. Исследовательский анализ и работа с метриками </a>\n",
    "\n",
    "<a href='#step3'>Шаг 3. Сегментация пользователей </a>\n",
    "\n",
    "<a href='#step4'>Шаг 4. Статистический анализ данных</a>\n",
    "\n",
    "<a href='#step5'>Шаг 5. Описание результатов и выводы</a>"
   ]
  },
  {
   "cell_type": "markdown",
   "metadata": {},
   "source": [
    "<a id='step1'></a>\n",
    "## Предобработка данных"
   ]
  },
  {
   "cell_type": "markdown",
   "metadata": {},
   "source": [
    "**Сохранение данных в датафрейм**"
   ]
  },
  {
   "cell_type": "code",
   "execution_count": 2,
   "metadata": {},
   "outputs": [],
   "source": [
    "dataset = pd.read_csv('')\n",
    "sources = pd.read_csv('')"
   ]
  },
  {
   "cell_type": "code",
   "execution_count": 3,
   "metadata": {},
   "outputs": [],
   "source": [
    "data = pd.merge(dataset, sources, how='left', left_on='user.id', right_on='userId').drop('userId', axis=1)"
   ]
  },
  {
   "cell_type": "code",
   "execution_count": 4,
   "metadata": {},
   "outputs": [
    {
     "data": {
      "text/html": [
       "<div>\n",
       "<style scoped>\n",
       "    .dataframe tbody tr th:only-of-type {\n",
       "        vertical-align: middle;\n",
       "    }\n",
       "\n",
       "    .dataframe tbody tr th {\n",
       "        vertical-align: top;\n",
       "    }\n",
       "\n",
       "    .dataframe thead th {\n",
       "        text-align: right;\n",
       "    }\n",
       "</style>\n",
       "<table border=\"1\" class=\"dataframe\">\n",
       "  <thead>\n",
       "    <tr style=\"text-align: right;\">\n",
       "      <th></th>\n",
       "      <th>event.time</th>\n",
       "      <th>event.name</th>\n",
       "      <th>user.id</th>\n",
       "      <th>source</th>\n",
       "    </tr>\n",
       "  </thead>\n",
       "  <tbody>\n",
       "    <tr>\n",
       "      <td>21307</td>\n",
       "      <td>2019-10-15 21:57:01.818297</td>\n",
       "      <td>search_5</td>\n",
       "      <td>b5989ef9-d4fb-469c-9e38-313a33f307e3</td>\n",
       "      <td>yandex</td>\n",
       "    </tr>\n",
       "    <tr>\n",
       "      <td>3988</td>\n",
       "      <td>2019-10-08 16:01:25.086582</td>\n",
       "      <td>favorites_add</td>\n",
       "      <td>9ce63488-758a-481a-bcb5-a02b467e1d84</td>\n",
       "      <td>yandex</td>\n",
       "    </tr>\n",
       "    <tr>\n",
       "      <td>31007</td>\n",
       "      <td>2019-10-19 17:50:47.848265</td>\n",
       "      <td>advert_open</td>\n",
       "      <td>2561e4bb-a650-4009-bfc5-24632955b8b2</td>\n",
       "      <td>google</td>\n",
       "    </tr>\n",
       "    <tr>\n",
       "      <td>64159</td>\n",
       "      <td>2019-10-31 04:19:02.205127</td>\n",
       "      <td>tips_show</td>\n",
       "      <td>20436f39-6741-4e02-97a3-24899593b549</td>\n",
       "      <td>other</td>\n",
       "    </tr>\n",
       "    <tr>\n",
       "      <td>9836</td>\n",
       "      <td>2019-10-11 12:09:25.591570</td>\n",
       "      <td>tips_show</td>\n",
       "      <td>68c94835-e896-4d48-a2c0-3c3226cec629</td>\n",
       "      <td>yandex</td>\n",
       "    </tr>\n",
       "  </tbody>\n",
       "</table>\n",
       "</div>"
      ],
      "text/plain": [
       "                       event.time     event.name  \\\n",
       "21307  2019-10-15 21:57:01.818297       search_5   \n",
       "3988   2019-10-08 16:01:25.086582  favorites_add   \n",
       "31007  2019-10-19 17:50:47.848265    advert_open   \n",
       "64159  2019-10-31 04:19:02.205127      tips_show   \n",
       "9836   2019-10-11 12:09:25.591570      tips_show   \n",
       "\n",
       "                                    user.id  source  \n",
       "21307  b5989ef9-d4fb-469c-9e38-313a33f307e3  yandex  \n",
       "3988   9ce63488-758a-481a-bcb5-a02b467e1d84  yandex  \n",
       "31007  2561e4bb-a650-4009-bfc5-24632955b8b2  google  \n",
       "64159  20436f39-6741-4e02-97a3-24899593b549   other  \n",
       "9836   68c94835-e896-4d48-a2c0-3c3226cec629  yandex  "
      ]
     },
     "execution_count": 4,
     "metadata": {},
     "output_type": "execute_result"
    }
   ],
   "source": [
    "data.sample(5)"
   ]
  },
  {
   "cell_type": "markdown",
   "metadata": {},
   "source": [
    "**Унификация названий и значений колонок, проверка на наличие пропущенных значений**"
   ]
  },
  {
   "cell_type": "code",
   "execution_count": 5,
   "metadata": {},
   "outputs": [
    {
     "name": "stdout",
     "output_type": "stream",
     "text": [
      "<class 'pandas.core.frame.DataFrame'>\n",
      "Int64Index: 74197 entries, 0 to 74196\n",
      "Data columns (total 4 columns):\n",
      "event.time    74197 non-null object\n",
      "event.name    74197 non-null object\n",
      "user.id       74197 non-null object\n",
      "source        74197 non-null object\n",
      "dtypes: object(4)\n",
      "memory usage: 2.8+ MB\n"
     ]
    }
   ],
   "source": [
    "data.info()"
   ]
  },
  {
   "cell_type": "code",
   "execution_count": 6,
   "metadata": {},
   "outputs": [],
   "source": [
    "data.columns = ['event_time', 'event_name', 'user_id', 'source']"
   ]
  },
  {
   "cell_type": "code",
   "execution_count": 7,
   "metadata": {},
   "outputs": [
    {
     "data": {
      "text/plain": [
       "array(['other', 'yandex', 'google'], dtype=object)"
      ]
     },
     "execution_count": 7,
     "metadata": {},
     "output_type": "execute_result"
    }
   ],
   "source": [
    "data['source'].unique()"
   ]
  },
  {
   "cell_type": "code",
   "execution_count": 8,
   "metadata": {},
   "outputs": [
    {
     "data": {
      "text/plain": [
       "array(['advert_open', 'tips_show', 'map', 'contacts_show', 'search_4',\n",
       "       'search_5', 'tips_click', 'photos_show', 'search_1', 'search_2',\n",
       "       'search_3', 'favorites_add', 'contacts_call', 'search_6',\n",
       "       'search_7', 'show_contacts'], dtype=object)"
      ]
     },
     "execution_count": 8,
     "metadata": {},
     "output_type": "execute_result"
    }
   ],
   "source": [
    "data['event_name'].unique()"
   ]
  },
  {
   "cell_type": "markdown",
   "metadata": {},
   "source": [
    "Видим, что одно событие \"Показать контакты\" имеет два названия, \"show_contacts\" и \"cotacts_show\". Исправляем."
   ]
  },
  {
   "cell_type": "code",
   "execution_count": 9,
   "metadata": {},
   "outputs": [],
   "source": [
    "data.loc[data['event_name'] == 'contacts_show', 'event_name'] = 'show_contacts'"
   ]
  },
  {
   "cell_type": "markdown",
   "metadata": {},
   "source": [
    "Все значения в колонках датафрейма представлены в одном формате."
   ]
  },
  {
   "cell_type": "code",
   "execution_count": 10,
   "metadata": {},
   "outputs": [
    {
     "data": {
      "text/plain": [
       "4293"
      ]
     },
     "execution_count": 10,
     "metadata": {},
     "output_type": "execute_result"
    }
   ],
   "source": [
    "len(data['user_id'].unique())"
   ]
  },
  {
   "cell_type": "markdown",
   "metadata": {},
   "source": [
    "**Изменение типов данных**"
   ]
  },
  {
   "cell_type": "code",
   "execution_count": 11,
   "metadata": {},
   "outputs": [],
   "source": [
    "data['event_time'] = pd.to_datetime(data['event_time'], format='%Y-%m-%d %H:%M:%S').astype('datetime64[s]')"
   ]
  },
  {
   "cell_type": "code",
   "execution_count": 12,
   "metadata": {},
   "outputs": [],
   "source": [
    "data = data.drop_duplicates().reset_index(drop=True)"
   ]
  },
  {
   "cell_type": "markdown",
   "metadata": {},
   "source": [
    "**Генерация признаков**"
   ]
  },
  {
   "cell_type": "markdown",
   "metadata": {},
   "source": [
    "Все регистрируемые действия, связанные с поиском, насколько известно, являются составными элементами одной общей активности, объединяем их"
   ]
  },
  {
   "cell_type": "code",
   "execution_count": 13,
   "metadata": {},
   "outputs": [],
   "source": [
    "data.loc[data.event_name.str.contains('search'), 'event_name'] = 'search'"
   ]
  },
  {
   "cell_type": "code",
   "execution_count": 14,
   "metadata": {},
   "outputs": [
    {
     "data": {
      "image/png": "[encoded data removed]",
      "text/plain": [
       "<Figure size 864x432 with 1 Axes>"
      ]
     },
     "metadata": {
      "needs_background": "light"
     },
     "output_type": "display_data"
    }
   ],
   "source": [
    "event_barplot = data['event_name'].value_counts().sort_values()\n",
    "plt.figure(figsize=(12,6))\n",
    "sns.barplot(x = event_barplot.index, y = event_barplot)\n",
    "plt.xlabel('Действие')\n",
    "plt.ylabel('Действие совершено в приложении, раз')\n",
    "plt.title('Представленность различных действий в общей активности пользователей')\n",
    "plt.show()"
   ]
  },
  {
   "cell_type": "markdown",
   "metadata": {},
   "source": [
    "Смотрим, как активность меняется со временем суток"
   ]
  },
  {
   "cell_type": "code",
   "execution_count": 15,
   "metadata": {},
   "outputs": [
    {
     "data": {
      "image/png": "[encoded data removed]",
      "text/plain": [
       "<Figure size 864x432 with 1 Axes>"
      ]
     },
     "metadata": {
      "needs_background": "light"
     },
     "output_type": "display_data"
    }
   ],
   "source": [
    "warnings.filterwarnings(action='ignore')\n",
    "\n",
    "data['hour'] = data['event_time'].dt.hour\n",
    "actions_by_hour = data.groupby('hour')['event_name'].count()\n",
    "plt.figure(figsize=(12,6))\n",
    "sns.lineplot(x=actions_by_hour.index, y=actions_by_hour)\n",
    "plt.ylabel('Количество событий')\n",
    "plt.xlabel('Час')\n",
    "plt.grid()\n",
    "plt.show()"
   ]
  },
  {
   "cell_type": "markdown",
   "metadata": {},
   "source": [
    "Пробуем выделить признаки на основе времени. \n",
    "\n",
    "Создаем новую колонку в датафрейме, в нее записываем, в какое время суток было совершено действие (ночь/утро/день/вечер)."
   ]
  },
  {
   "cell_type": "code",
   "execution_count": 16,
   "metadata": {},
   "outputs": [],
   "source": [
    "conditions = [(data.hour >= 0) & (data.hour < 6), \n",
    "              (data.hour >= 6) & (data.hour < 12), \n",
    "              (data.hour >= 12) & (data.hour < 18), \n",
    "              (data.hour >= 18) & (data.hour < 24)]\n",
    "cat_values = ['night', 'morning', 'day', 'evening']\n",
    "data['time_of_day'] = pd.Series(np.select(conditions, cat_values), index=data.index)"
   ]
  },
  {
   "cell_type": "markdown",
   "metadata": {},
   "source": [
    "One-hot encoding колонок с информацией о событии, источнике и времени суток."
   ]
  },
  {
   "cell_type": "code",
   "execution_count": 17,
   "metadata": {},
   "outputs": [],
   "source": [
    "dummie_features = pd.get_dummies(data[['event_name', 'source', 'time_of_day']])"
   ]
  },
  {
   "cell_type": "markdown",
   "metadata": {},
   "source": [
    "Подготавливаем датафрейм с описанием пользователей. Сопоставляем датафрейм с дамми-признаками с информацией об идентификторах пользователей, совершивщих действие, группируем получившийся датафрейм по user_id и находим среднее по каждой колонке (получаем, какую долю от общей активности у каждого пользователя составляет каждое действие, с какого источника он пришел, в какое время суток предпочитает пользоваться приложением)."
   ]
  },
  {
   "cell_type": "code",
   "execution_count": 18,
   "metadata": {},
   "outputs": [],
   "source": [
    "prep_data = pd.merge(data['user_id'], dummie_features, left_on=data.index, right_on=dummie_features.index)\n",
    "prep_data = prep_data.drop('key_0', axis=1)"
   ]
  },
  {
   "cell_type": "code",
   "execution_count": 19,
   "metadata": {},
   "outputs": [],
   "source": [
    "prep_data = prep_data.groupby('user_id').mean()"
   ]
  },
  {
   "cell_type": "code",
   "execution_count": 20,
   "metadata": {},
   "outputs": [
    {
     "data": {
      "text/html": [
       "<div>\n",
       "<style scoped>\n",
       "    .dataframe tbody tr th:only-of-type {\n",
       "        vertical-align: middle;\n",
       "    }\n",
       "\n",
       "    .dataframe tbody tr th {\n",
       "        vertical-align: top;\n",
       "    }\n",
       "\n",
       "    .dataframe thead th {\n",
       "        text-align: right;\n",
       "    }\n",
       "</style>\n",
       "<table border=\"1\" class=\"dataframe\">\n",
       "  <thead>\n",
       "    <tr style=\"text-align: right;\">\n",
       "      <th></th>\n",
       "      <th>event_name_advert_open</th>\n",
       "      <th>event_name_contacts_call</th>\n",
       "      <th>event_name_favorites_add</th>\n",
       "      <th>event_name_map</th>\n",
       "      <th>event_name_photos_show</th>\n",
       "      <th>event_name_search</th>\n",
       "      <th>event_name_show_contacts</th>\n",
       "      <th>event_name_tips_click</th>\n",
       "      <th>event_name_tips_show</th>\n",
       "      <th>source_google</th>\n",
       "      <th>source_other</th>\n",
       "      <th>source_yandex</th>\n",
       "      <th>time_of_day_day</th>\n",
       "      <th>time_of_day_evening</th>\n",
       "      <th>time_of_day_morning</th>\n",
       "      <th>time_of_day_night</th>\n",
       "    </tr>\n",
       "    <tr>\n",
       "      <th>user_id</th>\n",
       "      <th></th>\n",
       "      <th></th>\n",
       "      <th></th>\n",
       "      <th></th>\n",
       "      <th></th>\n",
       "      <th></th>\n",
       "      <th></th>\n",
       "      <th></th>\n",
       "      <th></th>\n",
       "      <th></th>\n",
       "      <th></th>\n",
       "      <th></th>\n",
       "      <th></th>\n",
       "      <th></th>\n",
       "      <th></th>\n",
       "      <th></th>\n",
       "    </tr>\n",
       "  </thead>\n",
       "  <tbody>\n",
       "    <tr>\n",
       "      <td>0001b1d5-b74a-4cbf-aeb0-7df5947bf349</td>\n",
       "      <td>0.000000</td>\n",
       "      <td>0.000000</td>\n",
       "      <td>0.000000</td>\n",
       "      <td>0.171429</td>\n",
       "      <td>0.000000</td>\n",
       "      <td>0.000000</td>\n",
       "      <td>0.000000</td>\n",
       "      <td>0.0</td>\n",
       "      <td>0.828571</td>\n",
       "      <td>0.0</td>\n",
       "      <td>1.0</td>\n",
       "      <td>0.0</td>\n",
       "      <td>0.257143</td>\n",
       "      <td>0.514286</td>\n",
       "      <td>0.228571</td>\n",
       "      <td>0.000000</td>\n",
       "    </tr>\n",
       "    <tr>\n",
       "      <td>00157779-810c-4498-9e05-a1e9e3cedf93</td>\n",
       "      <td>0.028169</td>\n",
       "      <td>0.070423</td>\n",
       "      <td>0.028169</td>\n",
       "      <td>0.000000</td>\n",
       "      <td>0.464789</td>\n",
       "      <td>0.253521</td>\n",
       "      <td>0.154930</td>\n",
       "      <td>0.0</td>\n",
       "      <td>0.000000</td>\n",
       "      <td>0.0</td>\n",
       "      <td>0.0</td>\n",
       "      <td>1.0</td>\n",
       "      <td>0.014085</td>\n",
       "      <td>0.661972</td>\n",
       "      <td>0.323944</td>\n",
       "      <td>0.000000</td>\n",
       "    </tr>\n",
       "    <tr>\n",
       "      <td>00463033-5717-4bf1-91b4-09183923b9df</td>\n",
       "      <td>0.000000</td>\n",
       "      <td>0.000000</td>\n",
       "      <td>0.000000</td>\n",
       "      <td>0.000000</td>\n",
       "      <td>1.000000</td>\n",
       "      <td>0.000000</td>\n",
       "      <td>0.000000</td>\n",
       "      <td>0.0</td>\n",
       "      <td>0.000000</td>\n",
       "      <td>0.0</td>\n",
       "      <td>0.0</td>\n",
       "      <td>1.0</td>\n",
       "      <td>1.000000</td>\n",
       "      <td>0.000000</td>\n",
       "      <td>0.000000</td>\n",
       "      <td>0.000000</td>\n",
       "    </tr>\n",
       "    <tr>\n",
       "      <td>004690c3-5a84-4bb7-a8af-e0c8f8fca64e</td>\n",
       "      <td>0.156250</td>\n",
       "      <td>0.000000</td>\n",
       "      <td>0.000000</td>\n",
       "      <td>0.187500</td>\n",
       "      <td>0.000000</td>\n",
       "      <td>0.531250</td>\n",
       "      <td>0.000000</td>\n",
       "      <td>0.0</td>\n",
       "      <td>0.125000</td>\n",
       "      <td>1.0</td>\n",
       "      <td>0.0</td>\n",
       "      <td>0.0</td>\n",
       "      <td>0.156250</td>\n",
       "      <td>0.656250</td>\n",
       "      <td>0.000000</td>\n",
       "      <td>0.187500</td>\n",
       "    </tr>\n",
       "    <tr>\n",
       "      <td>00551e79-152e-4441-9cf7-565d7eb04090</td>\n",
       "      <td>0.000000</td>\n",
       "      <td>0.375000</td>\n",
       "      <td>0.000000</td>\n",
       "      <td>0.000000</td>\n",
       "      <td>0.125000</td>\n",
       "      <td>0.125000</td>\n",
       "      <td>0.375000</td>\n",
       "      <td>0.0</td>\n",
       "      <td>0.000000</td>\n",
       "      <td>0.0</td>\n",
       "      <td>0.0</td>\n",
       "      <td>1.0</td>\n",
       "      <td>0.875000</td>\n",
       "      <td>0.000000</td>\n",
       "      <td>0.000000</td>\n",
       "      <td>0.125000</td>\n",
       "    </tr>\n",
       "    <tr>\n",
       "      <td>...</td>\n",
       "      <td>...</td>\n",
       "      <td>...</td>\n",
       "      <td>...</td>\n",
       "      <td>...</td>\n",
       "      <td>...</td>\n",
       "      <td>...</td>\n",
       "      <td>...</td>\n",
       "      <td>...</td>\n",
       "      <td>...</td>\n",
       "      <td>...</td>\n",
       "      <td>...</td>\n",
       "      <td>...</td>\n",
       "      <td>...</td>\n",
       "      <td>...</td>\n",
       "      <td>...</td>\n",
       "      <td>...</td>\n",
       "    </tr>\n",
       "    <tr>\n",
       "      <td>ffab8d8a-30bb-424a-a3ab-0b63ebbf7b07</td>\n",
       "      <td>0.000000</td>\n",
       "      <td>0.000000</td>\n",
       "      <td>0.000000</td>\n",
       "      <td>0.117647</td>\n",
       "      <td>0.000000</td>\n",
       "      <td>0.000000</td>\n",
       "      <td>0.000000</td>\n",
       "      <td>0.0</td>\n",
       "      <td>0.882353</td>\n",
       "      <td>0.0</td>\n",
       "      <td>0.0</td>\n",
       "      <td>1.0</td>\n",
       "      <td>0.588235</td>\n",
       "      <td>0.411765</td>\n",
       "      <td>0.000000</td>\n",
       "      <td>0.000000</td>\n",
       "    </tr>\n",
       "    <tr>\n",
       "      <td>ffc01466-fdb1-4460-ae94-e800f52eb136</td>\n",
       "      <td>0.000000</td>\n",
       "      <td>0.000000</td>\n",
       "      <td>0.000000</td>\n",
       "      <td>0.000000</td>\n",
       "      <td>0.857143</td>\n",
       "      <td>0.000000</td>\n",
       "      <td>0.142857</td>\n",
       "      <td>0.0</td>\n",
       "      <td>0.000000</td>\n",
       "      <td>0.0</td>\n",
       "      <td>0.0</td>\n",
       "      <td>1.0</td>\n",
       "      <td>0.000000</td>\n",
       "      <td>1.000000</td>\n",
       "      <td>0.000000</td>\n",
       "      <td>0.000000</td>\n",
       "    </tr>\n",
       "    <tr>\n",
       "      <td>ffcf50d9-293c-4254-8243-4890b030b238</td>\n",
       "      <td>0.000000</td>\n",
       "      <td>0.000000</td>\n",
       "      <td>0.000000</td>\n",
       "      <td>0.500000</td>\n",
       "      <td>0.000000</td>\n",
       "      <td>0.000000</td>\n",
       "      <td>0.000000</td>\n",
       "      <td>0.0</td>\n",
       "      <td>0.500000</td>\n",
       "      <td>1.0</td>\n",
       "      <td>0.0</td>\n",
       "      <td>0.0</td>\n",
       "      <td>0.000000</td>\n",
       "      <td>0.000000</td>\n",
       "      <td>1.000000</td>\n",
       "      <td>0.000000</td>\n",
       "    </tr>\n",
       "    <tr>\n",
       "      <td>ffe68f10-e48e-470e-be9b-eeb93128ff1a</td>\n",
       "      <td>0.000000</td>\n",
       "      <td>0.000000</td>\n",
       "      <td>0.000000</td>\n",
       "      <td>0.000000</td>\n",
       "      <td>0.538462</td>\n",
       "      <td>0.384615</td>\n",
       "      <td>0.076923</td>\n",
       "      <td>0.0</td>\n",
       "      <td>0.000000</td>\n",
       "      <td>0.0</td>\n",
       "      <td>0.0</td>\n",
       "      <td>1.0</td>\n",
       "      <td>0.461538</td>\n",
       "      <td>0.000000</td>\n",
       "      <td>0.538462</td>\n",
       "      <td>0.000000</td>\n",
       "    </tr>\n",
       "    <tr>\n",
       "      <td>fffb9e79-b927-4dbb-9b48-7fd09b23a62b</td>\n",
       "      <td>0.000000</td>\n",
       "      <td>0.000000</td>\n",
       "      <td>0.000000</td>\n",
       "      <td>0.006623</td>\n",
       "      <td>0.000000</td>\n",
       "      <td>0.000000</td>\n",
       "      <td>0.225166</td>\n",
       "      <td>0.0</td>\n",
       "      <td>0.768212</td>\n",
       "      <td>1.0</td>\n",
       "      <td>0.0</td>\n",
       "      <td>0.0</td>\n",
       "      <td>0.841060</td>\n",
       "      <td>0.052980</td>\n",
       "      <td>0.036424</td>\n",
       "      <td>0.069536</td>\n",
       "    </tr>\n",
       "  </tbody>\n",
       "</table>\n",
       "<p>4293 rows × 16 columns</p>\n",
       "</div>"
      ],
      "text/plain": [
       "                                      event_name_advert_open  \\\n",
       "user_id                                                        \n",
       "0001b1d5-b74a-4cbf-aeb0-7df5947bf349                0.000000   \n",
       "00157779-810c-4498-9e05-a1e9e3cedf93                0.028169   \n",
       "00463033-5717-4bf1-91b4-09183923b9df                0.000000   \n",
       "004690c3-5a84-4bb7-a8af-e0c8f8fca64e                0.156250   \n",
       "00551e79-152e-4441-9cf7-565d7eb04090                0.000000   \n",
       "...                                                      ...   \n",
       "ffab8d8a-30bb-424a-a3ab-0b63ebbf7b07                0.000000   \n",
       "ffc01466-fdb1-4460-ae94-e800f52eb136                0.000000   \n",
       "ffcf50d9-293c-4254-8243-4890b030b238                0.000000   \n",
       "ffe68f10-e48e-470e-be9b-eeb93128ff1a                0.000000   \n",
       "fffb9e79-b927-4dbb-9b48-7fd09b23a62b                0.000000   \n",
       "\n",
       "                                      event_name_contacts_call  \\\n",
       "user_id                                                          \n",
       "0001b1d5-b74a-4cbf-aeb0-7df5947bf349                  0.000000   \n",
       "00157779-810c-4498-9e05-a1e9e3cedf93                  0.070423   \n",
       "00463033-5717-4bf1-91b4-09183923b9df                  0.000000   \n",
       "004690c3-5a84-4bb7-a8af-e0c8f8fca64e                  0.000000   \n",
       "00551e79-152e-4441-9cf7-565d7eb04090                  0.375000   \n",
       "...                                                        ...   \n",
       "ffab8d8a-30bb-424a-a3ab-0b63ebbf7b07                  0.000000   \n",
       "ffc01466-fdb1-4460-ae94-e800f52eb136                  0.000000   \n",
       "ffcf50d9-293c-4254-8243-4890b030b238                  0.000000   \n",
       "ffe68f10-e48e-470e-be9b-eeb93128ff1a                  0.000000   \n",
       "fffb9e79-b927-4dbb-9b48-7fd09b23a62b                  0.000000   \n",
       "\n",
       "                                      event_name_favorites_add  \\\n",
       "user_id                                                          \n",
       "0001b1d5-b74a-4cbf-aeb0-7df5947bf349                  0.000000   \n",
       "00157779-810c-4498-9e05-a1e9e3cedf93                  0.028169   \n",
       "00463033-5717-4bf1-91b4-09183923b9df                  0.000000   \n",
       "004690c3-5a84-4bb7-a8af-e0c8f8fca64e                  0.000000   \n",
       "00551e79-152e-4441-9cf7-565d7eb04090                  0.000000   \n",
       "...                                                        ...   \n",
       "ffab8d8a-30bb-424a-a3ab-0b63ebbf7b07                  0.000000   \n",
       "ffc01466-fdb1-4460-ae94-e800f52eb136                  0.000000   \n",
       "ffcf50d9-293c-4254-8243-4890b030b238                  0.000000   \n",
       "ffe68f10-e48e-470e-be9b-eeb93128ff1a                  0.000000   \n",
       "fffb9e79-b927-4dbb-9b48-7fd09b23a62b                  0.000000   \n",
       "\n",
       "                                      event_name_map  event_name_photos_show  \\\n",
       "user_id                                                                        \n",
       "0001b1d5-b74a-4cbf-aeb0-7df5947bf349        0.171429                0.000000   \n",
       "00157779-810c-4498-9e05-a1e9e3cedf93        0.000000                0.464789   \n",
       "00463033-5717-4bf1-91b4-09183923b9df        0.000000                1.000000   \n",
       "004690c3-5a84-4bb7-a8af-e0c8f8fca64e        0.187500                0.000000   \n",
       "00551e79-152e-4441-9cf7-565d7eb04090        0.000000                0.125000   \n",
       "...                                              ...                     ...   \n",
       "ffab8d8a-30bb-424a-a3ab-0b63ebbf7b07        0.117647                0.000000   \n",
       "ffc01466-fdb1-4460-ae94-e800f52eb136        0.000000                0.857143   \n",
       "ffcf50d9-293c-4254-8243-4890b030b238        0.500000                0.000000   \n",
       "ffe68f10-e48e-470e-be9b-eeb93128ff1a        0.000000                0.538462   \n",
       "fffb9e79-b927-4dbb-9b48-7fd09b23a62b        0.006623                0.000000   \n",
       "\n",
       "                                      event_name_search  \\\n",
       "user_id                                                   \n",
       "0001b1d5-b74a-4cbf-aeb0-7df5947bf349           0.000000   \n",
       "00157779-810c-4498-9e05-a1e9e3cedf93           0.253521   \n",
       "00463033-5717-4bf1-91b4-09183923b9df           0.000000   \n",
       "004690c3-5a84-4bb7-a8af-e0c8f8fca64e           0.531250   \n",
       "00551e79-152e-4441-9cf7-565d7eb04090           0.125000   \n",
       "...                                                 ...   \n",
       "ffab8d8a-30bb-424a-a3ab-0b63ebbf7b07           0.000000   \n",
       "ffc01466-fdb1-4460-ae94-e800f52eb136           0.000000   \n",
       "ffcf50d9-293c-4254-8243-4890b030b238           0.000000   \n",
       "ffe68f10-e48e-470e-be9b-eeb93128ff1a           0.384615   \n",
       "fffb9e79-b927-4dbb-9b48-7fd09b23a62b           0.000000   \n",
       "\n",
       "                                      event_name_show_contacts  \\\n",
       "user_id                                                          \n",
       "0001b1d5-b74a-4cbf-aeb0-7df5947bf349                  0.000000   \n",
       "00157779-810c-4498-9e05-a1e9e3cedf93                  0.154930   \n",
       "00463033-5717-4bf1-91b4-09183923b9df                  0.000000   \n",
       "004690c3-5a84-4bb7-a8af-e0c8f8fca64e                  0.000000   \n",
       "00551e79-152e-4441-9cf7-565d7eb04090                  0.375000   \n",
       "...                                                        ...   \n",
       "ffab8d8a-30bb-424a-a3ab-0b63ebbf7b07                  0.000000   \n",
       "ffc01466-fdb1-4460-ae94-e800f52eb136                  0.142857   \n",
       "ffcf50d9-293c-4254-8243-4890b030b238                  0.000000   \n",
       "ffe68f10-e48e-470e-be9b-eeb93128ff1a                  0.076923   \n",
       "fffb9e79-b927-4dbb-9b48-7fd09b23a62b                  0.225166   \n",
       "\n",
       "                                      event_name_tips_click  \\\n",
       "user_id                                                       \n",
       "0001b1d5-b74a-4cbf-aeb0-7df5947bf349                    0.0   \n",
       "00157779-810c-4498-9e05-a1e9e3cedf93                    0.0   \n",
       "00463033-5717-4bf1-91b4-09183923b9df                    0.0   \n",
       "004690c3-5a84-4bb7-a8af-e0c8f8fca64e                    0.0   \n",
       "00551e79-152e-4441-9cf7-565d7eb04090                    0.0   \n",
       "...                                                     ...   \n",
       "ffab8d8a-30bb-424a-a3ab-0b63ebbf7b07                    0.0   \n",
       "ffc01466-fdb1-4460-ae94-e800f52eb136                    0.0   \n",
       "ffcf50d9-293c-4254-8243-4890b030b238                    0.0   \n",
       "ffe68f10-e48e-470e-be9b-eeb93128ff1a                    0.0   \n",
       "fffb9e79-b927-4dbb-9b48-7fd09b23a62b                    0.0   \n",
       "\n",
       "                                      event_name_tips_show  source_google  \\\n",
       "user_id                                                                     \n",
       "0001b1d5-b74a-4cbf-aeb0-7df5947bf349              0.828571            0.0   \n",
       "00157779-810c-4498-9e05-a1e9e3cedf93              0.000000            0.0   \n",
       "00463033-5717-4bf1-91b4-09183923b9df              0.000000            0.0   \n",
       "004690c3-5a84-4bb7-a8af-e0c8f8fca64e              0.125000            1.0   \n",
       "00551e79-152e-4441-9cf7-565d7eb04090              0.000000            0.0   \n",
       "...                                                    ...            ...   \n",
       "ffab8d8a-30bb-424a-a3ab-0b63ebbf7b07              0.882353            0.0   \n",
       "ffc01466-fdb1-4460-ae94-e800f52eb136              0.000000            0.0   \n",
       "ffcf50d9-293c-4254-8243-4890b030b238              0.500000            1.0   \n",
       "ffe68f10-e48e-470e-be9b-eeb93128ff1a              0.000000            0.0   \n",
       "fffb9e79-b927-4dbb-9b48-7fd09b23a62b              0.768212            1.0   \n",
       "\n",
       "                                      source_other  source_yandex  \\\n",
       "user_id                                                             \n",
       "0001b1d5-b74a-4cbf-aeb0-7df5947bf349           1.0            0.0   \n",
       "00157779-810c-4498-9e05-a1e9e3cedf93           0.0            1.0   \n",
       "00463033-5717-4bf1-91b4-09183923b9df           0.0            1.0   \n",
       "004690c3-5a84-4bb7-a8af-e0c8f8fca64e           0.0            0.0   \n",
       "00551e79-152e-4441-9cf7-565d7eb04090           0.0            1.0   \n",
       "...                                            ...            ...   \n",
       "ffab8d8a-30bb-424a-a3ab-0b63ebbf7b07           0.0            1.0   \n",
       "ffc01466-fdb1-4460-ae94-e800f52eb136           0.0            1.0   \n",
       "ffcf50d9-293c-4254-8243-4890b030b238           0.0            0.0   \n",
       "ffe68f10-e48e-470e-be9b-eeb93128ff1a           0.0            1.0   \n",
       "fffb9e79-b927-4dbb-9b48-7fd09b23a62b           0.0            0.0   \n",
       "\n",
       "                                      time_of_day_day  time_of_day_evening  \\\n",
       "user_id                                                                      \n",
       "0001b1d5-b74a-4cbf-aeb0-7df5947bf349         0.257143             0.514286   \n",
       "00157779-810c-4498-9e05-a1e9e3cedf93         0.014085             0.661972   \n",
       "00463033-5717-4bf1-91b4-09183923b9df         1.000000             0.000000   \n",
       "004690c3-5a84-4bb7-a8af-e0c8f8fca64e         0.156250             0.656250   \n",
       "00551e79-152e-4441-9cf7-565d7eb04090         0.875000             0.000000   \n",
       "...                                               ...                  ...   \n",
       "ffab8d8a-30bb-424a-a3ab-0b63ebbf7b07         0.588235             0.411765   \n",
       "ffc01466-fdb1-4460-ae94-e800f52eb136         0.000000             1.000000   \n",
       "ffcf50d9-293c-4254-8243-4890b030b238         0.000000             0.000000   \n",
       "ffe68f10-e48e-470e-be9b-eeb93128ff1a         0.461538             0.000000   \n",
       "fffb9e79-b927-4dbb-9b48-7fd09b23a62b         0.841060             0.052980   \n",
       "\n",
       "                                      time_of_day_morning  time_of_day_night  \n",
       "user_id                                                                       \n",
       "0001b1d5-b74a-4cbf-aeb0-7df5947bf349             0.228571           0.000000  \n",
       "00157779-810c-4498-9e05-a1e9e3cedf93             0.323944           0.000000  \n",
       "00463033-5717-4bf1-91b4-09183923b9df             0.000000           0.000000  \n",
       "004690c3-5a84-4bb7-a8af-e0c8f8fca64e             0.000000           0.187500  \n",
       "00551e79-152e-4441-9cf7-565d7eb04090             0.000000           0.125000  \n",
       "...                                                   ...                ...  \n",
       "ffab8d8a-30bb-424a-a3ab-0b63ebbf7b07             0.000000           0.000000  \n",
       "ffc01466-fdb1-4460-ae94-e800f52eb136             0.000000           0.000000  \n",
       "ffcf50d9-293c-4254-8243-4890b030b238             1.000000           0.000000  \n",
       "ffe68f10-e48e-470e-be9b-eeb93128ff1a             0.538462           0.000000  \n",
       "fffb9e79-b927-4dbb-9b48-7fd09b23a62b             0.036424           0.069536  \n",
       "\n",
       "[4293 rows x 16 columns]"
      ]
     },
     "execution_count": 20,
     "metadata": {},
     "output_type": "execute_result"
    }
   ],
   "source": [
    "prep_data"
   ]
  },
  {
   "cell_type": "markdown",
   "metadata": {},
   "source": [
    "Подготоваливаем количественные признаки: среднее количество действий за сессию и количество сессий в приложении"
   ]
  },
  {
   "cell_type": "markdown",
   "metadata": {},
   "source": [
    "Сортируем датафрейм по user_ud и event_time и создаем столбцы под новые данные"
   ]
  },
  {
   "cell_type": "code",
   "execution_count": 21,
   "metadata": {},
   "outputs": [],
   "source": [
    "data = data.sort_values(by=['user_id', 'event_time']).reset_index(drop=True)\n",
    "unique_users = data['user_id'].unique()"
   ]
  },
  {
   "cell_type": "code",
   "execution_count": 22,
   "metadata": {},
   "outputs": [],
   "source": [
    "data['time_diff'] = pd.Series()\n",
    "data['session'] = pd.Series()"
   ]
  },
  {
   "cell_type": "markdown",
   "metadata": {},
   "source": [
    "Для каждого пользователя считаем, сколько времени прошло между каждой парой его ближайших во времени действий, и добавляем идентификаторы сессий (если между действиями пользователя прошло больше 30 минут -- считаем этот момент границей двух сессий)."
   ]
  },
  {
   "cell_type": "code",
   "execution_count": 23,
   "metadata": {},
   "outputs": [],
   "source": [
    "session = 0\n",
    "for user in unique_users:\n",
    "    \n",
    "    min_ix = data.loc[data['user_id'] == user].index.min()\n",
    "    max_ix = data.loc[data['user_id'] == user].index.max()\n",
    "    \n",
    "    for i in range(min_ix, max_ix):\n",
    "        data['time_diff'][i+1] = (data['event_time'][i+1] - data['event_time'][i]).total_seconds()\n",
    "        \n",
    "    for i in range(min_ix, max_ix+1):\n",
    "        if data['time_diff'][i] < 1800 or pd.isnull(data['time_diff'][i]):\n",
    "            data['session'][i] = session\n",
    "        else:\n",
    "            session += 1\n",
    "            data['session'][i] = session\n",
    "            \n",
    "    session += 1"
   ]
  },
  {
   "cell_type": "markdown",
   "metadata": {},
   "source": [
    "Смотрим на распределение продолжительности сессий"
   ]
  },
  {
   "cell_type": "code",
   "execution_count": 24,
   "metadata": {},
   "outputs": [
    {
     "data": {
      "image/png": "[encoded data removed]",
      "text/plain": [
       "<Figure size 864x432 with 1 Axes>"
      ]
     },
     "metadata": {
      "needs_background": "light"
     },
     "output_type": "display_data"
    },
    {
     "data": {
      "image/png": "[encoded data removed]",
      "text/plain": [
       "<Figure size 864x432 with 1 Axes>"
      ]
     },
     "metadata": {
      "needs_background": "light"
     },
     "output_type": "display_data"
    }
   ],
   "source": [
    "plt.figure(figsize=(12,6))\n",
    "data['time_diff'].loc[data['time_diff'] < data['time_diff'].quantile(0.9)].hist(bins=200)\n",
    "plt.show()\n",
    "plt.figure(figsize=(12,6))\n",
    "data['time_diff'].loc[(data['time_diff'] > data['time_diff'].quantile(0.9)) & (data['time_diff'] < data['time_diff'].quantile(0.95))].hist(bins=200)\n",
    "plt.show()"
   ]
  },
  {
   "cell_type": "code",
   "execution_count": 25,
   "metadata": {},
   "outputs": [
    {
     "data": {
      "text/plain": [
       "count    6.876100e+04\n",
       "mean     1.421358e+04\n",
       "std      9.272077e+04\n",
       "min      0.000000e+00\n",
       "25%      2.600000e+01\n",
       "50%      7.300000e+01\n",
       "75%      1.840000e+02\n",
       "max      2.296194e+06\n",
       "Name: time_diff, dtype: float64"
      ]
     },
     "execution_count": 25,
     "metadata": {},
     "output_type": "execute_result"
    }
   ],
   "source": [
    "data['time_diff'].describe()"
   ]
  },
  {
   "cell_type": "markdown",
   "metadata": {},
   "source": [
    "Считаем, сколько каждый пользователь совершает действий за каждую сессию и как много сессий у него было в приложении "
   ]
  },
  {
   "cell_type": "code",
   "execution_count": 26,
   "metadata": {},
   "outputs": [],
   "source": [
    "actions_by_session = data.groupby(['user_id', 'session'])['time_diff'].count()\n",
    "actions_by_session.name = 'actions_by_session'\n",
    "sessions_by_user = data.groupby('user_id')['session'].nunique()\n",
    "sessions_by_user.name = 'sessions_by_user'"
   ]
  },
  {
   "cell_type": "code",
   "execution_count": 27,
   "metadata": {},
   "outputs": [],
   "source": [
    "# Функция для удобного вывода гистограмм и описательных статистик по признакам и метрикам. На вход принимает  Series,\n",
    "# по которой требуется построить гистограмму, строку-название для оформления вывода, квантиль, по которой исключаем выбросы,\n",
    "# и количество корзин гистограммы\n",
    "\n",
    "def feature_description(df, name, criterion=0.95, bins=25):\n",
    "    print(name)\n",
    "    print('')\n",
    "    print(df.describe())\n",
    "    outlier = int(df.quantile(criterion))\n",
    "    df.loc[df < outlier].hist(bins=bins, figsize=(12,6))\n",
    "    plt.title('Гистограмма распределения показателя' + ' ' + '\"' + name + '\"')\n",
    "    plt.show()"
   ]
  },
  {
   "cell_type": "code",
   "execution_count": 28,
   "metadata": {},
   "outputs": [
    {
     "name": "stdout",
     "output_type": "stream",
     "text": [
      "Количество действий за сессию\n",
      "\n",
      "count    10369.000000\n",
      "mean         6.631401\n",
      "std          9.353665\n",
      "min          0.000000\n",
      "25%          2.000000\n",
      "50%          4.000000\n",
      "75%          8.000000\n",
      "max        148.000000\n",
      "Name: actions_by_session, dtype: float64\n"
     ]
    },
    {
     "data": {
      "image/png": "[encoded data removed]",
      "text/plain": [
       "<Figure size 864x432 with 1 Axes>"
      ]
     },
     "metadata": {
      "needs_background": "light"
     },
     "output_type": "display_data"
    },
    {
     "name": "stdout",
     "output_type": "stream",
     "text": [
      "Количество сессий\n",
      "\n",
      "count    4293.000000\n",
      "mean        2.415327\n",
      "std         3.536801\n",
      "min         1.000000\n",
      "25%         1.000000\n",
      "50%         1.000000\n",
      "75%         3.000000\n",
      "max        99.000000\n",
      "Name: sessions_by_user, dtype: float64\n"
     ]
    },
    {
     "data": {
      "image/png": "[encoded data removed]",
      "text/plain": [
       "<Figure size 864x432 with 1 Axes>"
      ]
     },
     "metadata": {
      "needs_background": "light"
     },
     "output_type": "display_data"
    }
   ],
   "source": [
    "feature_description(actions_by_session, 'Количество действий за сессию', 0.99, 20)\n",
    "feature_description(sessions_by_user, 'Количество сессий', 0.99, 20)"
   ]
  },
  {
   "cell_type": "markdown",
   "metadata": {},
   "source": [
    "Добавляем данные о количестве сессий и действий за сессию в датафрейм с признаками"
   ]
  },
  {
   "cell_type": "code",
   "execution_count": 29,
   "metadata": {},
   "outputs": [],
   "source": [
    "prep_data = pd.merge(prep_data, actions_by_session.groupby('user_id').mean(), on='user_id')\n",
    "prep_data = pd.merge(prep_data, sessions_by_user, on='user_id')"
   ]
  },
  {
   "cell_type": "markdown",
   "metadata": {},
   "source": [
    "Датафрейм для кластеризации готов: смотрим, что получилось"
   ]
  },
  {
   "cell_type": "code",
   "execution_count": 30,
   "metadata": {},
   "outputs": [
    {
     "data": {
      "text/html": [
       "<div>\n",
       "<style scoped>\n",
       "    .dataframe tbody tr th:only-of-type {\n",
       "        vertical-align: middle;\n",
       "    }\n",
       "\n",
       "    .dataframe tbody tr th {\n",
       "        vertical-align: top;\n",
       "    }\n",
       "\n",
       "    .dataframe thead th {\n",
       "        text-align: right;\n",
       "    }\n",
       "</style>\n",
       "<table border=\"1\" class=\"dataframe\">\n",
       "  <thead>\n",
       "    <tr style=\"text-align: right;\">\n",
       "      <th></th>\n",
       "      <th>event_name_advert_open</th>\n",
       "      <th>event_name_contacts_call</th>\n",
       "      <th>event_name_favorites_add</th>\n",
       "      <th>event_name_map</th>\n",
       "      <th>event_name_photos_show</th>\n",
       "      <th>event_name_search</th>\n",
       "      <th>event_name_show_contacts</th>\n",
       "      <th>event_name_tips_click</th>\n",
       "      <th>event_name_tips_show</th>\n",
       "      <th>source_google</th>\n",
       "      <th>source_other</th>\n",
       "      <th>source_yandex</th>\n",
       "      <th>time_of_day_day</th>\n",
       "      <th>time_of_day_evening</th>\n",
       "      <th>time_of_day_morning</th>\n",
       "      <th>time_of_day_night</th>\n",
       "      <th>actions_by_session</th>\n",
       "      <th>sessions_by_user</th>\n",
       "    </tr>\n",
       "    <tr>\n",
       "      <th>user_id</th>\n",
       "      <th></th>\n",
       "      <th></th>\n",
       "      <th></th>\n",
       "      <th></th>\n",
       "      <th></th>\n",
       "      <th></th>\n",
       "      <th></th>\n",
       "      <th></th>\n",
       "      <th></th>\n",
       "      <th></th>\n",
       "      <th></th>\n",
       "      <th></th>\n",
       "      <th></th>\n",
       "      <th></th>\n",
       "      <th></th>\n",
       "      <th></th>\n",
       "      <th></th>\n",
       "      <th></th>\n",
       "    </tr>\n",
       "  </thead>\n",
       "  <tbody>\n",
       "    <tr>\n",
       "      <td>0001b1d5-b74a-4cbf-aeb0-7df5947bf349</td>\n",
       "      <td>0.000000</td>\n",
       "      <td>0.000000</td>\n",
       "      <td>0.000000</td>\n",
       "      <td>0.171429</td>\n",
       "      <td>0.000000</td>\n",
       "      <td>0.000000</td>\n",
       "      <td>0.000000</td>\n",
       "      <td>0.0</td>\n",
       "      <td>0.828571</td>\n",
       "      <td>0.0</td>\n",
       "      <td>1.0</td>\n",
       "      <td>0.0</td>\n",
       "      <td>0.257143</td>\n",
       "      <td>0.514286</td>\n",
       "      <td>0.228571</td>\n",
       "      <td>0.000000</td>\n",
       "      <td>8.500000</td>\n",
       "      <td>4</td>\n",
       "    </tr>\n",
       "    <tr>\n",
       "      <td>00157779-810c-4498-9e05-a1e9e3cedf93</td>\n",
       "      <td>0.028169</td>\n",
       "      <td>0.070423</td>\n",
       "      <td>0.028169</td>\n",
       "      <td>0.000000</td>\n",
       "      <td>0.464789</td>\n",
       "      <td>0.253521</td>\n",
       "      <td>0.154930</td>\n",
       "      <td>0.0</td>\n",
       "      <td>0.000000</td>\n",
       "      <td>0.0</td>\n",
       "      <td>0.0</td>\n",
       "      <td>1.0</td>\n",
       "      <td>0.014085</td>\n",
       "      <td>0.661972</td>\n",
       "      <td>0.323944</td>\n",
       "      <td>0.000000</td>\n",
       "      <td>11.666667</td>\n",
       "      <td>6</td>\n",
       "    </tr>\n",
       "    <tr>\n",
       "      <td>00463033-5717-4bf1-91b4-09183923b9df</td>\n",
       "      <td>0.000000</td>\n",
       "      <td>0.000000</td>\n",
       "      <td>0.000000</td>\n",
       "      <td>0.000000</td>\n",
       "      <td>1.000000</td>\n",
       "      <td>0.000000</td>\n",
       "      <td>0.000000</td>\n",
       "      <td>0.0</td>\n",
       "      <td>0.000000</td>\n",
       "      <td>0.0</td>\n",
       "      <td>0.0</td>\n",
       "      <td>1.0</td>\n",
       "      <td>1.000000</td>\n",
       "      <td>0.000000</td>\n",
       "      <td>0.000000</td>\n",
       "      <td>0.000000</td>\n",
       "      <td>9.000000</td>\n",
       "      <td>1</td>\n",
       "    </tr>\n",
       "    <tr>\n",
       "      <td>004690c3-5a84-4bb7-a8af-e0c8f8fca64e</td>\n",
       "      <td>0.156250</td>\n",
       "      <td>0.000000</td>\n",
       "      <td>0.000000</td>\n",
       "      <td>0.187500</td>\n",
       "      <td>0.000000</td>\n",
       "      <td>0.531250</td>\n",
       "      <td>0.000000</td>\n",
       "      <td>0.0</td>\n",
       "      <td>0.125000</td>\n",
       "      <td>1.0</td>\n",
       "      <td>0.0</td>\n",
       "      <td>0.0</td>\n",
       "      <td>0.156250</td>\n",
       "      <td>0.656250</td>\n",
       "      <td>0.000000</td>\n",
       "      <td>0.187500</td>\n",
       "      <td>5.166667</td>\n",
       "      <td>6</td>\n",
       "    </tr>\n",
       "    <tr>\n",
       "      <td>00551e79-152e-4441-9cf7-565d7eb04090</td>\n",
       "      <td>0.000000</td>\n",
       "      <td>0.375000</td>\n",
       "      <td>0.000000</td>\n",
       "      <td>0.000000</td>\n",
       "      <td>0.125000</td>\n",
       "      <td>0.125000</td>\n",
       "      <td>0.375000</td>\n",
       "      <td>0.0</td>\n",
       "      <td>0.000000</td>\n",
       "      <td>0.0</td>\n",
       "      <td>0.0</td>\n",
       "      <td>1.0</td>\n",
       "      <td>0.875000</td>\n",
       "      <td>0.000000</td>\n",
       "      <td>0.000000</td>\n",
       "      <td>0.125000</td>\n",
       "      <td>2.333333</td>\n",
       "      <td>3</td>\n",
       "    </tr>\n",
       "    <tr>\n",
       "      <td>...</td>\n",
       "      <td>...</td>\n",
       "      <td>...</td>\n",
       "      <td>...</td>\n",
       "      <td>...</td>\n",
       "      <td>...</td>\n",
       "      <td>...</td>\n",
       "      <td>...</td>\n",
       "      <td>...</td>\n",
       "      <td>...</td>\n",
       "      <td>...</td>\n",
       "      <td>...</td>\n",
       "      <td>...</td>\n",
       "      <td>...</td>\n",
       "      <td>...</td>\n",
       "      <td>...</td>\n",
       "      <td>...</td>\n",
       "      <td>...</td>\n",
       "      <td>...</td>\n",
       "    </tr>\n",
       "    <tr>\n",
       "      <td>ffab8d8a-30bb-424a-a3ab-0b63ebbf7b07</td>\n",
       "      <td>0.000000</td>\n",
       "      <td>0.000000</td>\n",
       "      <td>0.000000</td>\n",
       "      <td>0.117647</td>\n",
       "      <td>0.000000</td>\n",
       "      <td>0.000000</td>\n",
       "      <td>0.000000</td>\n",
       "      <td>0.0</td>\n",
       "      <td>0.882353</td>\n",
       "      <td>0.0</td>\n",
       "      <td>0.0</td>\n",
       "      <td>1.0</td>\n",
       "      <td>0.588235</td>\n",
       "      <td>0.411765</td>\n",
       "      <td>0.000000</td>\n",
       "      <td>0.000000</td>\n",
       "      <td>8.000000</td>\n",
       "      <td>2</td>\n",
       "    </tr>\n",
       "    <tr>\n",
       "      <td>ffc01466-fdb1-4460-ae94-e800f52eb136</td>\n",
       "      <td>0.000000</td>\n",
       "      <td>0.000000</td>\n",
       "      <td>0.000000</td>\n",
       "      <td>0.000000</td>\n",
       "      <td>0.857143</td>\n",
       "      <td>0.000000</td>\n",
       "      <td>0.142857</td>\n",
       "      <td>0.0</td>\n",
       "      <td>0.000000</td>\n",
       "      <td>0.0</td>\n",
       "      <td>0.0</td>\n",
       "      <td>1.0</td>\n",
       "      <td>0.000000</td>\n",
       "      <td>1.000000</td>\n",
       "      <td>0.000000</td>\n",
       "      <td>0.000000</td>\n",
       "      <td>6.000000</td>\n",
       "      <td>1</td>\n",
       "    </tr>\n",
       "    <tr>\n",
       "      <td>ffcf50d9-293c-4254-8243-4890b030b238</td>\n",
       "      <td>0.000000</td>\n",
       "      <td>0.000000</td>\n",
       "      <td>0.000000</td>\n",
       "      <td>0.500000</td>\n",
       "      <td>0.000000</td>\n",
       "      <td>0.000000</td>\n",
       "      <td>0.000000</td>\n",
       "      <td>0.0</td>\n",
       "      <td>0.500000</td>\n",
       "      <td>1.0</td>\n",
       "      <td>0.0</td>\n",
       "      <td>0.0</td>\n",
       "      <td>0.000000</td>\n",
       "      <td>0.000000</td>\n",
       "      <td>1.000000</td>\n",
       "      <td>0.000000</td>\n",
       "      <td>1.000000</td>\n",
       "      <td>1</td>\n",
       "    </tr>\n",
       "    <tr>\n",
       "      <td>ffe68f10-e48e-470e-be9b-eeb93128ff1a</td>\n",
       "      <td>0.000000</td>\n",
       "      <td>0.000000</td>\n",
       "      <td>0.000000</td>\n",
       "      <td>0.000000</td>\n",
       "      <td>0.538462</td>\n",
       "      <td>0.384615</td>\n",
       "      <td>0.076923</td>\n",
       "      <td>0.0</td>\n",
       "      <td>0.000000</td>\n",
       "      <td>0.0</td>\n",
       "      <td>0.0</td>\n",
       "      <td>1.0</td>\n",
       "      <td>0.461538</td>\n",
       "      <td>0.000000</td>\n",
       "      <td>0.538462</td>\n",
       "      <td>0.000000</td>\n",
       "      <td>4.000000</td>\n",
       "      <td>3</td>\n",
       "    </tr>\n",
       "    <tr>\n",
       "      <td>fffb9e79-b927-4dbb-9b48-7fd09b23a62b</td>\n",
       "      <td>0.000000</td>\n",
       "      <td>0.000000</td>\n",
       "      <td>0.000000</td>\n",
       "      <td>0.006623</td>\n",
       "      <td>0.000000</td>\n",
       "      <td>0.000000</td>\n",
       "      <td>0.225166</td>\n",
       "      <td>0.0</td>\n",
       "      <td>0.768212</td>\n",
       "      <td>1.0</td>\n",
       "      <td>0.0</td>\n",
       "      <td>0.0</td>\n",
       "      <td>0.841060</td>\n",
       "      <td>0.052980</td>\n",
       "      <td>0.036424</td>\n",
       "      <td>0.069536</td>\n",
       "      <td>10.033333</td>\n",
       "      <td>30</td>\n",
       "    </tr>\n",
       "  </tbody>\n",
       "</table>\n",
       "<p>4293 rows × 18 columns</p>\n",
       "</div>"
      ],
      "text/plain": [
       "                                      event_name_advert_open  \\\n",
       "user_id                                                        \n",
       "0001b1d5-b74a-4cbf-aeb0-7df5947bf349                0.000000   \n",
       "00157779-810c-4498-9e05-a1e9e3cedf93                0.028169   \n",
       "00463033-5717-4bf1-91b4-09183923b9df                0.000000   \n",
       "004690c3-5a84-4bb7-a8af-e0c8f8fca64e                0.156250   \n",
       "00551e79-152e-4441-9cf7-565d7eb04090                0.000000   \n",
       "...                                                      ...   \n",
       "ffab8d8a-30bb-424a-a3ab-0b63ebbf7b07                0.000000   \n",
       "ffc01466-fdb1-4460-ae94-e800f52eb136                0.000000   \n",
       "ffcf50d9-293c-4254-8243-4890b030b238                0.000000   \n",
       "ffe68f10-e48e-470e-be9b-eeb93128ff1a                0.000000   \n",
       "fffb9e79-b927-4dbb-9b48-7fd09b23a62b                0.000000   \n",
       "\n",
       "                                      event_name_contacts_call  \\\n",
       "user_id                                                          \n",
       "0001b1d5-b74a-4cbf-aeb0-7df5947bf349                  0.000000   \n",
       "00157779-810c-4498-9e05-a1e9e3cedf93                  0.070423   \n",
       "00463033-5717-4bf1-91b4-09183923b9df                  0.000000   \n",
       "004690c3-5a84-4bb7-a8af-e0c8f8fca64e                  0.000000   \n",
       "00551e79-152e-4441-9cf7-565d7eb04090                  0.375000   \n",
       "...                                                        ...   \n",
       "ffab8d8a-30bb-424a-a3ab-0b63ebbf7b07                  0.000000   \n",
       "ffc01466-fdb1-4460-ae94-e800f52eb136                  0.000000   \n",
       "ffcf50d9-293c-4254-8243-4890b030b238                  0.000000   \n",
       "ffe68f10-e48e-470e-be9b-eeb93128ff1a                  0.000000   \n",
       "fffb9e79-b927-4dbb-9b48-7fd09b23a62b                  0.000000   \n",
       "\n",
       "                                      event_name_favorites_add  \\\n",
       "user_id                                                          \n",
       "0001b1d5-b74a-4cbf-aeb0-7df5947bf349                  0.000000   \n",
       "00157779-810c-4498-9e05-a1e9e3cedf93                  0.028169   \n",
       "00463033-5717-4bf1-91b4-09183923b9df                  0.000000   \n",
       "004690c3-5a84-4bb7-a8af-e0c8f8fca64e                  0.000000   \n",
       "00551e79-152e-4441-9cf7-565d7eb04090                  0.000000   \n",
       "...                                                        ...   \n",
       "ffab8d8a-30bb-424a-a3ab-0b63ebbf7b07                  0.000000   \n",
       "ffc01466-fdb1-4460-ae94-e800f52eb136                  0.000000   \n",
       "ffcf50d9-293c-4254-8243-4890b030b238                  0.000000   \n",
       "ffe68f10-e48e-470e-be9b-eeb93128ff1a                  0.000000   \n",
       "fffb9e79-b927-4dbb-9b48-7fd09b23a62b                  0.000000   \n",
       "\n",
       "                                      event_name_map  event_name_photos_show  \\\n",
       "user_id                                                                        \n",
       "0001b1d5-b74a-4cbf-aeb0-7df5947bf349        0.171429                0.000000   \n",
       "00157779-810c-4498-9e05-a1e9e3cedf93        0.000000                0.464789   \n",
       "00463033-5717-4bf1-91b4-09183923b9df        0.000000                1.000000   \n",
       "004690c3-5a84-4bb7-a8af-e0c8f8fca64e        0.187500                0.000000   \n",
       "00551e79-152e-4441-9cf7-565d7eb04090        0.000000                0.125000   \n",
       "...                                              ...                     ...   \n",
       "ffab8d8a-30bb-424a-a3ab-0b63ebbf7b07        0.117647                0.000000   \n",
       "ffc01466-fdb1-4460-ae94-e800f52eb136        0.000000                0.857143   \n",
       "ffcf50d9-293c-4254-8243-4890b030b238        0.500000                0.000000   \n",
       "ffe68f10-e48e-470e-be9b-eeb93128ff1a        0.000000                0.538462   \n",
       "fffb9e79-b927-4dbb-9b48-7fd09b23a62b        0.006623                0.000000   \n",
       "\n",
       "                                      event_name_search  \\\n",
       "user_id                                                   \n",
       "0001b1d5-b74a-4cbf-aeb0-7df5947bf349           0.000000   \n",
       "00157779-810c-4498-9e05-a1e9e3cedf93           0.253521   \n",
       "00463033-5717-4bf1-91b4-09183923b9df           0.000000   \n",
       "004690c3-5a84-4bb7-a8af-e0c8f8fca64e           0.531250   \n",
       "00551e79-152e-4441-9cf7-565d7eb04090           0.125000   \n",
       "...                                                 ...   \n",
       "ffab8d8a-30bb-424a-a3ab-0b63ebbf7b07           0.000000   \n",
       "ffc01466-fdb1-4460-ae94-e800f52eb136           0.000000   \n",
       "ffcf50d9-293c-4254-8243-4890b030b238           0.000000   \n",
       "ffe68f10-e48e-470e-be9b-eeb93128ff1a           0.384615   \n",
       "fffb9e79-b927-4dbb-9b48-7fd09b23a62b           0.000000   \n",
       "\n",
       "                                      event_name_show_contacts  \\\n",
       "user_id                                                          \n",
       "0001b1d5-b74a-4cbf-aeb0-7df5947bf349                  0.000000   \n",
       "00157779-810c-4498-9e05-a1e9e3cedf93                  0.154930   \n",
       "00463033-5717-4bf1-91b4-09183923b9df                  0.000000   \n",
       "004690c3-5a84-4bb7-a8af-e0c8f8fca64e                  0.000000   \n",
       "00551e79-152e-4441-9cf7-565d7eb04090                  0.375000   \n",
       "...                                                        ...   \n",
       "ffab8d8a-30bb-424a-a3ab-0b63ebbf7b07                  0.000000   \n",
       "ffc01466-fdb1-4460-ae94-e800f52eb136                  0.142857   \n",
       "ffcf50d9-293c-4254-8243-4890b030b238                  0.000000   \n",
       "ffe68f10-e48e-470e-be9b-eeb93128ff1a                  0.076923   \n",
       "fffb9e79-b927-4dbb-9b48-7fd09b23a62b                  0.225166   \n",
       "\n",
       "                                      event_name_tips_click  \\\n",
       "user_id                                                       \n",
       "0001b1d5-b74a-4cbf-aeb0-7df5947bf349                    0.0   \n",
       "00157779-810c-4498-9e05-a1e9e3cedf93                    0.0   \n",
       "00463033-5717-4bf1-91b4-09183923b9df                    0.0   \n",
       "004690c3-5a84-4bb7-a8af-e0c8f8fca64e                    0.0   \n",
       "00551e79-152e-4441-9cf7-565d7eb04090                    0.0   \n",
       "...                                                     ...   \n",
       "ffab8d8a-30bb-424a-a3ab-0b63ebbf7b07                    0.0   \n",
       "ffc01466-fdb1-4460-ae94-e800f52eb136                    0.0   \n",
       "ffcf50d9-293c-4254-8243-4890b030b238                    0.0   \n",
       "ffe68f10-e48e-470e-be9b-eeb93128ff1a                    0.0   \n",
       "fffb9e79-b927-4dbb-9b48-7fd09b23a62b                    0.0   \n",
       "\n",
       "                                      event_name_tips_show  source_google  \\\n",
       "user_id                                                                     \n",
       "0001b1d5-b74a-4cbf-aeb0-7df5947bf349              0.828571            0.0   \n",
       "00157779-810c-4498-9e05-a1e9e3cedf93              0.000000            0.0   \n",
       "00463033-5717-4bf1-91b4-09183923b9df              0.000000            0.0   \n",
       "004690c3-5a84-4bb7-a8af-e0c8f8fca64e              0.125000            1.0   \n",
       "00551e79-152e-4441-9cf7-565d7eb04090              0.000000            0.0   \n",
       "...                                                    ...            ...   \n",
       "ffab8d8a-30bb-424a-a3ab-0b63ebbf7b07              0.882353            0.0   \n",
       "ffc01466-fdb1-4460-ae94-e800f52eb136              0.000000            0.0   \n",
       "ffcf50d9-293c-4254-8243-4890b030b238              0.500000            1.0   \n",
       "ffe68f10-e48e-470e-be9b-eeb93128ff1a              0.000000            0.0   \n",
       "fffb9e79-b927-4dbb-9b48-7fd09b23a62b              0.768212            1.0   \n",
       "\n",
       "                                      source_other  source_yandex  \\\n",
       "user_id                                                             \n",
       "0001b1d5-b74a-4cbf-aeb0-7df5947bf349           1.0            0.0   \n",
       "00157779-810c-4498-9e05-a1e9e3cedf93           0.0            1.0   \n",
       "00463033-5717-4bf1-91b4-09183923b9df           0.0            1.0   \n",
       "004690c3-5a84-4bb7-a8af-e0c8f8fca64e           0.0            0.0   \n",
       "00551e79-152e-4441-9cf7-565d7eb04090           0.0            1.0   \n",
       "...                                            ...            ...   \n",
       "ffab8d8a-30bb-424a-a3ab-0b63ebbf7b07           0.0            1.0   \n",
       "ffc01466-fdb1-4460-ae94-e800f52eb136           0.0            1.0   \n",
       "ffcf50d9-293c-4254-8243-4890b030b238           0.0            0.0   \n",
       "ffe68f10-e48e-470e-be9b-eeb93128ff1a           0.0            1.0   \n",
       "fffb9e79-b927-4dbb-9b48-7fd09b23a62b           0.0            0.0   \n",
       "\n",
       "                                      time_of_day_day  time_of_day_evening  \\\n",
       "user_id                                                                      \n",
       "0001b1d5-b74a-4cbf-aeb0-7df5947bf349         0.257143             0.514286   \n",
       "00157779-810c-4498-9e05-a1e9e3cedf93         0.014085             0.661972   \n",
       "00463033-5717-4bf1-91b4-09183923b9df         1.000000             0.000000   \n",
       "004690c3-5a84-4bb7-a8af-e0c8f8fca64e         0.156250             0.656250   \n",
       "00551e79-152e-4441-9cf7-565d7eb04090         0.875000             0.000000   \n",
       "...                                               ...                  ...   \n",
       "ffab8d8a-30bb-424a-a3ab-0b63ebbf7b07         0.588235             0.411765   \n",
       "ffc01466-fdb1-4460-ae94-e800f52eb136         0.000000             1.000000   \n",
       "ffcf50d9-293c-4254-8243-4890b030b238         0.000000             0.000000   \n",
       "ffe68f10-e48e-470e-be9b-eeb93128ff1a         0.461538             0.000000   \n",
       "fffb9e79-b927-4dbb-9b48-7fd09b23a62b         0.841060             0.052980   \n",
       "\n",
       "                                      time_of_day_morning  time_of_day_night  \\\n",
       "user_id                                                                        \n",
       "0001b1d5-b74a-4cbf-aeb0-7df5947bf349             0.228571           0.000000   \n",
       "00157779-810c-4498-9e05-a1e9e3cedf93             0.323944           0.000000   \n",
       "00463033-5717-4bf1-91b4-09183923b9df             0.000000           0.000000   \n",
       "004690c3-5a84-4bb7-a8af-e0c8f8fca64e             0.000000           0.187500   \n",
       "00551e79-152e-4441-9cf7-565d7eb04090             0.000000           0.125000   \n",
       "...                                                   ...                ...   \n",
       "ffab8d8a-30bb-424a-a3ab-0b63ebbf7b07             0.000000           0.000000   \n",
       "ffc01466-fdb1-4460-ae94-e800f52eb136             0.000000           0.000000   \n",
       "ffcf50d9-293c-4254-8243-4890b030b238             1.000000           0.000000   \n",
       "ffe68f10-e48e-470e-be9b-eeb93128ff1a             0.538462           0.000000   \n",
       "fffb9e79-b927-4dbb-9b48-7fd09b23a62b             0.036424           0.069536   \n",
       "\n",
       "                                      actions_by_session  sessions_by_user  \n",
       "user_id                                                                     \n",
       "0001b1d5-b74a-4cbf-aeb0-7df5947bf349            8.500000                 4  \n",
       "00157779-810c-4498-9e05-a1e9e3cedf93           11.666667                 6  \n",
       "00463033-5717-4bf1-91b4-09183923b9df            9.000000                 1  \n",
       "004690c3-5a84-4bb7-a8af-e0c8f8fca64e            5.166667                 6  \n",
       "00551e79-152e-4441-9cf7-565d7eb04090            2.333333                 3  \n",
       "...                                                  ...               ...  \n",
       "ffab8d8a-30bb-424a-a3ab-0b63ebbf7b07            8.000000                 2  \n",
       "ffc01466-fdb1-4460-ae94-e800f52eb136            6.000000                 1  \n",
       "ffcf50d9-293c-4254-8243-4890b030b238            1.000000                 1  \n",
       "ffe68f10-e48e-470e-be9b-eeb93128ff1a            4.000000                 3  \n",
       "fffb9e79-b927-4dbb-9b48-7fd09b23a62b           10.033333                30  \n",
       "\n",
       "[4293 rows x 18 columns]"
      ]
     },
     "execution_count": 30,
     "metadata": {},
     "output_type": "execute_result"
    }
   ],
   "source": [
    "prep_data"
   ]
  },
  {
   "cell_type": "markdown",
   "metadata": {},
   "source": [
    "<a id='step2'></a>\n",
    "## Исследовательский анализ и работа с метриками"
   ]
  },
  {
   "cell_type": "markdown",
   "metadata": {},
   "source": [
    "**Рассчет продолжительности сессий**"
   ]
  },
  {
   "cell_type": "markdown",
   "metadata": {},
   "source": [
    "Создаем два новых столбца: в один сохраняем время между действиями в рамках одной сессии, в другой -- время между сессиями."
   ]
  },
  {
   "cell_type": "code",
   "execution_count": 31,
   "metadata": {},
   "outputs": [],
   "source": [
    "data['time_between_actions'] = pd.Series()\n",
    "data.loc[data['time_diff'] < 1800, 'time_between_actions'] = data['time_diff']\n",
    "data['time_between_sessions'] = pd.Series()\n",
    "data.loc[data['time_diff'] > 1800, 'time_between_sessions'] = data['time_diff']"
   ]
  },
  {
   "cell_type": "markdown",
   "metadata": {},
   "source": [
    "Вычисляем продолжительность сессий, суммируя прошедшие между действиями в рамках одной сессии временные интервалы"
   ]
  },
  {
   "cell_type": "code",
   "execution_count": 32,
   "metadata": {},
   "outputs": [],
   "source": [
    "session_duration = data.groupby(['user_id', 'session'])['time_between_actions'].sum()\n",
    "session_duration.name = 'session_duration'\n",
    "data = data.merge(session_duration, on='session')"
   ]
  },
  {
   "cell_type": "code",
   "execution_count": 33,
   "metadata": {},
   "outputs": [
    {
     "name": "stdout",
     "output_type": "stream",
     "text": [
      "Продолжительность сессии\n",
      "\n",
      "count    10369.000000\n",
      "mean       772.424824\n",
      "std       1190.533367\n",
      "min          0.000000\n",
      "25%         21.000000\n",
      "50%        335.000000\n",
      "75%       1046.000000\n",
      "max      19319.000000\n",
      "Name: session_duration, dtype: float64\n"
     ]
    },
    {
     "data": {
      "image/png": "[encoded data removed]",
      "text/plain": [
       "<Figure size 864x432 with 1 Axes>"
      ]
     },
     "metadata": {
      "needs_background": "light"
     },
     "output_type": "display_data"
    }
   ],
   "source": [
    "feature_description(session_duration, 'Продолжительность сессии', 0.99, 50)"
   ]
  },
  {
   "cell_type": "markdown",
   "metadata": {},
   "source": [
    "Видим несколько особенностей: во-первых, много сессий с нулевой длительностью (на деле это сессии, состоявшие из одного действия), плюс несколько сессий, длившихся больше нескольких часов. Необходимо будет принять решение, как их обрабатывать."
   ]
  },
  {
   "cell_type": "code",
   "execution_count": 34,
   "metadata": {},
   "outputs": [
    {
     "data": {
      "text/plain": [
       "772.4248239945993"
      ]
     },
     "execution_count": 34,
     "metadata": {},
     "output_type": "execute_result"
    }
   ],
   "source": [
    "session_duration_by_user = session_duration.groupby('user_id').mean()\n",
    "mean_session_duration = session_duration.groupby('session').mean().mean()\n",
    "mean_session_duration"
   ]
  },
  {
   "cell_type": "markdown",
   "metadata": {},
   "source": [
    "**Рассчет retention rate**"
   ]
  },
  {
   "cell_type": "markdown",
   "metadata": {},
   "source": [
    "Смотрим на данные о том, сколько времени проходит между сессиями, и берем от этого времени 95% квантиль."
   ]
  },
  {
   "cell_type": "code",
   "execution_count": 35,
   "metadata": {},
   "outputs": [
    {
     "name": "stdout",
     "output_type": "stream",
     "text": [
      "Время между сессиями\n",
      "\n",
      "count    6.075000e+03\n",
      "mean     1.595603e+05\n",
      "std      2.722970e+05\n",
      "min      1.801000e+03\n",
      "25%      7.960500e+03\n",
      "50%      6.099300e+04\n",
      "75%      1.727720e+05\n",
      "max      2.296194e+06\n",
      "Name: time_between_sessions, dtype: float64\n"
     ]
    },
    {
     "data": {
      "image/png": "[encoded data removed]",
      "text/plain": [
       "<Figure size 864x432 with 1 Axes>"
      ]
     },
     "metadata": {
      "needs_background": "light"
     },
     "output_type": "display_data"
    }
   ],
   "source": [
    "feature_description(data['time_between_sessions'], 'Время между сессиями', 1, 50)"
   ]
  },
  {
   "cell_type": "code",
   "execution_count": 36,
   "metadata": {},
   "outputs": [
    {
     "data": {
      "text/plain": [
       "3.8845150462962947"
      ]
     },
     "execution_count": 36,
     "metadata": {},
     "output_type": "execute_result"
    }
   ],
   "source": [
    "data['time_between_sessions'].quantile(0.85) / 60 / 60 / 24"
   ]
  },
  {
   "cell_type": "markdown",
   "metadata": {},
   "source": [
    "85% временных интервалов между сессиями меньше 3 дней. 3 дня возьмем за критерий, в соответствии с которым будем определять факт оттока пользователей. Если в последний раз пользователь заходил в приложение раньше, чем за 8 дней до даты последней записи в наших данных, считаем, что он перестал пользоваться приложением. "
   ]
  },
  {
   "cell_type": "code",
   "execution_count": 37,
   "metadata": {},
   "outputs": [],
   "source": [
    "date_criterion = data['event_time'].max() - timedelta(days=3)"
   ]
  },
  {
   "cell_type": "markdown",
   "metadata": {},
   "source": [
    "Проверяем, какие пользователи выполнили свое последнее действие в приложении раньше, чем определенная нами дата-критерий, и добавляем эти данные в исходный датафрейм"
   ]
  },
  {
   "cell_type": "code",
   "execution_count": 38,
   "metadata": {},
   "outputs": [],
   "source": [
    "is_inactive = data.groupby('user_id')['event_time'].max() < date_criterion\n",
    "is_inactive.name = 'is_inactive'"
   ]
  },
  {
   "cell_type": "code",
   "execution_count": 39,
   "metadata": {},
   "outputs": [
    {
     "data": {
      "image/png": "[encoded data removed]",
      "text/plain": [
       "<Figure size 864x432 with 1 Axes>"
      ]
     },
     "metadata": {
      "needs_background": "light"
     },
     "output_type": "display_data"
    }
   ],
   "source": [
    "inactive_barplot = is_inactive.value_counts().sort_values()\n",
    "inactive_barplot.index = ['Нет', 'Да']\n",
    "plt.figure(figsize=(12,6))\n",
    "sns.barplot(x = inactive_barplot.index, y = inactive_barplot)\n",
    "plt.xlabel('Прекратили пользоваться приложением')\n",
    "plt.ylabel('Количество пользователей')\n",
    "plt.title('Соотношение пользователей, прекративших и продолжающих пользоваться приложением')\n",
    "plt.show()"
   ]
  },
  {
   "cell_type": "code",
   "execution_count": 40,
   "metadata": {},
   "outputs": [],
   "source": [
    "data = data.merge(is_inactive, on='user_id')"
   ]
  },
  {
   "cell_type": "markdown",
   "metadata": {},
   "source": [
    "Вычисляем retention rate (сколько пользователей продолжают пользоваться приложением) по выборке в целом."
   ]
  },
  {
   "cell_type": "code",
   "execution_count": 41,
   "metadata": {},
   "outputs": [
    {
     "data": {
      "text/plain": [
       "0.15490333100395992"
      ]
     },
     "execution_count": 41,
     "metadata": {},
     "output_type": "execute_result"
    }
   ],
   "source": [
    "retention_rate = 1 - is_inactive.mean()\n",
    "retention_rate"
   ]
  },
  {
   "cell_type": "markdown",
   "metadata": {},
   "source": [
    "15.5% пользователей продолжают пользоваться приложением (заходили в приложение меньше чем за 8 дней до последней даты в исследуемых данных)."
   ]
  },
  {
   "cell_type": "markdown",
   "metadata": {},
   "source": [
    "Добавим к retention rate поправку на тех пользователей, которые впервые зашли в приложение в течение последних 8 дней."
   ]
  },
  {
   "cell_type": "code",
   "execution_count": 42,
   "metadata": {},
   "outputs": [
    {
     "data": {
      "text/plain": [
       "0.5357558816678314"
      ]
     },
     "execution_count": 42,
     "metadata": {},
     "output_type": "execute_result"
    }
   ],
   "source": [
    "len(sessions_by_user.loc[(sessions_by_user == 1)]) / len(sessions_by_user)"
   ]
  },
  {
   "cell_type": "markdown",
   "metadata": {},
   "source": [
    "Приблизительно половина всех пользователей заходит в приложение только один раз."
   ]
  },
  {
   "cell_type": "code",
   "execution_count": 43,
   "metadata": {},
   "outputs": [],
   "source": [
    "last3days_users = data.groupby('user_id')['event_time'].min() > date_criterion\n",
    "last3days_users = last3days_users.loc[last3days_users == 1].index"
   ]
  },
  {
   "cell_type": "code",
   "execution_count": 44,
   "metadata": {},
   "outputs": [],
   "source": [
    "data['is_new'] = pd.Series()\n",
    "data.loc[data['user_id'].isin(last3days_users), 'is_new'] = 1\n",
    "data['is_new'] = data['is_new'].fillna(0)"
   ]
  },
  {
   "cell_type": "code",
   "execution_count": 45,
   "metadata": {},
   "outputs": [],
   "source": [
    "last3days_users_sessions = data.query('user_id in @last3days_users').groupby('user_id')['session'].nunique()\n",
    "new_users = len(last3days_users_sessions.loc[last3days_users_sessions == 1])"
   ]
  },
  {
   "cell_type": "markdown",
   "metadata": {},
   "source": [
    "Теперь мы выяснили, что 621 пользователь из тех, кто зарегестрировался в течение последних 8 дней, заходил в приложение только однажды. Примерно половина из них -- 310 человек -- вероятно, не зайдут в приложение больше никогда. "
   ]
  },
  {
   "cell_type": "code",
   "execution_count": 46,
   "metadata": {},
   "outputs": [
    {
     "data": {
      "text/plain": [
       "0.029117167481947356"
      ]
     },
     "execution_count": 46,
     "metadata": {},
     "output_type": "execute_result"
    }
   ],
   "source": [
    "new_users / 2 / len(prep_data)"
   ]
  },
  {
   "cell_type": "markdown",
   "metadata": {},
   "source": [
    "Что составляет чуть больше 7 процентов от общего числа пользователей. На эти 2.7% необходимо скорректировать посчитанный Retention Rate."
   ]
  },
  {
   "cell_type": "code",
   "execution_count": 47,
   "metadata": {},
   "outputs": [
    {
     "data": {
      "text/plain": [
       "0.12790333100395992"
      ]
     },
     "execution_count": 47,
     "metadata": {},
     "output_type": "execute_result"
    }
   ],
   "source": [
    "retention_rate_corrected = retention_rate - 0.027\n",
    "retention_rate_corrected"
   ]
  },
  {
   "cell_type": "markdown",
   "metadata": {},
   "source": [
    "**Рассчет частоты действий**"
   ]
  },
  {
   "cell_type": "markdown",
   "metadata": {},
   "source": [
    "Вычисляем, как много действий было совершено во время каждой сессии, и делим на продолжительность сессии. Затем усредняем получившиеся значения по пользователям. "
   ]
  },
  {
   "cell_type": "code",
   "execution_count": 48,
   "metadata": {},
   "outputs": [],
   "source": [
    "actions_per_second_by_session = data.groupby(['user_id', 'session'])['event_name'].count() / data.groupby(['user_id', 'session'])['session_duration'].mean()\n",
    "actions_per_second_by_session = actions_per_second_by_session.replace(np.inf, np.nan)\n",
    "actions_per_second_by_session.name = 'actions_per_second_by_session'\n",
    "actions_per_second_by_user = actions_per_second_by_session.groupby('user_id').mean()\n",
    "actions_per_second_by_user.name = 'actions_per_second'"
   ]
  },
  {
   "cell_type": "code",
   "execution_count": 49,
   "metadata": {},
   "outputs": [
    {
     "data": {
      "text/plain": [
       "0.0450757276740261"
      ]
     },
     "execution_count": 49,
     "metadata": {},
     "output_type": "execute_result"
    }
   ],
   "source": [
    "mean_actions_per_second = actions_per_second_by_session.mean()\n",
    "mean_actions_per_second"
   ]
  },
  {
   "cell_type": "markdown",
   "metadata": {},
   "source": [
    "В среднем пользователи приложения совершают 4.5 действия каждые 100 секунд или одно действие каждые 22.5 секунды."
   ]
  },
  {
   "cell_type": "markdown",
   "metadata": {},
   "source": [
    "**Рассчет конверсии**"
   ]
  },
  {
   "cell_type": "markdown",
   "metadata": {},
   "source": [
    "Находим сессии, во время которых было совершено целевое действие, в исходном датафрейме создаем столбец и отмечаем в нем эти сессии."
   ]
  },
  {
   "cell_type": "code",
   "execution_count": 50,
   "metadata": {},
   "outputs": [],
   "source": [
    "sessions_with_target = data.loc[data['event_name'] == 'show_contacts']['session'].unique()\n",
    "data['target_session'] = pd.Series()\n",
    "data.loc[data['session'].isin(sessions_with_target), 'target_session'] = 1"
   ]
  },
  {
   "cell_type": "code",
   "execution_count": 51,
   "metadata": {},
   "outputs": [],
   "source": [
    "data['target_session'] = data['target_session'].fillna(0)"
   ]
  },
  {
   "cell_type": "markdown",
   "metadata": {},
   "source": [
    "Обобщаем до уровня пользователей: определяем, какие пользователи хотя бы раз совершили целевое действие за время пользования приложением."
   ]
  },
  {
   "cell_type": "code",
   "execution_count": 52,
   "metadata": {},
   "outputs": [],
   "source": [
    "is_target_action = data.groupby('user_id')['target_session'].mean()"
   ]
  },
  {
   "cell_type": "code",
   "execution_count": 53,
   "metadata": {},
   "outputs": [],
   "source": [
    "is_target_action = np.ceil(is_target_action)"
   ]
  },
  {
   "cell_type": "code",
   "execution_count": 54,
   "metadata": {},
   "outputs": [
    {
     "data": {
      "image/png": "[encoded data removed]",
      "text/plain": [
       "<Figure size 864x432 with 1 Axes>"
      ]
     },
     "metadata": {
      "needs_background": "light"
     },
     "output_type": "display_data"
    }
   ],
   "source": [
    "target_barplot = is_target_action.value_counts()\n",
    "target_barplot.index = ['Нет', 'Да']\n",
    "plt.figure(figsize=(12,6))\n",
    "sns.barplot(x=target_barplot.index, y = target_barplot)\n",
    "plt.xlabel('Совершили целевое действие')\n",
    "plt.ylabel('Количество пользователей')\n",
    "plt.title('Соотношение пользователей, совершивших и не совершивших целевое действие')\n",
    "plt.show()"
   ]
  },
  {
   "cell_type": "code",
   "execution_count": 55,
   "metadata": {},
   "outputs": [
    {
     "data": {
      "text/plain": [
       "0.22851153039832284"
      ]
     },
     "execution_count": 55,
     "metadata": {},
     "output_type": "execute_result"
    }
   ],
   "source": [
    "conversion = target_barplot[1] / (target_barplot[0] + target_barplot[1])\n",
    "conversion"
   ]
  },
  {
   "cell_type": "markdown",
   "metadata": {},
   "source": [
    "<div class=\"alert alert-success\">\n",
    "<b>Комментарий наставника:</b> Все верно. Конверсия довольно маленькая.</div>"
   ]
  },
  {
   "cell_type": "markdown",
   "metadata": {},
   "source": [
    "Собираем все данные по метрикам в один датафрейм"
   ]
  },
  {
   "cell_type": "code",
   "execution_count": 56,
   "metadata": {},
   "outputs": [],
   "source": [
    "actions_per_second_by_session.name = 'actions_per_second'\n",
    "users_metrics = pd.merge(session_duration.reset_index(), is_inactive, on='user_id')\n",
    "users_metrics = pd.merge(users_metrics, actions_per_second_by_session, on=['user_id', 'session'])\n",
    "users_metrics = pd.merge(users_metrics, is_target_action, on='user_id')"
   ]
  },
  {
   "cell_type": "code",
   "execution_count": 57,
   "metadata": {},
   "outputs": [],
   "source": [
    "users_metrics['is_inactive'] = users_metrics['is_inactive'].astype('int')\n",
    "users_metrics  = users_metrics.rename(columns={'target_session' : 'is_target'})\n",
    "users_metrics['is_target'] = users_metrics['is_target'].astype('int')"
   ]
  },
  {
   "cell_type": "code",
   "execution_count": 58,
   "metadata": {},
   "outputs": [
    {
     "data": {
      "text/html": [
       "<div>\n",
       "<style scoped>\n",
       "    .dataframe tbody tr th:only-of-type {\n",
       "        vertical-align: middle;\n",
       "    }\n",
       "\n",
       "    .dataframe tbody tr th {\n",
       "        vertical-align: top;\n",
       "    }\n",
       "\n",
       "    .dataframe thead th {\n",
       "        text-align: right;\n",
       "    }\n",
       "</style>\n",
       "<table border=\"1\" class=\"dataframe\">\n",
       "  <thead>\n",
       "    <tr style=\"text-align: right;\">\n",
       "      <th></th>\n",
       "      <th>user_id</th>\n",
       "      <th>session</th>\n",
       "      <th>session_duration</th>\n",
       "      <th>is_inactive</th>\n",
       "      <th>actions_per_second</th>\n",
       "      <th>is_target</th>\n",
       "    </tr>\n",
       "  </thead>\n",
       "  <tbody>\n",
       "    <tr>\n",
       "      <td>0</td>\n",
       "      <td>0001b1d5-b74a-4cbf-aeb0-7df5947bf349</td>\n",
       "      <td>0.0</td>\n",
       "      <td>596.0</td>\n",
       "      <td>1</td>\n",
       "      <td>0.015101</td>\n",
       "      <td>0</td>\n",
       "    </tr>\n",
       "    <tr>\n",
       "      <td>1</td>\n",
       "      <td>0001b1d5-b74a-4cbf-aeb0-7df5947bf349</td>\n",
       "      <td>1.0</td>\n",
       "      <td>507.0</td>\n",
       "      <td>1</td>\n",
       "      <td>0.007890</td>\n",
       "      <td>0</td>\n",
       "    </tr>\n",
       "    <tr>\n",
       "      <td>2</td>\n",
       "      <td>0001b1d5-b74a-4cbf-aeb0-7df5947bf349</td>\n",
       "      <td>2.0</td>\n",
       "      <td>900.0</td>\n",
       "      <td>1</td>\n",
       "      <td>0.015556</td>\n",
       "      <td>0</td>\n",
       "    </tr>\n",
       "    <tr>\n",
       "      <td>3</td>\n",
       "      <td>0001b1d5-b74a-4cbf-aeb0-7df5947bf349</td>\n",
       "      <td>3.0</td>\n",
       "      <td>758.0</td>\n",
       "      <td>1</td>\n",
       "      <td>0.010554</td>\n",
       "      <td>0</td>\n",
       "    </tr>\n",
       "    <tr>\n",
       "      <td>4</td>\n",
       "      <td>00157779-810c-4498-9e05-a1e9e3cedf93</td>\n",
       "      <td>4.0</td>\n",
       "      <td>1521.0</td>\n",
       "      <td>0</td>\n",
       "      <td>0.005917</td>\n",
       "      <td>1</td>\n",
       "    </tr>\n",
       "    <tr>\n",
       "      <td>...</td>\n",
       "      <td>...</td>\n",
       "      <td>...</td>\n",
       "      <td>...</td>\n",
       "      <td>...</td>\n",
       "      <td>...</td>\n",
       "      <td>...</td>\n",
       "    </tr>\n",
       "    <tr>\n",
       "      <td>10364</td>\n",
       "      <td>fffb9e79-b927-4dbb-9b48-7fd09b23a62b</td>\n",
       "      <td>10364.0</td>\n",
       "      <td>0.0</td>\n",
       "      <td>0</td>\n",
       "      <td>NaN</td>\n",
       "      <td>1</td>\n",
       "    </tr>\n",
       "    <tr>\n",
       "      <td>10365</td>\n",
       "      <td>fffb9e79-b927-4dbb-9b48-7fd09b23a62b</td>\n",
       "      <td>10365.0</td>\n",
       "      <td>974.0</td>\n",
       "      <td>0</td>\n",
       "      <td>0.002053</td>\n",
       "      <td>1</td>\n",
       "    </tr>\n",
       "    <tr>\n",
       "      <td>10366</td>\n",
       "      <td>fffb9e79-b927-4dbb-9b48-7fd09b23a62b</td>\n",
       "      <td>10366.0</td>\n",
       "      <td>297.0</td>\n",
       "      <td>0</td>\n",
       "      <td>0.013468</td>\n",
       "      <td>1</td>\n",
       "    </tr>\n",
       "    <tr>\n",
       "      <td>10367</td>\n",
       "      <td>fffb9e79-b927-4dbb-9b48-7fd09b23a62b</td>\n",
       "      <td>10367.0</td>\n",
       "      <td>949.0</td>\n",
       "      <td>0</td>\n",
       "      <td>0.015806</td>\n",
       "      <td>1</td>\n",
       "    </tr>\n",
       "    <tr>\n",
       "      <td>10368</td>\n",
       "      <td>fffb9e79-b927-4dbb-9b48-7fd09b23a62b</td>\n",
       "      <td>10368.0</td>\n",
       "      <td>1944.0</td>\n",
       "      <td>0</td>\n",
       "      <td>0.007202</td>\n",
       "      <td>1</td>\n",
       "    </tr>\n",
       "  </tbody>\n",
       "</table>\n",
       "<p>10369 rows × 6 columns</p>\n",
       "</div>"
      ],
      "text/plain": [
       "                                    user_id  session  session_duration  \\\n",
       "0      0001b1d5-b74a-4cbf-aeb0-7df5947bf349      0.0             596.0   \n",
       "1      0001b1d5-b74a-4cbf-aeb0-7df5947bf349      1.0             507.0   \n",
       "2      0001b1d5-b74a-4cbf-aeb0-7df5947bf349      2.0             900.0   \n",
       "3      0001b1d5-b74a-4cbf-aeb0-7df5947bf349      3.0             758.0   \n",
       "4      00157779-810c-4498-9e05-a1e9e3cedf93      4.0            1521.0   \n",
       "...                                     ...      ...               ...   \n",
       "10364  fffb9e79-b927-4dbb-9b48-7fd09b23a62b  10364.0               0.0   \n",
       "10365  fffb9e79-b927-4dbb-9b48-7fd09b23a62b  10365.0             974.0   \n",
       "10366  fffb9e79-b927-4dbb-9b48-7fd09b23a62b  10366.0             297.0   \n",
       "10367  fffb9e79-b927-4dbb-9b48-7fd09b23a62b  10367.0             949.0   \n",
       "10368  fffb9e79-b927-4dbb-9b48-7fd09b23a62b  10368.0            1944.0   \n",
       "\n",
       "       is_inactive  actions_per_second  is_target  \n",
       "0                1            0.015101          0  \n",
       "1                1            0.007890          0  \n",
       "2                1            0.015556          0  \n",
       "3                1            0.010554          0  \n",
       "4                0            0.005917          1  \n",
       "...            ...                 ...        ...  \n",
       "10364            0                 NaN          1  \n",
       "10365            0            0.002053          1  \n",
       "10366            0            0.013468          1  \n",
       "10367            0            0.015806          1  \n",
       "10368            0            0.007202          1  \n",
       "\n",
       "[10369 rows x 6 columns]"
      ]
     },
     "execution_count": 58,
     "metadata": {},
     "output_type": "execute_result"
    }
   ],
   "source": [
    "users_metrics"
   ]
  },
  {
   "cell_type": "markdown",
   "metadata": {},
   "source": [
    "### Описание выборки\n",
    "\n",
    "Больше всего пользователей пользуется приложением с 12 до 16 часов, меньше всего -- с 2 до 6 часов.\n",
    "\n",
    "Чаще всего в приложении пользователи обращаются к справке (событие \"tips_show\", больше половины от общего числа событий), затем идут действия \"показ фотографий\" (событие \"photos_show\") и объединенные события, связанные с поиском (\"search\"). \n",
    "\n",
    "Медианное количество действий за сессию у пользователей 3, в 75% сессий совершается меньше 7 действий. Больше половины пользователей заходят в приложение только однажды.\n",
    "\n",
    "### Метрики\n",
    "\n",
    "Средняя продолжительность сессии по всем пользователям равна 12 минут, медианная -- 5 минут.\n",
    "\n",
    "37% пользователей заходили в приложение в течение поледних 8 дней сбора данных, скорректированный Retention Rate = 29.7%.\n",
    "\n",
    "В среднем, пользователи во время сессии совершают одно действие каждые 22.5 секунды.\n",
    "\n",
    "Конверсия = 0.23. 23% пользователей хотя бы раз совершили целевое действие."
   ]
  },
  {
   "cell_type": "markdown",
   "metadata": {},
   "source": [
    "<a id='step3'></a>\n",
    "## Сегментация пользователей"
   ]
  },
  {
   "cell_type": "markdown",
   "metadata": {},
   "source": [
    "**Стандартизация данных**"
   ]
  },
  {
   "cell_type": "code",
   "execution_count": 59,
   "metadata": {},
   "outputs": [],
   "source": [
    "scaler = StandardScaler()\n",
    "data_for_clust = scaler.fit_transform(prep_data)"
   ]
  },
  {
   "cell_type": "markdown",
   "metadata": {},
   "source": [
    "**Определение оптимального числа кластеров**"
   ]
  },
  {
   "cell_type": "code",
   "execution_count": 60,
   "metadata": {},
   "outputs": [],
   "source": [
    "# Функция для подсчета внутрикластерной суммы квадратов ошибок. На вход принимает массив точек и максимальное количество\n",
    "# кластеров, возвращает словарь со значениями внутрикластерной суммы квадратов ошибок для каждого числа кластеров.\n",
    "\n",
    "# Работает следующим образом: берет все значения k в заданном диапазоне, кластеризует данные на данное число кластеров \n",
    "# (для каждого числа кластеров кластеризация выполняется несколько раз, чтобы нивеллировать фактор неудачной инициализаци)\n",
    "# центройдов) и высчитывает расстояние от каждой точки каждого кластера до центройдов их кластеров, а затем суммирует их\n",
    "# (это и есть WSS -- внутрикластерная сумма квадратов ошибок). Для каждого количества кластеров сохраняется наименьшая\n",
    "# WSS.\n",
    "\n",
    "def calculate_WSS(points, kmax):\n",
    "    sse = {}\n",
    "    curr_sse = 0\n",
    "    for k in range(1, kmax+1):\n",
    "        sse[k] = 1e10\n",
    "        \n",
    "        for n in range(6):\n",
    "            kmeans = KMeans(n_clusters = k).fit(points)\n",
    "            centroids = kmeans.cluster_centers_\n",
    "            pred_clusters = kmeans.predict(points)\n",
    "        \n",
    "            for i in range(len(points)):\n",
    "                curr_center = centroids[pred_clusters[i]]\n",
    "                curr_sse += (points[i, 0] - curr_center[0]) ** 2 + (points[i, 1] - curr_center[1]) ** 2\n",
    "\n",
    "            if curr_sse < sse[k]:\n",
    "                sse[k] = curr_sse\n",
    "            \n",
    "            curr_sse = 0\n",
    "        \n",
    "    return sse"
   ]
  },
  {
   "cell_type": "code",
   "execution_count": 61,
   "metadata": {},
   "outputs": [],
   "source": [
    "sse = calculate_WSS(data_for_clust, 20)"
   ]
  },
  {
   "cell_type": "code",
   "execution_count": 62,
   "metadata": {},
   "outputs": [
    {
     "name": "stdout",
     "output_type": "stream",
     "text": [
      "1 : 8586.000000000142\n",
      "2 : 8112.293939530163\n",
      "3 : 8057.739912376231\n",
      "4 : 6175.114627286565\n",
      "5 : 3252.5018094334923\n",
      "6 : 6086.04962601883\n",
      "7 : 3229.836382257396\n",
      "8 : 3442.6804674394743\n",
      "9 : 3574.9792102825163\n",
      "10 : 2489.122860482439\n",
      "11 : 2538.1412304252735\n",
      "12 : 2545.6571864734196\n",
      "13 : 2502.643893854632\n",
      "14 : 2489.3370226713664\n",
      "15 : 2485.0895538301797\n",
      "16 : 2425.771082884709\n",
      "17 : 2581.986007947085\n",
      "18 : 2528.8437570179403\n",
      "19 : 2542.573237779613\n",
      "20 : 2611.2285775019327\n"
     ]
    }
   ],
   "source": [
    "for key,val in sse.items(): \n",
    "    print(str(key)+' : '+str(val)) "
   ]
  },
  {
   "cell_type": "code",
   "execution_count": 63,
   "metadata": {},
   "outputs": [
    {
     "data": {
      "image/png": "[encoded data removed]",
      "text/plain": [
       "<Figure size 864x432 with 1 Axes>"
      ]
     },
     "metadata": {
      "needs_background": "light"
     },
     "output_type": "display_data"
    }
   ],
   "source": [
    "plt.figure(figsize=(12,6))\n",
    "plt.plot(list(sse.keys()), list(sse.values()), 'bx-') \n",
    "plt.xlabel('Число кластеров') \n",
    "plt.ylabel('WSS') \n",
    "plt.show() "
   ]
  },
  {
   "cell_type": "code",
   "execution_count": 64,
   "metadata": {},
   "outputs": [
    {
     "data": {
      "image/png": "[encoded data removed]",
      "text/plain": [
       "<Figure size 1800x720 with 1 Axes>"
      ]
     },
     "metadata": {
      "needs_background": "light"
     },
     "output_type": "display_data"
    }
   ],
   "source": [
    "dist = linkage(data_for_clust, method='ward')\n",
    "fig = plt.figure(figsize=(25, 10))\n",
    "dn = dendrogram(dist, orientation='top')\n",
    "plt.show()"
   ]
  },
  {
   "cell_type": "markdown",
   "metadata": {},
   "source": [
    "Также попробуем кластеризовать только на основании данных о действиях."
   ]
  },
  {
   "cell_type": "code",
   "execution_count": 65,
   "metadata": {},
   "outputs": [],
   "source": [
    "data_for_clust_act = data_for_clust[:,0:10]"
   ]
  },
  {
   "cell_type": "code",
   "execution_count": 66,
   "metadata": {},
   "outputs": [],
   "source": [
    "sse2 = calculate_WSS(data_for_clust_act, 20)"
   ]
  },
  {
   "cell_type": "code",
   "execution_count": 67,
   "metadata": {},
   "outputs": [
    {
     "name": "stdout",
     "output_type": "stream",
     "text": [
      "1 : 8586.000000000142\n",
      "2 : 8105.134394451804\n",
      "3 : 6227.6756097929\n",
      "4 : 3153.104042572712\n",
      "5 : 2919.6178203116538\n",
      "6 : 1911.9443609793693\n",
      "7 : 2860.4753025485734\n",
      "8 : 3248.093668961143\n",
      "9 : 1994.3957275894381\n",
      "10 : 1980.910525868959\n",
      "11 : 1975.9155210406311\n",
      "12 : 1400.250541790102\n",
      "13 : 1407.2645337309555\n",
      "14 : 971.76836011894\n",
      "15 : 956.8944266361774\n",
      "16 : 926.0191416740778\n",
      "17 : 924.5305800977015\n",
      "18 : 877.4146463588343\n",
      "19 : 785.8976751928279\n",
      "20 : 775.7354762916859\n"
     ]
    }
   ],
   "source": [
    "for key,val in sse2.items(): \n",
    "    print(str(key)+' : '+str(val)) "
   ]
  },
  {
   "cell_type": "code",
   "execution_count": 68,
   "metadata": {},
   "outputs": [
    {
     "data": {
      "image/png": "[encoded data removed]",
      "text/plain": [
       "<Figure size 864x432 with 1 Axes>"
      ]
     },
     "metadata": {
      "needs_background": "light"
     },
     "output_type": "display_data"
    }
   ],
   "source": [
    "plt.figure(figsize=(12,6))\n",
    "plt.plot(list(sse2.keys()), list(sse2.values()), 'bx-') \n",
    "plt.xlabel('Число кластеров') \n",
    "plt.ylabel('WSS') \n",
    "plt.show() "
   ]
  },
  {
   "cell_type": "code",
   "execution_count": 69,
   "metadata": {},
   "outputs": [
    {
     "data": {
      "image/png": "[encoded data removed]",
      "text/plain": [
       "<Figure size 1800x720 with 1 Axes>"
      ]
     },
     "metadata": {
      "needs_background": "light"
     },
     "output_type": "display_data"
    }
   ],
   "source": [
    "dist2 = linkage(data_for_clust_act, method='ward')\n",
    "fig = plt.figure(figsize=(25, 10))\n",
    "dn2 = dendrogram(dist2, orientation='top')\n",
    "plt.show()"
   ]
  },
  {
   "cell_type": "markdown",
   "metadata": {},
   "source": [
    "И данные с дополнительными признаками, и данные только с признаками-действиями, хорошо описываются 4 кластерами (для этого числа кластеров наблюдается резкое уменьшение WSS). При этом для данных с дополнительными признаками еще один такой скачок WSS наблюдается для 8 кластеров. Сохраним все варианты и посмотрим на них внимательнее."
   ]
  },
  {
   "cell_type": "code",
   "execution_count": 70,
   "metadata": {},
   "outputs": [
    {
     "data": {
      "text/plain": [
       "6207.406453587086"
      ]
     },
     "execution_count": 70,
     "metadata": {},
     "output_type": "execute_result"
    }
   ],
   "source": [
    "kmeans_full_4 = KMeans(n_clusters=4, random_state=0).fit(data_for_clust)\n",
    "full_4_pred_clusters = kmeans_full_4.predict(data_for_clust)\n",
    "full_4_centroids = kmeans_full_4.cluster_centers_\n",
    "\n",
    "curr_sse = 0\n",
    "\n",
    "for i in range(len(data_for_clust)):\n",
    "    curr_center = full_4_centroids[full_4_pred_clusters[i]]\n",
    "    curr_sse += (data_for_clust[i, 0] - curr_center[0]) ** 2 + (data_for_clust[i, 1] - curr_center[1]) ** 2\n",
    "\n",
    "curr_sse"
   ]
  },
  {
   "cell_type": "code",
   "execution_count": 71,
   "metadata": {},
   "outputs": [
    {
     "data": {
      "text/plain": [
       "3435.2614730052574"
      ]
     },
     "execution_count": 71,
     "metadata": {},
     "output_type": "execute_result"
    }
   ],
   "source": [
    "kmeans_full_8 = KMeans(n_clusters=8, random_state=0).fit(data_for_clust)\n",
    "full_8_pred_clusters = kmeans_full_8.predict(data_for_clust)\n",
    "full_8_centroids = kmeans_full_8.cluster_centers_\n",
    "\n",
    "curr_sse = 0\n",
    "\n",
    "for i in range(len(data_for_clust)):\n",
    "    curr_center = full_8_centroids[full_8_pred_clusters[i]]\n",
    "    curr_sse += (data_for_clust[i, 0] - curr_center[0]) ** 2 + (data_for_clust[i, 1] - curr_center[1]) ** 2\n",
    "\n",
    "curr_sse"
   ]
  },
  {
   "cell_type": "code",
   "execution_count": 72,
   "metadata": {},
   "outputs": [
    {
     "data": {
      "text/plain": [
       "3153.104042572712"
      ]
     },
     "execution_count": 72,
     "metadata": {},
     "output_type": "execute_result"
    }
   ],
   "source": [
    "kmeans_act_4 = KMeans(n_clusters=4, random_state=2).fit(data_for_clust_act)\n",
    "act_4_pred_clusters = kmeans_act_4.predict(data_for_clust_act)\n",
    "act_4_centroids = kmeans_act_4.cluster_centers_\n",
    "\n",
    "curr_sse = 0\n",
    "\n",
    "for i in range(len(data_for_clust)):\n",
    "    curr_center = act_4_centroids[act_4_pred_clusters[i]]\n",
    "    curr_sse += (data_for_clust_act[i, 0] - curr_center[0]) ** 2 + (data_for_clust_act[i, 1] - curr_center[1]) ** 2\n",
    "\n",
    "curr_sse"
   ]
  },
  {
   "cell_type": "code",
   "execution_count": 73,
   "metadata": {},
   "outputs": [],
   "source": [
    "clusters = pd.DataFrame(prep_data.index)"
   ]
  },
  {
   "cell_type": "code",
   "execution_count": 74,
   "metadata": {},
   "outputs": [],
   "source": [
    "clusters['full_4'] = full_4_pred_clusters\n",
    "clusters['act_4'] = act_4_pred_clusters\n",
    "clusters['full_8'] = full_8_pred_clusters"
   ]
  },
  {
   "cell_type": "code",
   "execution_count": 75,
   "metadata": {},
   "outputs": [
    {
     "data": {
      "text/html": [
       "<div>\n",
       "<style scoped>\n",
       "    .dataframe tbody tr th:only-of-type {\n",
       "        vertical-align: middle;\n",
       "    }\n",
       "\n",
       "    .dataframe tbody tr th {\n",
       "        vertical-align: top;\n",
       "    }\n",
       "\n",
       "    .dataframe thead th {\n",
       "        text-align: right;\n",
       "    }\n",
       "</style>\n",
       "<table border=\"1\" class=\"dataframe\">\n",
       "  <thead>\n",
       "    <tr style=\"text-align: right;\">\n",
       "      <th></th>\n",
       "      <th>user_id</th>\n",
       "      <th>full_4</th>\n",
       "      <th>act_4</th>\n",
       "      <th>full_8</th>\n",
       "    </tr>\n",
       "  </thead>\n",
       "  <tbody>\n",
       "    <tr>\n",
       "      <td>0</td>\n",
       "      <td>0001b1d5-b74a-4cbf-aeb0-7df5947bf349</td>\n",
       "      <td>1</td>\n",
       "      <td>1</td>\n",
       "      <td>3</td>\n",
       "    </tr>\n",
       "    <tr>\n",
       "      <td>1</td>\n",
       "      <td>00157779-810c-4498-9e05-a1e9e3cedf93</td>\n",
       "      <td>2</td>\n",
       "      <td>0</td>\n",
       "      <td>1</td>\n",
       "    </tr>\n",
       "    <tr>\n",
       "      <td>2</td>\n",
       "      <td>00463033-5717-4bf1-91b4-09183923b9df</td>\n",
       "      <td>2</td>\n",
       "      <td>0</td>\n",
       "      <td>1</td>\n",
       "    </tr>\n",
       "    <tr>\n",
       "      <td>3</td>\n",
       "      <td>004690c3-5a84-4bb7-a8af-e0c8f8fca64e</td>\n",
       "      <td>2</td>\n",
       "      <td>0</td>\n",
       "      <td>4</td>\n",
       "    </tr>\n",
       "    <tr>\n",
       "      <td>4</td>\n",
       "      <td>00551e79-152e-4441-9cf7-565d7eb04090</td>\n",
       "      <td>3</td>\n",
       "      <td>3</td>\n",
       "      <td>7</td>\n",
       "    </tr>\n",
       "    <tr>\n",
       "      <td>...</td>\n",
       "      <td>...</td>\n",
       "      <td>...</td>\n",
       "      <td>...</td>\n",
       "      <td>...</td>\n",
       "    </tr>\n",
       "    <tr>\n",
       "      <td>4288</td>\n",
       "      <td>ffab8d8a-30bb-424a-a3ab-0b63ebbf7b07</td>\n",
       "      <td>0</td>\n",
       "      <td>1</td>\n",
       "      <td>2</td>\n",
       "    </tr>\n",
       "    <tr>\n",
       "      <td>4289</td>\n",
       "      <td>ffc01466-fdb1-4460-ae94-e800f52eb136</td>\n",
       "      <td>2</td>\n",
       "      <td>0</td>\n",
       "      <td>1</td>\n",
       "    </tr>\n",
       "    <tr>\n",
       "      <td>4290</td>\n",
       "      <td>ffcf50d9-293c-4254-8243-4890b030b238</td>\n",
       "      <td>1</td>\n",
       "      <td>1</td>\n",
       "      <td>5</td>\n",
       "    </tr>\n",
       "    <tr>\n",
       "      <td>4291</td>\n",
       "      <td>ffe68f10-e48e-470e-be9b-eeb93128ff1a</td>\n",
       "      <td>2</td>\n",
       "      <td>0</td>\n",
       "      <td>1</td>\n",
       "    </tr>\n",
       "    <tr>\n",
       "      <td>4292</td>\n",
       "      <td>fffb9e79-b927-4dbb-9b48-7fd09b23a62b</td>\n",
       "      <td>0</td>\n",
       "      <td>1</td>\n",
       "      <td>2</td>\n",
       "    </tr>\n",
       "  </tbody>\n",
       "</table>\n",
       "<p>4293 rows × 4 columns</p>\n",
       "</div>"
      ],
      "text/plain": [
       "                                   user_id  full_4  act_4  full_8\n",
       "0     0001b1d5-b74a-4cbf-aeb0-7df5947bf349       1      1       3\n",
       "1     00157779-810c-4498-9e05-a1e9e3cedf93       2      0       1\n",
       "2     00463033-5717-4bf1-91b4-09183923b9df       2      0       1\n",
       "3     004690c3-5a84-4bb7-a8af-e0c8f8fca64e       2      0       4\n",
       "4     00551e79-152e-4441-9cf7-565d7eb04090       3      3       7\n",
       "...                                    ...     ...    ...     ...\n",
       "4288  ffab8d8a-30bb-424a-a3ab-0b63ebbf7b07       0      1       2\n",
       "4289  ffc01466-fdb1-4460-ae94-e800f52eb136       2      0       1\n",
       "4290  ffcf50d9-293c-4254-8243-4890b030b238       1      1       5\n",
       "4291  ffe68f10-e48e-470e-be9b-eeb93128ff1a       2      0       1\n",
       "4292  fffb9e79-b927-4dbb-9b48-7fd09b23a62b       0      1       2\n",
       "\n",
       "[4293 rows x 4 columns]"
      ]
     },
     "execution_count": 75,
     "metadata": {},
     "output_type": "execute_result"
    }
   ],
   "source": [
    "clusters"
   ]
  },
  {
   "cell_type": "code",
   "execution_count": 76,
   "metadata": {},
   "outputs": [],
   "source": [
    "users_metrics = users_metrics.merge(clusters, on='user_id')"
   ]
  },
  {
   "cell_type": "code",
   "execution_count": 77,
   "metadata": {},
   "outputs": [
    {
     "data": {
      "text/html": [
       "<div>\n",
       "<style scoped>\n",
       "    .dataframe tbody tr th:only-of-type {\n",
       "        vertical-align: middle;\n",
       "    }\n",
       "\n",
       "    .dataframe tbody tr th {\n",
       "        vertical-align: top;\n",
       "    }\n",
       "\n",
       "    .dataframe thead th {\n",
       "        text-align: right;\n",
       "    }\n",
       "</style>\n",
       "<table border=\"1\" class=\"dataframe\">\n",
       "  <thead>\n",
       "    <tr style=\"text-align: right;\">\n",
       "      <th></th>\n",
       "      <th>user_id</th>\n",
       "      <th>session</th>\n",
       "      <th>session_duration</th>\n",
       "      <th>is_inactive</th>\n",
       "      <th>actions_per_second</th>\n",
       "      <th>is_target</th>\n",
       "      <th>full_4</th>\n",
       "      <th>act_4</th>\n",
       "      <th>full_8</th>\n",
       "    </tr>\n",
       "  </thead>\n",
       "  <tbody>\n",
       "    <tr>\n",
       "      <td>0</td>\n",
       "      <td>0001b1d5-b74a-4cbf-aeb0-7df5947bf349</td>\n",
       "      <td>0.0</td>\n",
       "      <td>596.0</td>\n",
       "      <td>1</td>\n",
       "      <td>0.015101</td>\n",
       "      <td>0</td>\n",
       "      <td>1</td>\n",
       "      <td>1</td>\n",
       "      <td>3</td>\n",
       "    </tr>\n",
       "    <tr>\n",
       "      <td>1</td>\n",
       "      <td>0001b1d5-b74a-4cbf-aeb0-7df5947bf349</td>\n",
       "      <td>1.0</td>\n",
       "      <td>507.0</td>\n",
       "      <td>1</td>\n",
       "      <td>0.007890</td>\n",
       "      <td>0</td>\n",
       "      <td>1</td>\n",
       "      <td>1</td>\n",
       "      <td>3</td>\n",
       "    </tr>\n",
       "    <tr>\n",
       "      <td>2</td>\n",
       "      <td>0001b1d5-b74a-4cbf-aeb0-7df5947bf349</td>\n",
       "      <td>2.0</td>\n",
       "      <td>900.0</td>\n",
       "      <td>1</td>\n",
       "      <td>0.015556</td>\n",
       "      <td>0</td>\n",
       "      <td>1</td>\n",
       "      <td>1</td>\n",
       "      <td>3</td>\n",
       "    </tr>\n",
       "    <tr>\n",
       "      <td>3</td>\n",
       "      <td>0001b1d5-b74a-4cbf-aeb0-7df5947bf349</td>\n",
       "      <td>3.0</td>\n",
       "      <td>758.0</td>\n",
       "      <td>1</td>\n",
       "      <td>0.010554</td>\n",
       "      <td>0</td>\n",
       "      <td>1</td>\n",
       "      <td>1</td>\n",
       "      <td>3</td>\n",
       "    </tr>\n",
       "    <tr>\n",
       "      <td>4</td>\n",
       "      <td>00157779-810c-4498-9e05-a1e9e3cedf93</td>\n",
       "      <td>4.0</td>\n",
       "      <td>1521.0</td>\n",
       "      <td>0</td>\n",
       "      <td>0.005917</td>\n",
       "      <td>1</td>\n",
       "      <td>2</td>\n",
       "      <td>0</td>\n",
       "      <td>1</td>\n",
       "    </tr>\n",
       "    <tr>\n",
       "      <td>...</td>\n",
       "      <td>...</td>\n",
       "      <td>...</td>\n",
       "      <td>...</td>\n",
       "      <td>...</td>\n",
       "      <td>...</td>\n",
       "      <td>...</td>\n",
       "      <td>...</td>\n",
       "      <td>...</td>\n",
       "      <td>...</td>\n",
       "    </tr>\n",
       "    <tr>\n",
       "      <td>10364</td>\n",
       "      <td>fffb9e79-b927-4dbb-9b48-7fd09b23a62b</td>\n",
       "      <td>10364.0</td>\n",
       "      <td>0.0</td>\n",
       "      <td>0</td>\n",
       "      <td>NaN</td>\n",
       "      <td>1</td>\n",
       "      <td>0</td>\n",
       "      <td>1</td>\n",
       "      <td>2</td>\n",
       "    </tr>\n",
       "    <tr>\n",
       "      <td>10365</td>\n",
       "      <td>fffb9e79-b927-4dbb-9b48-7fd09b23a62b</td>\n",
       "      <td>10365.0</td>\n",
       "      <td>974.0</td>\n",
       "      <td>0</td>\n",
       "      <td>0.002053</td>\n",
       "      <td>1</td>\n",
       "      <td>0</td>\n",
       "      <td>1</td>\n",
       "      <td>2</td>\n",
       "    </tr>\n",
       "    <tr>\n",
       "      <td>10366</td>\n",
       "      <td>fffb9e79-b927-4dbb-9b48-7fd09b23a62b</td>\n",
       "      <td>10366.0</td>\n",
       "      <td>297.0</td>\n",
       "      <td>0</td>\n",
       "      <td>0.013468</td>\n",
       "      <td>1</td>\n",
       "      <td>0</td>\n",
       "      <td>1</td>\n",
       "      <td>2</td>\n",
       "    </tr>\n",
       "    <tr>\n",
       "      <td>10367</td>\n",
       "      <td>fffb9e79-b927-4dbb-9b48-7fd09b23a62b</td>\n",
       "      <td>10367.0</td>\n",
       "      <td>949.0</td>\n",
       "      <td>0</td>\n",
       "      <td>0.015806</td>\n",
       "      <td>1</td>\n",
       "      <td>0</td>\n",
       "      <td>1</td>\n",
       "      <td>2</td>\n",
       "    </tr>\n",
       "    <tr>\n",
       "      <td>10368</td>\n",
       "      <td>fffb9e79-b927-4dbb-9b48-7fd09b23a62b</td>\n",
       "      <td>10368.0</td>\n",
       "      <td>1944.0</td>\n",
       "      <td>0</td>\n",
       "      <td>0.007202</td>\n",
       "      <td>1</td>\n",
       "      <td>0</td>\n",
       "      <td>1</td>\n",
       "      <td>2</td>\n",
       "    </tr>\n",
       "  </tbody>\n",
       "</table>\n",
       "<p>10369 rows × 9 columns</p>\n",
       "</div>"
      ],
      "text/plain": [
       "                                    user_id  session  session_duration  \\\n",
       "0      0001b1d5-b74a-4cbf-aeb0-7df5947bf349      0.0             596.0   \n",
       "1      0001b1d5-b74a-4cbf-aeb0-7df5947bf349      1.0             507.0   \n",
       "2      0001b1d5-b74a-4cbf-aeb0-7df5947bf349      2.0             900.0   \n",
       "3      0001b1d5-b74a-4cbf-aeb0-7df5947bf349      3.0             758.0   \n",
       "4      00157779-810c-4498-9e05-a1e9e3cedf93      4.0            1521.0   \n",
       "...                                     ...      ...               ...   \n",
       "10364  fffb9e79-b927-4dbb-9b48-7fd09b23a62b  10364.0               0.0   \n",
       "10365  fffb9e79-b927-4dbb-9b48-7fd09b23a62b  10365.0             974.0   \n",
       "10366  fffb9e79-b927-4dbb-9b48-7fd09b23a62b  10366.0             297.0   \n",
       "10367  fffb9e79-b927-4dbb-9b48-7fd09b23a62b  10367.0             949.0   \n",
       "10368  fffb9e79-b927-4dbb-9b48-7fd09b23a62b  10368.0            1944.0   \n",
       "\n",
       "       is_inactive  actions_per_second  is_target  full_4  act_4  full_8  \n",
       "0                1            0.015101          0       1      1       3  \n",
       "1                1            0.007890          0       1      1       3  \n",
       "2                1            0.015556          0       1      1       3  \n",
       "3                1            0.010554          0       1      1       3  \n",
       "4                0            0.005917          1       2      0       1  \n",
       "...            ...                 ...        ...     ...    ...     ...  \n",
       "10364            0                 NaN          1       0      1       2  \n",
       "10365            0            0.002053          1       0      1       2  \n",
       "10366            0            0.013468          1       0      1       2  \n",
       "10367            0            0.015806          1       0      1       2  \n",
       "10368            0            0.007202          1       0      1       2  \n",
       "\n",
       "[10369 rows x 9 columns]"
      ]
     },
     "execution_count": 77,
     "metadata": {},
     "output_type": "execute_result"
    }
   ],
   "source": [
    "users_metrics"
   ]
  },
  {
   "cell_type": "code",
   "execution_count": 78,
   "metadata": {},
   "outputs": [
    {
     "data": {
      "text/html": [
       "<div>\n",
       "<style scoped>\n",
       "    .dataframe tbody tr th:only-of-type {\n",
       "        vertical-align: middle;\n",
       "    }\n",
       "\n",
       "    .dataframe tbody tr th {\n",
       "        vertical-align: top;\n",
       "    }\n",
       "\n",
       "    .dataframe thead th {\n",
       "        text-align: right;\n",
       "    }\n",
       "</style>\n",
       "<table border=\"1\" class=\"dataframe\">\n",
       "  <thead>\n",
       "    <tr style=\"text-align: right;\">\n",
       "      <th></th>\n",
       "      <th>user_id</th>\n",
       "      <th>event_name_advert_open</th>\n",
       "      <th>event_name_contacts_call</th>\n",
       "      <th>event_name_favorites_add</th>\n",
       "      <th>event_name_map</th>\n",
       "      <th>event_name_photos_show</th>\n",
       "      <th>event_name_search</th>\n",
       "      <th>event_name_show_contacts</th>\n",
       "      <th>event_name_tips_click</th>\n",
       "      <th>event_name_tips_show</th>\n",
       "      <th>...</th>\n",
       "      <th>source_yandex</th>\n",
       "      <th>time_of_day_day</th>\n",
       "      <th>time_of_day_evening</th>\n",
       "      <th>time_of_day_morning</th>\n",
       "      <th>time_of_day_night</th>\n",
       "      <th>actions_by_session</th>\n",
       "      <th>sessions_by_user</th>\n",
       "      <th>full_4</th>\n",
       "      <th>act_4</th>\n",
       "      <th>full_8</th>\n",
       "    </tr>\n",
       "  </thead>\n",
       "  <tbody>\n",
       "    <tr>\n",
       "      <td>0</td>\n",
       "      <td>0001b1d5-b74a-4cbf-aeb0-7df5947bf349</td>\n",
       "      <td>0.000000</td>\n",
       "      <td>0.000000</td>\n",
       "      <td>0.000000</td>\n",
       "      <td>0.171429</td>\n",
       "      <td>0.000000</td>\n",
       "      <td>0.000000</td>\n",
       "      <td>0.000000</td>\n",
       "      <td>0.0</td>\n",
       "      <td>0.828571</td>\n",
       "      <td>...</td>\n",
       "      <td>0.0</td>\n",
       "      <td>0.257143</td>\n",
       "      <td>0.514286</td>\n",
       "      <td>0.228571</td>\n",
       "      <td>0.000000</td>\n",
       "      <td>8.500000</td>\n",
       "      <td>4</td>\n",
       "      <td>1</td>\n",
       "      <td>1</td>\n",
       "      <td>3</td>\n",
       "    </tr>\n",
       "    <tr>\n",
       "      <td>1</td>\n",
       "      <td>00157779-810c-4498-9e05-a1e9e3cedf93</td>\n",
       "      <td>0.028169</td>\n",
       "      <td>0.070423</td>\n",
       "      <td>0.028169</td>\n",
       "      <td>0.000000</td>\n",
       "      <td>0.464789</td>\n",
       "      <td>0.253521</td>\n",
       "      <td>0.154930</td>\n",
       "      <td>0.0</td>\n",
       "      <td>0.000000</td>\n",
       "      <td>...</td>\n",
       "      <td>1.0</td>\n",
       "      <td>0.014085</td>\n",
       "      <td>0.661972</td>\n",
       "      <td>0.323944</td>\n",
       "      <td>0.000000</td>\n",
       "      <td>11.666667</td>\n",
       "      <td>6</td>\n",
       "      <td>2</td>\n",
       "      <td>0</td>\n",
       "      <td>1</td>\n",
       "    </tr>\n",
       "    <tr>\n",
       "      <td>2</td>\n",
       "      <td>00463033-5717-4bf1-91b4-09183923b9df</td>\n",
       "      <td>0.000000</td>\n",
       "      <td>0.000000</td>\n",
       "      <td>0.000000</td>\n",
       "      <td>0.000000</td>\n",
       "      <td>1.000000</td>\n",
       "      <td>0.000000</td>\n",
       "      <td>0.000000</td>\n",
       "      <td>0.0</td>\n",
       "      <td>0.000000</td>\n",
       "      <td>...</td>\n",
       "      <td>1.0</td>\n",
       "      <td>1.000000</td>\n",
       "      <td>0.000000</td>\n",
       "      <td>0.000000</td>\n",
       "      <td>0.000000</td>\n",
       "      <td>9.000000</td>\n",
       "      <td>1</td>\n",
       "      <td>2</td>\n",
       "      <td>0</td>\n",
       "      <td>1</td>\n",
       "    </tr>\n",
       "    <tr>\n",
       "      <td>3</td>\n",
       "      <td>004690c3-5a84-4bb7-a8af-e0c8f8fca64e</td>\n",
       "      <td>0.156250</td>\n",
       "      <td>0.000000</td>\n",
       "      <td>0.000000</td>\n",
       "      <td>0.187500</td>\n",
       "      <td>0.000000</td>\n",
       "      <td>0.531250</td>\n",
       "      <td>0.000000</td>\n",
       "      <td>0.0</td>\n",
       "      <td>0.125000</td>\n",
       "      <td>...</td>\n",
       "      <td>0.0</td>\n",
       "      <td>0.156250</td>\n",
       "      <td>0.656250</td>\n",
       "      <td>0.000000</td>\n",
       "      <td>0.187500</td>\n",
       "      <td>5.166667</td>\n",
       "      <td>6</td>\n",
       "      <td>2</td>\n",
       "      <td>0</td>\n",
       "      <td>4</td>\n",
       "    </tr>\n",
       "    <tr>\n",
       "      <td>4</td>\n",
       "      <td>00551e79-152e-4441-9cf7-565d7eb04090</td>\n",
       "      <td>0.000000</td>\n",
       "      <td>0.375000</td>\n",
       "      <td>0.000000</td>\n",
       "      <td>0.000000</td>\n",
       "      <td>0.125000</td>\n",
       "      <td>0.125000</td>\n",
       "      <td>0.375000</td>\n",
       "      <td>0.0</td>\n",
       "      <td>0.000000</td>\n",
       "      <td>...</td>\n",
       "      <td>1.0</td>\n",
       "      <td>0.875000</td>\n",
       "      <td>0.000000</td>\n",
       "      <td>0.000000</td>\n",
       "      <td>0.125000</td>\n",
       "      <td>2.333333</td>\n",
       "      <td>3</td>\n",
       "      <td>3</td>\n",
       "      <td>3</td>\n",
       "      <td>7</td>\n",
       "    </tr>\n",
       "    <tr>\n",
       "      <td>...</td>\n",
       "      <td>...</td>\n",
       "      <td>...</td>\n",
       "      <td>...</td>\n",
       "      <td>...</td>\n",
       "      <td>...</td>\n",
       "      <td>...</td>\n",
       "      <td>...</td>\n",
       "      <td>...</td>\n",
       "      <td>...</td>\n",
       "      <td>...</td>\n",
       "      <td>...</td>\n",
       "      <td>...</td>\n",
       "      <td>...</td>\n",
       "      <td>...</td>\n",
       "      <td>...</td>\n",
       "      <td>...</td>\n",
       "      <td>...</td>\n",
       "      <td>...</td>\n",
       "      <td>...</td>\n",
       "      <td>...</td>\n",
       "      <td>...</td>\n",
       "    </tr>\n",
       "    <tr>\n",
       "      <td>4288</td>\n",
       "      <td>ffab8d8a-30bb-424a-a3ab-0b63ebbf7b07</td>\n",
       "      <td>0.000000</td>\n",
       "      <td>0.000000</td>\n",
       "      <td>0.000000</td>\n",
       "      <td>0.117647</td>\n",
       "      <td>0.000000</td>\n",
       "      <td>0.000000</td>\n",
       "      <td>0.000000</td>\n",
       "      <td>0.0</td>\n",
       "      <td>0.882353</td>\n",
       "      <td>...</td>\n",
       "      <td>1.0</td>\n",
       "      <td>0.588235</td>\n",
       "      <td>0.411765</td>\n",
       "      <td>0.000000</td>\n",
       "      <td>0.000000</td>\n",
       "      <td>8.000000</td>\n",
       "      <td>2</td>\n",
       "      <td>0</td>\n",
       "      <td>1</td>\n",
       "      <td>2</td>\n",
       "    </tr>\n",
       "    <tr>\n",
       "      <td>4289</td>\n",
       "      <td>ffc01466-fdb1-4460-ae94-e800f52eb136</td>\n",
       "      <td>0.000000</td>\n",
       "      <td>0.000000</td>\n",
       "      <td>0.000000</td>\n",
       "      <td>0.000000</td>\n",
       "      <td>0.857143</td>\n",
       "      <td>0.000000</td>\n",
       "      <td>0.142857</td>\n",
       "      <td>0.0</td>\n",
       "      <td>0.000000</td>\n",
       "      <td>...</td>\n",
       "      <td>1.0</td>\n",
       "      <td>0.000000</td>\n",
       "      <td>1.000000</td>\n",
       "      <td>0.000000</td>\n",
       "      <td>0.000000</td>\n",
       "      <td>6.000000</td>\n",
       "      <td>1</td>\n",
       "      <td>2</td>\n",
       "      <td>0</td>\n",
       "      <td>1</td>\n",
       "    </tr>\n",
       "    <tr>\n",
       "      <td>4290</td>\n",
       "      <td>ffcf50d9-293c-4254-8243-4890b030b238</td>\n",
       "      <td>0.000000</td>\n",
       "      <td>0.000000</td>\n",
       "      <td>0.000000</td>\n",
       "      <td>0.500000</td>\n",
       "      <td>0.000000</td>\n",
       "      <td>0.000000</td>\n",
       "      <td>0.000000</td>\n",
       "      <td>0.0</td>\n",
       "      <td>0.500000</td>\n",
       "      <td>...</td>\n",
       "      <td>0.0</td>\n",
       "      <td>0.000000</td>\n",
       "      <td>0.000000</td>\n",
       "      <td>1.000000</td>\n",
       "      <td>0.000000</td>\n",
       "      <td>1.000000</td>\n",
       "      <td>1</td>\n",
       "      <td>1</td>\n",
       "      <td>1</td>\n",
       "      <td>5</td>\n",
       "    </tr>\n",
       "    <tr>\n",
       "      <td>4291</td>\n",
       "      <td>ffe68f10-e48e-470e-be9b-eeb93128ff1a</td>\n",
       "      <td>0.000000</td>\n",
       "      <td>0.000000</td>\n",
       "      <td>0.000000</td>\n",
       "      <td>0.000000</td>\n",
       "      <td>0.538462</td>\n",
       "      <td>0.384615</td>\n",
       "      <td>0.076923</td>\n",
       "      <td>0.0</td>\n",
       "      <td>0.000000</td>\n",
       "      <td>...</td>\n",
       "      <td>1.0</td>\n",
       "      <td>0.461538</td>\n",
       "      <td>0.000000</td>\n",
       "      <td>0.538462</td>\n",
       "      <td>0.000000</td>\n",
       "      <td>4.000000</td>\n",
       "      <td>3</td>\n",
       "      <td>2</td>\n",
       "      <td>0</td>\n",
       "      <td>1</td>\n",
       "    </tr>\n",
       "    <tr>\n",
       "      <td>4292</td>\n",
       "      <td>fffb9e79-b927-4dbb-9b48-7fd09b23a62b</td>\n",
       "      <td>0.000000</td>\n",
       "      <td>0.000000</td>\n",
       "      <td>0.000000</td>\n",
       "      <td>0.006623</td>\n",
       "      <td>0.000000</td>\n",
       "      <td>0.000000</td>\n",
       "      <td>0.225166</td>\n",
       "      <td>0.0</td>\n",
       "      <td>0.768212</td>\n",
       "      <td>...</td>\n",
       "      <td>0.0</td>\n",
       "      <td>0.841060</td>\n",
       "      <td>0.052980</td>\n",
       "      <td>0.036424</td>\n",
       "      <td>0.069536</td>\n",
       "      <td>10.033333</td>\n",
       "      <td>30</td>\n",
       "      <td>0</td>\n",
       "      <td>1</td>\n",
       "      <td>2</td>\n",
       "    </tr>\n",
       "  </tbody>\n",
       "</table>\n",
       "<p>4293 rows × 22 columns</p>\n",
       "</div>"
      ],
      "text/plain": [
       "                                   user_id  event_name_advert_open  \\\n",
       "0     0001b1d5-b74a-4cbf-aeb0-7df5947bf349                0.000000   \n",
       "1     00157779-810c-4498-9e05-a1e9e3cedf93                0.028169   \n",
       "2     00463033-5717-4bf1-91b4-09183923b9df                0.000000   \n",
       "3     004690c3-5a84-4bb7-a8af-e0c8f8fca64e                0.156250   \n",
       "4     00551e79-152e-4441-9cf7-565d7eb04090                0.000000   \n",
       "...                                    ...                     ...   \n",
       "4288  ffab8d8a-30bb-424a-a3ab-0b63ebbf7b07                0.000000   \n",
       "4289  ffc01466-fdb1-4460-ae94-e800f52eb136                0.000000   \n",
       "4290  ffcf50d9-293c-4254-8243-4890b030b238                0.000000   \n",
       "4291  ffe68f10-e48e-470e-be9b-eeb93128ff1a                0.000000   \n",
       "4292  fffb9e79-b927-4dbb-9b48-7fd09b23a62b                0.000000   \n",
       "\n",
       "      event_name_contacts_call  event_name_favorites_add  event_name_map  \\\n",
       "0                     0.000000                  0.000000        0.171429   \n",
       "1                     0.070423                  0.028169        0.000000   \n",
       "2                     0.000000                  0.000000        0.000000   \n",
       "3                     0.000000                  0.000000        0.187500   \n",
       "4                     0.375000                  0.000000        0.000000   \n",
       "...                        ...                       ...             ...   \n",
       "4288                  0.000000                  0.000000        0.117647   \n",
       "4289                  0.000000                  0.000000        0.000000   \n",
       "4290                  0.000000                  0.000000        0.500000   \n",
       "4291                  0.000000                  0.000000        0.000000   \n",
       "4292                  0.000000                  0.000000        0.006623   \n",
       "\n",
       "      event_name_photos_show  event_name_search  event_name_show_contacts  \\\n",
       "0                   0.000000           0.000000                  0.000000   \n",
       "1                   0.464789           0.253521                  0.154930   \n",
       "2                   1.000000           0.000000                  0.000000   \n",
       "3                   0.000000           0.531250                  0.000000   \n",
       "4                   0.125000           0.125000                  0.375000   \n",
       "...                      ...                ...                       ...   \n",
       "4288                0.000000           0.000000                  0.000000   \n",
       "4289                0.857143           0.000000                  0.142857   \n",
       "4290                0.000000           0.000000                  0.000000   \n",
       "4291                0.538462           0.384615                  0.076923   \n",
       "4292                0.000000           0.000000                  0.225166   \n",
       "\n",
       "      event_name_tips_click  event_name_tips_show  ...  source_yandex  \\\n",
       "0                       0.0              0.828571  ...            0.0   \n",
       "1                       0.0              0.000000  ...            1.0   \n",
       "2                       0.0              0.000000  ...            1.0   \n",
       "3                       0.0              0.125000  ...            0.0   \n",
       "4                       0.0              0.000000  ...            1.0   \n",
       "...                     ...                   ...  ...            ...   \n",
       "4288                    0.0              0.882353  ...            1.0   \n",
       "4289                    0.0              0.000000  ...            1.0   \n",
       "4290                    0.0              0.500000  ...            0.0   \n",
       "4291                    0.0              0.000000  ...            1.0   \n",
       "4292                    0.0              0.768212  ...            0.0   \n",
       "\n",
       "      time_of_day_day  time_of_day_evening  time_of_day_morning  \\\n",
       "0            0.257143             0.514286             0.228571   \n",
       "1            0.014085             0.661972             0.323944   \n",
       "2            1.000000             0.000000             0.000000   \n",
       "3            0.156250             0.656250             0.000000   \n",
       "4            0.875000             0.000000             0.000000   \n",
       "...               ...                  ...                  ...   \n",
       "4288         0.588235             0.411765             0.000000   \n",
       "4289         0.000000             1.000000             0.000000   \n",
       "4290         0.000000             0.000000             1.000000   \n",
       "4291         0.461538             0.000000             0.538462   \n",
       "4292         0.841060             0.052980             0.036424   \n",
       "\n",
       "      time_of_day_night  actions_by_session  sessions_by_user  full_4  act_4  \\\n",
       "0              0.000000            8.500000                 4       1      1   \n",
       "1              0.000000           11.666667                 6       2      0   \n",
       "2              0.000000            9.000000                 1       2      0   \n",
       "3              0.187500            5.166667                 6       2      0   \n",
       "4              0.125000            2.333333                 3       3      3   \n",
       "...                 ...                 ...               ...     ...    ...   \n",
       "4288           0.000000            8.000000                 2       0      1   \n",
       "4289           0.000000            6.000000                 1       2      0   \n",
       "4290           0.000000            1.000000                 1       1      1   \n",
       "4291           0.000000            4.000000                 3       2      0   \n",
       "4292           0.069536           10.033333                30       0      1   \n",
       "\n",
       "      full_8  \n",
       "0          3  \n",
       "1          1  \n",
       "2          1  \n",
       "3          4  \n",
       "4          7  \n",
       "...      ...  \n",
       "4288       2  \n",
       "4289       1  \n",
       "4290       5  \n",
       "4291       1  \n",
       "4292       2  \n",
       "\n",
       "[4293 rows x 22 columns]"
      ]
     },
     "execution_count": 78,
     "metadata": {},
     "output_type": "execute_result"
    }
   ],
   "source": [
    "prep_data = prep_data.merge(clusters, on='user_id')\n",
    "prep_data"
   ]
  },
  {
   "cell_type": "markdown",
   "metadata": {},
   "source": [
    "Исключаем из данных выбросы"
   ]
  },
  {
   "cell_type": "code",
   "execution_count": 79,
   "metadata": {},
   "outputs": [],
   "source": [
    "users_metrics_clrd = users_metrics.loc[(users_metrics['session_duration'] < users_metrics['session_duration'].quantile(0.98)) & (\n",
    "                                        users_metrics['actions_per_second'] < users_metrics['actions_per_second'].quantile(0.98))]"
   ]
  },
  {
   "cell_type": "code",
   "execution_count": 80,
   "metadata": {},
   "outputs": [],
   "source": [
    "full_features = list(prep_data.iloc[:,1:21].columns)\n",
    "act_features = list(prep_data.iloc[:,1:10].columns)"
   ]
  },
  {
   "cell_type": "code",
   "execution_count": 81,
   "metadata": {},
   "outputs": [],
   "source": [
    "# Функция для удобного вывода описаний кластеров. \n",
    "\n",
    "def clusters_desciption(clusters, is_full_features = True):\n",
    "    display(users_metrics_clrd.groupby(clusters)[['session_duration', 'actions_per_second']].median())\n",
    "    display(users_metrics_clrd.groupby([clusters, 'user_id'])[['is_inactive', 'is_target']].mean().groupby(clusters).mean())\n",
    "    if is_full_features:\n",
    "        display(prep_data.groupby(clusters)[full_features].mean())\n",
    "    else:\n",
    "        display(prep_data.groupby(clusters)[act_features].mean())"
   ]
  },
  {
   "cell_type": "code",
   "execution_count": 82,
   "metadata": {},
   "outputs": [
    {
     "data": {
      "text/html": [
       "<div>\n",
       "<style scoped>\n",
       "    .dataframe tbody tr th:only-of-type {\n",
       "        vertical-align: middle;\n",
       "    }\n",
       "\n",
       "    .dataframe tbody tr th {\n",
       "        vertical-align: top;\n",
       "    }\n",
       "\n",
       "    .dataframe thead th {\n",
       "        text-align: right;\n",
       "    }\n",
       "</style>\n",
       "<table border=\"1\" class=\"dataframe\">\n",
       "  <thead>\n",
       "    <tr style=\"text-align: right;\">\n",
       "      <th></th>\n",
       "      <th>session_duration</th>\n",
       "      <th>actions_per_second</th>\n",
       "    </tr>\n",
       "    <tr>\n",
       "      <th>full_4</th>\n",
       "      <th></th>\n",
       "      <th></th>\n",
       "    </tr>\n",
       "  </thead>\n",
       "  <tbody>\n",
       "    <tr>\n",
       "      <td>0</td>\n",
       "      <td>648.0</td>\n",
       "      <td>0.012048</td>\n",
       "    </tr>\n",
       "    <tr>\n",
       "      <td>1</td>\n",
       "      <td>632.0</td>\n",
       "      <td>0.011757</td>\n",
       "    </tr>\n",
       "    <tr>\n",
       "      <td>2</td>\n",
       "      <td>409.0</td>\n",
       "      <td>0.011628</td>\n",
       "    </tr>\n",
       "    <tr>\n",
       "      <td>3</td>\n",
       "      <td>306.5</td>\n",
       "      <td>0.015465</td>\n",
       "    </tr>\n",
       "  </tbody>\n",
       "</table>\n",
       "</div>"
      ],
      "text/plain": [
       "        session_duration  actions_per_second\n",
       "full_4                                      \n",
       "0                  648.0            0.012048\n",
       "1                  632.0            0.011757\n",
       "2                  409.0            0.011628\n",
       "3                  306.5            0.015465"
      ]
     },
     "metadata": {},
     "output_type": "display_data"
    },
    {
     "data": {
      "text/html": [
       "<div>\n",
       "<style scoped>\n",
       "    .dataframe tbody tr th:only-of-type {\n",
       "        vertical-align: middle;\n",
       "    }\n",
       "\n",
       "    .dataframe tbody tr th {\n",
       "        vertical-align: top;\n",
       "    }\n",
       "\n",
       "    .dataframe thead th {\n",
       "        text-align: right;\n",
       "    }\n",
       "</style>\n",
       "<table border=\"1\" class=\"dataframe\">\n",
       "  <thead>\n",
       "    <tr style=\"text-align: right;\">\n",
       "      <th></th>\n",
       "      <th>is_inactive</th>\n",
       "      <th>is_target</th>\n",
       "    </tr>\n",
       "    <tr>\n",
       "      <th>full_4</th>\n",
       "      <th></th>\n",
       "      <th></th>\n",
       "    </tr>\n",
       "  </thead>\n",
       "  <tbody>\n",
       "    <tr>\n",
       "      <td>0</td>\n",
       "      <td>0.874368</td>\n",
       "      <td>0.187184</td>\n",
       "    </tr>\n",
       "    <tr>\n",
       "      <td>1</td>\n",
       "      <td>0.842038</td>\n",
       "      <td>0.173248</td>\n",
       "    </tr>\n",
       "    <tr>\n",
       "      <td>2</td>\n",
       "      <td>0.811973</td>\n",
       "      <td>0.213322</td>\n",
       "    </tr>\n",
       "    <tr>\n",
       "      <td>3</td>\n",
       "      <td>0.846154</td>\n",
       "      <td>1.000000</td>\n",
       "    </tr>\n",
       "  </tbody>\n",
       "</table>\n",
       "</div>"
      ],
      "text/plain": [
       "        is_inactive  is_target\n",
       "full_4                        \n",
       "0          0.874368   0.187184\n",
       "1          0.842038   0.173248\n",
       "2          0.811973   0.213322\n",
       "3          0.846154   1.000000"
      ]
     },
     "metadata": {},
     "output_type": "display_data"
    },
    {
     "data": {
      "text/html": [
       "<div>\n",
       "<style scoped>\n",
       "    .dataframe tbody tr th:only-of-type {\n",
       "        vertical-align: middle;\n",
       "    }\n",
       "\n",
       "    .dataframe tbody tr th {\n",
       "        vertical-align: top;\n",
       "    }\n",
       "\n",
       "    .dataframe thead th {\n",
       "        text-align: right;\n",
       "    }\n",
       "</style>\n",
       "<table border=\"1\" class=\"dataframe\">\n",
       "  <thead>\n",
       "    <tr style=\"text-align: right;\">\n",
       "      <th></th>\n",
       "      <th>event_name_advert_open</th>\n",
       "      <th>event_name_contacts_call</th>\n",
       "      <th>event_name_favorites_add</th>\n",
       "      <th>event_name_map</th>\n",
       "      <th>event_name_photos_show</th>\n",
       "      <th>event_name_search</th>\n",
       "      <th>event_name_show_contacts</th>\n",
       "      <th>event_name_tips_click</th>\n",
       "      <th>event_name_tips_show</th>\n",
       "      <th>source_google</th>\n",
       "      <th>source_other</th>\n",
       "      <th>source_yandex</th>\n",
       "      <th>time_of_day_day</th>\n",
       "      <th>time_of_day_evening</th>\n",
       "      <th>time_of_day_morning</th>\n",
       "      <th>time_of_day_night</th>\n",
       "      <th>actions_by_session</th>\n",
       "      <th>sessions_by_user</th>\n",
       "      <th>full_4</th>\n",
       "      <th>act_4</th>\n",
       "    </tr>\n",
       "    <tr>\n",
       "      <th>full_4</th>\n",
       "      <th></th>\n",
       "      <th></th>\n",
       "      <th></th>\n",
       "      <th></th>\n",
       "      <th></th>\n",
       "      <th></th>\n",
       "      <th></th>\n",
       "      <th></th>\n",
       "      <th></th>\n",
       "      <th></th>\n",
       "      <th></th>\n",
       "      <th></th>\n",
       "      <th></th>\n",
       "      <th></th>\n",
       "      <th></th>\n",
       "      <th></th>\n",
       "      <th></th>\n",
       "      <th></th>\n",
       "      <th></th>\n",
       "      <th></th>\n",
       "    </tr>\n",
       "  </thead>\n",
       "  <tbody>\n",
       "    <tr>\n",
       "      <td>0</td>\n",
       "      <td>0.079039</td>\n",
       "      <td>0.000090</td>\n",
       "      <td>0.003668</td>\n",
       "      <td>0.093623</td>\n",
       "      <td>0.000642</td>\n",
       "      <td>0.063454</td>\n",
       "      <td>0.032862</td>\n",
       "      <td>0.012420</td>\n",
       "      <td>0.714201</td>\n",
       "      <td>0.218063</td>\n",
       "      <td>0.287225</td>\n",
       "      <td>0.494711</td>\n",
       "      <td>0.919443</td>\n",
       "      <td>0.031344</td>\n",
       "      <td>0.046941</td>\n",
       "      <td>0.002271</td>\n",
       "      <td>8.791370</td>\n",
       "      <td>2.170871</td>\n",
       "      <td>0.0</td>\n",
       "      <td>1.131001</td>\n",
       "    </tr>\n",
       "    <tr>\n",
       "      <td>1</td>\n",
       "      <td>0.082578</td>\n",
       "      <td>0.000047</td>\n",
       "      <td>0.004510</td>\n",
       "      <td>0.093022</td>\n",
       "      <td>0.000848</td>\n",
       "      <td>0.063525</td>\n",
       "      <td>0.029210</td>\n",
       "      <td>0.017839</td>\n",
       "      <td>0.708421</td>\n",
       "      <td>0.240025</td>\n",
       "      <td>0.301412</td>\n",
       "      <td>0.458564</td>\n",
       "      <td>0.065782</td>\n",
       "      <td>0.531265</td>\n",
       "      <td>0.339938</td>\n",
       "      <td>0.063015</td>\n",
       "      <td>8.856879</td>\n",
       "      <td>2.216697</td>\n",
       "      <td>1.0</td>\n",
       "      <td>1.159607</td>\n",
       "    </tr>\n",
       "    <tr>\n",
       "      <td>2</td>\n",
       "      <td>0.012261</td>\n",
       "      <td>0.003875</td>\n",
       "      <td>0.049072</td>\n",
       "      <td>0.002821</td>\n",
       "      <td>0.546263</td>\n",
       "      <td>0.333572</td>\n",
       "      <td>0.033674</td>\n",
       "      <td>0.000790</td>\n",
       "      <td>0.017671</td>\n",
       "      <td>0.330313</td>\n",
       "      <td>0.273476</td>\n",
       "      <td>0.396211</td>\n",
       "      <td>0.306604</td>\n",
       "      <td>0.448112</td>\n",
       "      <td>0.162347</td>\n",
       "      <td>0.082937</td>\n",
       "      <td>4.835312</td>\n",
       "      <td>2.921746</td>\n",
       "      <td>2.0</td>\n",
       "      <td>0.032125</td>\n",
       "    </tr>\n",
       "    <tr>\n",
       "      <td>3</td>\n",
       "      <td>0.001915</td>\n",
       "      <td>0.167529</td>\n",
       "      <td>0.016113</td>\n",
       "      <td>0.002168</td>\n",
       "      <td>0.155322</td>\n",
       "      <td>0.081998</td>\n",
       "      <td>0.556484</td>\n",
       "      <td>0.001131</td>\n",
       "      <td>0.017340</td>\n",
       "      <td>0.312217</td>\n",
       "      <td>0.244344</td>\n",
       "      <td>0.443439</td>\n",
       "      <td>0.522181</td>\n",
       "      <td>0.263151</td>\n",
       "      <td>0.191621</td>\n",
       "      <td>0.023047</td>\n",
       "      <td>4.715163</td>\n",
       "      <td>2.457014</td>\n",
       "      <td>3.0</td>\n",
       "      <td>2.864253</td>\n",
       "    </tr>\n",
       "  </tbody>\n",
       "</table>\n",
       "</div>"
      ],
      "text/plain": [
       "        event_name_advert_open  event_name_contacts_call  \\\n",
       "full_4                                                     \n",
       "0                     0.079039                  0.000090   \n",
       "1                     0.082578                  0.000047   \n",
       "2                     0.012261                  0.003875   \n",
       "3                     0.001915                  0.167529   \n",
       "\n",
       "        event_name_favorites_add  event_name_map  event_name_photos_show  \\\n",
       "full_4                                                                     \n",
       "0                       0.003668        0.093623                0.000642   \n",
       "1                       0.004510        0.093022                0.000848   \n",
       "2                       0.049072        0.002821                0.546263   \n",
       "3                       0.016113        0.002168                0.155322   \n",
       "\n",
       "        event_name_search  event_name_show_contacts  event_name_tips_click  \\\n",
       "full_4                                                                       \n",
       "0                0.063454                  0.032862               0.012420   \n",
       "1                0.063525                  0.029210               0.017839   \n",
       "2                0.333572                  0.033674               0.000790   \n",
       "3                0.081998                  0.556484               0.001131   \n",
       "\n",
       "        event_name_tips_show  source_google  source_other  source_yandex  \\\n",
       "full_4                                                                     \n",
       "0                   0.714201       0.218063      0.287225       0.494711   \n",
       "1                   0.708421       0.240025      0.301412       0.458564   \n",
       "2                   0.017671       0.330313      0.273476       0.396211   \n",
       "3                   0.017340       0.312217      0.244344       0.443439   \n",
       "\n",
       "        time_of_day_day  time_of_day_evening  time_of_day_morning  \\\n",
       "full_4                                                              \n",
       "0              0.919443             0.031344             0.046941   \n",
       "1              0.065782             0.531265             0.339938   \n",
       "2              0.306604             0.448112             0.162347   \n",
       "3              0.522181             0.263151             0.191621   \n",
       "\n",
       "        time_of_day_night  actions_by_session  sessions_by_user  full_4  \\\n",
       "full_4                                                                    \n",
       "0                0.002271            8.791370          2.170871     0.0   \n",
       "1                0.063015            8.856879          2.216697     1.0   \n",
       "2                0.082937            4.835312          2.921746     2.0   \n",
       "3                0.023047            4.715163          2.457014     3.0   \n",
       "\n",
       "           act_4  \n",
       "full_4            \n",
       "0       1.131001  \n",
       "1       1.159607  \n",
       "2       0.032125  \n",
       "3       2.864253  "
      ]
     },
     "metadata": {},
     "output_type": "display_data"
    }
   ],
   "source": [
    "clusters_desciption('full_4')"
   ]
  },
  {
   "cell_type": "code",
   "execution_count": 83,
   "metadata": {},
   "outputs": [
    {
     "data": {
      "text/html": [
       "<div>\n",
       "<style scoped>\n",
       "    .dataframe tbody tr th:only-of-type {\n",
       "        vertical-align: middle;\n",
       "    }\n",
       "\n",
       "    .dataframe tbody tr th {\n",
       "        vertical-align: top;\n",
       "    }\n",
       "\n",
       "    .dataframe thead th {\n",
       "        text-align: right;\n",
       "    }\n",
       "</style>\n",
       "<table border=\"1\" class=\"dataframe\">\n",
       "  <thead>\n",
       "    <tr style=\"text-align: right;\">\n",
       "      <th></th>\n",
       "      <th>session_duration</th>\n",
       "      <th>actions_per_second</th>\n",
       "    </tr>\n",
       "    <tr>\n",
       "      <th>act_4</th>\n",
       "      <th></th>\n",
       "      <th></th>\n",
       "    </tr>\n",
       "  </thead>\n",
       "  <tbody>\n",
       "    <tr>\n",
       "      <td>0</td>\n",
       "      <td>408.0</td>\n",
       "      <td>0.011628</td>\n",
       "    </tr>\n",
       "    <tr>\n",
       "      <td>1</td>\n",
       "      <td>674.0</td>\n",
       "      <td>0.010949</td>\n",
       "    </tr>\n",
       "    <tr>\n",
       "      <td>2</td>\n",
       "      <td>527.0</td>\n",
       "      <td>0.018634</td>\n",
       "    </tr>\n",
       "    <tr>\n",
       "      <td>3</td>\n",
       "      <td>310.0</td>\n",
       "      <td>0.016143</td>\n",
       "    </tr>\n",
       "  </tbody>\n",
       "</table>\n",
       "</div>"
      ],
      "text/plain": [
       "       session_duration  actions_per_second\n",
       "act_4                                      \n",
       "0                 408.0            0.011628\n",
       "1                 674.0            0.010949\n",
       "2                 527.0            0.018634\n",
       "3                 310.0            0.016143"
      ]
     },
     "metadata": {},
     "output_type": "display_data"
    },
    {
     "data": {
      "text/html": [
       "<div>\n",
       "<style scoped>\n",
       "    .dataframe tbody tr th:only-of-type {\n",
       "        vertical-align: middle;\n",
       "    }\n",
       "\n",
       "    .dataframe tbody tr th {\n",
       "        vertical-align: top;\n",
       "    }\n",
       "\n",
       "    .dataframe thead th {\n",
       "        text-align: right;\n",
       "    }\n",
       "</style>\n",
       "<table border=\"1\" class=\"dataframe\">\n",
       "  <thead>\n",
       "    <tr style=\"text-align: right;\">\n",
       "      <th></th>\n",
       "      <th>is_inactive</th>\n",
       "      <th>is_target</th>\n",
       "    </tr>\n",
       "    <tr>\n",
       "      <th>act_4</th>\n",
       "      <th></th>\n",
       "      <th></th>\n",
       "    </tr>\n",
       "  </thead>\n",
       "  <tbody>\n",
       "    <tr>\n",
       "      <td>0</td>\n",
       "      <td>0.816993</td>\n",
       "      <td>0.209150</td>\n",
       "    </tr>\n",
       "    <tr>\n",
       "      <td>1</td>\n",
       "      <td>0.855175</td>\n",
       "      <td>0.196801</td>\n",
       "    </tr>\n",
       "    <tr>\n",
       "      <td>2</td>\n",
       "      <td>0.847458</td>\n",
       "      <td>0.112288</td>\n",
       "    </tr>\n",
       "    <tr>\n",
       "      <td>3</td>\n",
       "      <td>0.852217</td>\n",
       "      <td>1.000000</td>\n",
       "    </tr>\n",
       "  </tbody>\n",
       "</table>\n",
       "</div>"
      ],
      "text/plain": [
       "       is_inactive  is_target\n",
       "act_4                        \n",
       "0         0.816993   0.209150\n",
       "1         0.855175   0.196801\n",
       "2         0.847458   0.112288\n",
       "3         0.852217   1.000000"
      ]
     },
     "metadata": {},
     "output_type": "display_data"
    },
    {
     "data": {
      "text/html": [
       "<div>\n",
       "<style scoped>\n",
       "    .dataframe tbody tr th:only-of-type {\n",
       "        vertical-align: middle;\n",
       "    }\n",
       "\n",
       "    .dataframe tbody tr th {\n",
       "        vertical-align: top;\n",
       "    }\n",
       "\n",
       "    .dataframe thead th {\n",
       "        text-align: right;\n",
       "    }\n",
       "</style>\n",
       "<table border=\"1\" class=\"dataframe\">\n",
       "  <thead>\n",
       "    <tr style=\"text-align: right;\">\n",
       "      <th></th>\n",
       "      <th>event_name_advert_open</th>\n",
       "      <th>event_name_contacts_call</th>\n",
       "      <th>event_name_favorites_add</th>\n",
       "      <th>event_name_map</th>\n",
       "      <th>event_name_photos_show</th>\n",
       "      <th>event_name_search</th>\n",
       "      <th>event_name_show_contacts</th>\n",
       "      <th>event_name_tips_click</th>\n",
       "      <th>event_name_tips_show</th>\n",
       "    </tr>\n",
       "    <tr>\n",
       "      <th>act_4</th>\n",
       "      <th></th>\n",
       "      <th></th>\n",
       "      <th></th>\n",
       "      <th></th>\n",
       "      <th></th>\n",
       "      <th></th>\n",
       "      <th></th>\n",
       "      <th></th>\n",
       "      <th></th>\n",
       "    </tr>\n",
       "  </thead>\n",
       "  <tbody>\n",
       "    <tr>\n",
       "      <td>0</td>\n",
       "      <td>0.008516</td>\n",
       "      <td>0.004188</td>\n",
       "      <td>0.045980</td>\n",
       "      <td>0.004024</td>\n",
       "      <td>0.530925</td>\n",
       "      <td>0.345290</td>\n",
       "      <td>0.034636</td>\n",
       "      <td>0.001692</td>\n",
       "      <td>0.024749</td>\n",
       "    </tr>\n",
       "    <tr>\n",
       "      <td>1</td>\n",
       "      <td>0.009603</td>\n",
       "      <td>0.000000</td>\n",
       "      <td>0.004233</td>\n",
       "      <td>0.090485</td>\n",
       "      <td>0.000483</td>\n",
       "      <td>0.051953</td>\n",
       "      <td>0.034607</td>\n",
       "      <td>0.017456</td>\n",
       "      <td>0.791180</td>\n",
       "    </tr>\n",
       "    <tr>\n",
       "      <td>2</td>\n",
       "      <td>0.443583</td>\n",
       "      <td>0.000468</td>\n",
       "      <td>0.008094</td>\n",
       "      <td>0.108781</td>\n",
       "      <td>0.007254</td>\n",
       "      <td>0.068422</td>\n",
       "      <td>0.011553</td>\n",
       "      <td>0.004673</td>\n",
       "      <td>0.347173</td>\n",
       "    </tr>\n",
       "    <tr>\n",
       "      <td>3</td>\n",
       "      <td>0.001968</td>\n",
       "      <td>0.169504</td>\n",
       "      <td>0.016563</td>\n",
       "      <td>0.004822</td>\n",
       "      <td>0.138557</td>\n",
       "      <td>0.080038</td>\n",
       "      <td>0.566321</td>\n",
       "      <td>0.001163</td>\n",
       "      <td>0.021065</td>\n",
       "    </tr>\n",
       "  </tbody>\n",
       "</table>\n",
       "</div>"
      ],
      "text/plain": [
       "       event_name_advert_open  event_name_contacts_call  \\\n",
       "act_4                                                     \n",
       "0                    0.008516                  0.004188   \n",
       "1                    0.009603                  0.000000   \n",
       "2                    0.443583                  0.000468   \n",
       "3                    0.001968                  0.169504   \n",
       "\n",
       "       event_name_favorites_add  event_name_map  event_name_photos_show  \\\n",
       "act_4                                                                     \n",
       "0                      0.045980        0.004024                0.530925   \n",
       "1                      0.004233        0.090485                0.000483   \n",
       "2                      0.008094        0.108781                0.007254   \n",
       "3                      0.016563        0.004822                0.138557   \n",
       "\n",
       "       event_name_search  event_name_show_contacts  event_name_tips_click  \\\n",
       "act_4                                                                       \n",
       "0               0.345290                  0.034636               0.001692   \n",
       "1               0.051953                  0.034607               0.017456   \n",
       "2               0.068422                  0.011553               0.004673   \n",
       "3               0.080038                  0.566321               0.001163   \n",
       "\n",
       "       event_name_tips_show  \n",
       "act_4                        \n",
       "0                  0.024749  \n",
       "1                  0.791180  \n",
       "2                  0.347173  \n",
       "3                  0.021065  "
      ]
     },
     "metadata": {},
     "output_type": "display_data"
    }
   ],
   "source": [
    "clusters_desciption('act_4', False)"
   ]
  },
  {
   "cell_type": "code",
   "execution_count": 84,
   "metadata": {},
   "outputs": [
    {
     "data": {
      "text/html": [
       "<div>\n",
       "<style scoped>\n",
       "    .dataframe tbody tr th:only-of-type {\n",
       "        vertical-align: middle;\n",
       "    }\n",
       "\n",
       "    .dataframe tbody tr th {\n",
       "        vertical-align: top;\n",
       "    }\n",
       "\n",
       "    .dataframe thead th {\n",
       "        text-align: right;\n",
       "    }\n",
       "</style>\n",
       "<table border=\"1\" class=\"dataframe\">\n",
       "  <thead>\n",
       "    <tr style=\"text-align: right;\">\n",
       "      <th></th>\n",
       "      <th>session_duration</th>\n",
       "      <th>actions_per_second</th>\n",
       "    </tr>\n",
       "    <tr>\n",
       "      <th>full_8</th>\n",
       "      <th></th>\n",
       "      <th></th>\n",
       "    </tr>\n",
       "  </thead>\n",
       "  <tbody>\n",
       "    <tr>\n",
       "      <td>0</td>\n",
       "      <td>561.0</td>\n",
       "      <td>0.019760</td>\n",
       "    </tr>\n",
       "    <tr>\n",
       "      <td>1</td>\n",
       "      <td>507.0</td>\n",
       "      <td>0.010651</td>\n",
       "    </tr>\n",
       "    <tr>\n",
       "      <td>2</td>\n",
       "      <td>670.0</td>\n",
       "      <td>0.011270</td>\n",
       "    </tr>\n",
       "    <tr>\n",
       "      <td>3</td>\n",
       "      <td>695.0</td>\n",
       "      <td>0.010582</td>\n",
       "    </tr>\n",
       "    <tr>\n",
       "      <td>4</td>\n",
       "      <td>283.0</td>\n",
       "      <td>0.013793</td>\n",
       "    </tr>\n",
       "    <tr>\n",
       "      <td>5</td>\n",
       "      <td>571.0</td>\n",
       "      <td>0.012146</td>\n",
       "    </tr>\n",
       "    <tr>\n",
       "      <td>6</td>\n",
       "      <td>433.5</td>\n",
       "      <td>0.013025</td>\n",
       "    </tr>\n",
       "    <tr>\n",
       "      <td>7</td>\n",
       "      <td>291.0</td>\n",
       "      <td>0.015748</td>\n",
       "    </tr>\n",
       "  </tbody>\n",
       "</table>\n",
       "</div>"
      ],
      "text/plain": [
       "        session_duration  actions_per_second\n",
       "full_8                                      \n",
       "0                  561.0            0.019760\n",
       "1                  507.0            0.010651\n",
       "2                  670.0            0.011270\n",
       "3                  695.0            0.010582\n",
       "4                  283.0            0.013793\n",
       "5                  571.0            0.012146\n",
       "6                  433.5            0.013025\n",
       "7                  291.0            0.015748"
      ]
     },
     "metadata": {},
     "output_type": "display_data"
    },
    {
     "data": {
      "text/html": [
       "<div>\n",
       "<style scoped>\n",
       "    .dataframe tbody tr th:only-of-type {\n",
       "        vertical-align: middle;\n",
       "    }\n",
       "\n",
       "    .dataframe tbody tr th {\n",
       "        vertical-align: top;\n",
       "    }\n",
       "\n",
       "    .dataframe thead th {\n",
       "        text-align: right;\n",
       "    }\n",
       "</style>\n",
       "<table border=\"1\" class=\"dataframe\">\n",
       "  <thead>\n",
       "    <tr style=\"text-align: right;\">\n",
       "      <th></th>\n",
       "      <th>is_inactive</th>\n",
       "      <th>is_target</th>\n",
       "    </tr>\n",
       "    <tr>\n",
       "      <th>full_8</th>\n",
       "      <th></th>\n",
       "      <th></th>\n",
       "    </tr>\n",
       "  </thead>\n",
       "  <tbody>\n",
       "    <tr>\n",
       "      <td>0</td>\n",
       "      <td>0.841935</td>\n",
       "      <td>0.119355</td>\n",
       "    </tr>\n",
       "    <tr>\n",
       "      <td>1</td>\n",
       "      <td>0.804444</td>\n",
       "      <td>0.220741</td>\n",
       "    </tr>\n",
       "    <tr>\n",
       "      <td>2</td>\n",
       "      <td>0.873393</td>\n",
       "      <td>0.211672</td>\n",
       "    </tr>\n",
       "    <tr>\n",
       "      <td>3</td>\n",
       "      <td>0.825677</td>\n",
       "      <td>0.183746</td>\n",
       "    </tr>\n",
       "    <tr>\n",
       "      <td>4</td>\n",
       "      <td>0.822034</td>\n",
       "      <td>0.171610</td>\n",
       "    </tr>\n",
       "    <tr>\n",
       "      <td>5</td>\n",
       "      <td>0.877698</td>\n",
       "      <td>0.196043</td>\n",
       "    </tr>\n",
       "    <tr>\n",
       "      <td>6</td>\n",
       "      <td>0.817073</td>\n",
       "      <td>0.170732</td>\n",
       "    </tr>\n",
       "    <tr>\n",
       "      <td>7</td>\n",
       "      <td>0.856410</td>\n",
       "      <td>1.000000</td>\n",
       "    </tr>\n",
       "  </tbody>\n",
       "</table>\n",
       "</div>"
      ],
      "text/plain": [
       "        is_inactive  is_target\n",
       "full_8                        \n",
       "0          0.841935   0.119355\n",
       "1          0.804444   0.220741\n",
       "2          0.873393   0.211672\n",
       "3          0.825677   0.183746\n",
       "4          0.822034   0.171610\n",
       "5          0.877698   0.196043\n",
       "6          0.817073   0.170732\n",
       "7          0.856410   1.000000"
      ]
     },
     "metadata": {},
     "output_type": "display_data"
    },
    {
     "data": {
      "text/html": [
       "<div>\n",
       "<style scoped>\n",
       "    .dataframe tbody tr th:only-of-type {\n",
       "        vertical-align: middle;\n",
       "    }\n",
       "\n",
       "    .dataframe tbody tr th {\n",
       "        vertical-align: top;\n",
       "    }\n",
       "\n",
       "    .dataframe thead th {\n",
       "        text-align: right;\n",
       "    }\n",
       "</style>\n",
       "<table border=\"1\" class=\"dataframe\">\n",
       "  <thead>\n",
       "    <tr style=\"text-align: right;\">\n",
       "      <th></th>\n",
       "      <th>event_name_advert_open</th>\n",
       "      <th>event_name_contacts_call</th>\n",
       "      <th>event_name_favorites_add</th>\n",
       "      <th>event_name_map</th>\n",
       "      <th>event_name_photos_show</th>\n",
       "      <th>event_name_search</th>\n",
       "      <th>event_name_show_contacts</th>\n",
       "      <th>event_name_tips_click</th>\n",
       "      <th>event_name_tips_show</th>\n",
       "      <th>source_google</th>\n",
       "      <th>source_other</th>\n",
       "      <th>source_yandex</th>\n",
       "      <th>time_of_day_day</th>\n",
       "      <th>time_of_day_evening</th>\n",
       "      <th>time_of_day_morning</th>\n",
       "      <th>time_of_day_night</th>\n",
       "      <th>actions_by_session</th>\n",
       "      <th>sessions_by_user</th>\n",
       "      <th>full_4</th>\n",
       "      <th>act_4</th>\n",
       "    </tr>\n",
       "    <tr>\n",
       "      <th>full_8</th>\n",
       "      <th></th>\n",
       "      <th></th>\n",
       "      <th></th>\n",
       "      <th></th>\n",
       "      <th></th>\n",
       "      <th></th>\n",
       "      <th></th>\n",
       "      <th></th>\n",
       "      <th></th>\n",
       "      <th></th>\n",
       "      <th></th>\n",
       "      <th></th>\n",
       "      <th></th>\n",
       "      <th></th>\n",
       "      <th></th>\n",
       "      <th></th>\n",
       "      <th></th>\n",
       "      <th></th>\n",
       "      <th></th>\n",
       "      <th></th>\n",
       "    </tr>\n",
       "  </thead>\n",
       "  <tbody>\n",
       "    <tr>\n",
       "      <td>0</td>\n",
       "      <td>0.517434</td>\n",
       "      <td>0.000482</td>\n",
       "      <td>0.003791</td>\n",
       "      <td>0.078863</td>\n",
       "      <td>0.007337</td>\n",
       "      <td>0.049532</td>\n",
       "      <td>0.011287</td>\n",
       "      <td>0.005353</td>\n",
       "      <td>0.325921</td>\n",
       "      <td>0.247649</td>\n",
       "      <td>0.388715</td>\n",
       "      <td>0.363636</td>\n",
       "      <td>0.478642</td>\n",
       "      <td>0.349352</td>\n",
       "      <td>0.117960</td>\n",
       "      <td>0.054046</td>\n",
       "      <td>15.072407</td>\n",
       "      <td>2.385580</td>\n",
       "      <td>0.561129</td>\n",
       "      <td>1.990596</td>\n",
       "    </tr>\n",
       "    <tr>\n",
       "      <td>1</td>\n",
       "      <td>0.006983</td>\n",
       "      <td>0.004805</td>\n",
       "      <td>0.017341</td>\n",
       "      <td>0.000212</td>\n",
       "      <td>0.837606</td>\n",
       "      <td>0.099983</td>\n",
       "      <td>0.030984</td>\n",
       "      <td>0.000004</td>\n",
       "      <td>0.002082</td>\n",
       "      <td>0.294203</td>\n",
       "      <td>0.320290</td>\n",
       "      <td>0.385507</td>\n",
       "      <td>0.307224</td>\n",
       "      <td>0.467140</td>\n",
       "      <td>0.144629</td>\n",
       "      <td>0.081007</td>\n",
       "      <td>5.554348</td>\n",
       "      <td>3.152174</td>\n",
       "      <td>2.008696</td>\n",
       "      <td>0.008696</td>\n",
       "    </tr>\n",
       "    <tr>\n",
       "      <td>2</td>\n",
       "      <td>0.020142</td>\n",
       "      <td>0.000106</td>\n",
       "      <td>0.002378</td>\n",
       "      <td>0.095743</td>\n",
       "      <td>0.001616</td>\n",
       "      <td>0.045473</td>\n",
       "      <td>0.037925</td>\n",
       "      <td>0.014202</td>\n",
       "      <td>0.782415</td>\n",
       "      <td>0.214695</td>\n",
       "      <td>0.266221</td>\n",
       "      <td>0.519084</td>\n",
       "      <td>0.915802</td>\n",
       "      <td>0.034716</td>\n",
       "      <td>0.047065</td>\n",
       "      <td>0.002417</td>\n",
       "      <td>8.079566</td>\n",
       "      <td>2.269084</td>\n",
       "      <td>0.022901</td>\n",
       "      <td>1.037214</td>\n",
       "    </tr>\n",
       "    <tr>\n",
       "      <td>3</td>\n",
       "      <td>0.022163</td>\n",
       "      <td>0.000000</td>\n",
       "      <td>0.004592</td>\n",
       "      <td>0.086581</td>\n",
       "      <td>0.001386</td>\n",
       "      <td>0.055144</td>\n",
       "      <td>0.031858</td>\n",
       "      <td>0.021572</td>\n",
       "      <td>0.776704</td>\n",
       "      <td>0.250851</td>\n",
       "      <td>0.238365</td>\n",
       "      <td>0.510783</td>\n",
       "      <td>0.055126</td>\n",
       "      <td>0.832399</td>\n",
       "      <td>0.021152</td>\n",
       "      <td>0.091322</td>\n",
       "      <td>8.681703</td>\n",
       "      <td>2.263337</td>\n",
       "      <td>1.001135</td>\n",
       "      <td>1.054484</td>\n",
       "    </tr>\n",
       "    <tr>\n",
       "      <td>4</td>\n",
       "      <td>0.006014</td>\n",
       "      <td>0.003636</td>\n",
       "      <td>0.012968</td>\n",
       "      <td>0.016024</td>\n",
       "      <td>0.133187</td>\n",
       "      <td>0.722546</td>\n",
       "      <td>0.030459</td>\n",
       "      <td>0.002466</td>\n",
       "      <td>0.072700</td>\n",
       "      <td>0.362887</td>\n",
       "      <td>0.268041</td>\n",
       "      <td>0.369072</td>\n",
       "      <td>0.349919</td>\n",
       "      <td>0.425041</td>\n",
       "      <td>0.141101</td>\n",
       "      <td>0.083939</td>\n",
       "      <td>3.501915</td>\n",
       "      <td>2.468041</td>\n",
       "      <td>1.810309</td>\n",
       "      <td>0.076289</td>\n",
       "    </tr>\n",
       "    <tr>\n",
       "      <td>5</td>\n",
       "      <td>0.046094</td>\n",
       "      <td>0.000138</td>\n",
       "      <td>0.005982</td>\n",
       "      <td>0.103736</td>\n",
       "      <td>0.014877</td>\n",
       "      <td>0.075991</td>\n",
       "      <td>0.040889</td>\n",
       "      <td>0.013436</td>\n",
       "      <td>0.698857</td>\n",
       "      <td>0.229310</td>\n",
       "      <td>0.344828</td>\n",
       "      <td>0.425862</td>\n",
       "      <td>0.075228</td>\n",
       "      <td>0.019438</td>\n",
       "      <td>0.902077</td>\n",
       "      <td>0.003257</td>\n",
       "      <td>7.132061</td>\n",
       "      <td>1.975862</td>\n",
       "      <td>1.024138</td>\n",
       "      <td>1.072414</td>\n",
       "    </tr>\n",
       "    <tr>\n",
       "      <td>6</td>\n",
       "      <td>0.076197</td>\n",
       "      <td>0.008406</td>\n",
       "      <td>0.525346</td>\n",
       "      <td>0.001975</td>\n",
       "      <td>0.162203</td>\n",
       "      <td>0.142926</td>\n",
       "      <td>0.023225</td>\n",
       "      <td>0.008483</td>\n",
       "      <td>0.051238</td>\n",
       "      <td>0.317073</td>\n",
       "      <td>0.182927</td>\n",
       "      <td>0.500000</td>\n",
       "      <td>0.358507</td>\n",
       "      <td>0.354826</td>\n",
       "      <td>0.196359</td>\n",
       "      <td>0.090309</td>\n",
       "      <td>7.166981</td>\n",
       "      <td>2.487805</td>\n",
       "      <td>1.878049</td>\n",
       "      <td>0.317073</td>\n",
       "    </tr>\n",
       "    <tr>\n",
       "      <td>7</td>\n",
       "      <td>0.002662</td>\n",
       "      <td>0.172133</td>\n",
       "      <td>0.011729</td>\n",
       "      <td>0.002304</td>\n",
       "      <td>0.143904</td>\n",
       "      <td>0.083125</td>\n",
       "      <td>0.570425</td>\n",
       "      <td>0.001202</td>\n",
       "      <td>0.012517</td>\n",
       "      <td>0.317308</td>\n",
       "      <td>0.245192</td>\n",
       "      <td>0.437500</td>\n",
       "      <td>0.524207</td>\n",
       "      <td>0.269743</td>\n",
       "      <td>0.181562</td>\n",
       "      <td>0.024487</td>\n",
       "      <td>4.640816</td>\n",
       "      <td>2.471154</td>\n",
       "      <td>2.995192</td>\n",
       "      <td>2.927885</td>\n",
       "    </tr>\n",
       "  </tbody>\n",
       "</table>\n",
       "</div>"
      ],
      "text/plain": [
       "        event_name_advert_open  event_name_contacts_call  \\\n",
       "full_8                                                     \n",
       "0                     0.517434                  0.000482   \n",
       "1                     0.006983                  0.004805   \n",
       "2                     0.020142                  0.000106   \n",
       "3                     0.022163                  0.000000   \n",
       "4                     0.006014                  0.003636   \n",
       "5                     0.046094                  0.000138   \n",
       "6                     0.076197                  0.008406   \n",
       "7                     0.002662                  0.172133   \n",
       "\n",
       "        event_name_favorites_add  event_name_map  event_name_photos_show  \\\n",
       "full_8                                                                     \n",
       "0                       0.003791        0.078863                0.007337   \n",
       "1                       0.017341        0.000212                0.837606   \n",
       "2                       0.002378        0.095743                0.001616   \n",
       "3                       0.004592        0.086581                0.001386   \n",
       "4                       0.012968        0.016024                0.133187   \n",
       "5                       0.005982        0.103736                0.014877   \n",
       "6                       0.525346        0.001975                0.162203   \n",
       "7                       0.011729        0.002304                0.143904   \n",
       "\n",
       "        event_name_search  event_name_show_contacts  event_name_tips_click  \\\n",
       "full_8                                                                       \n",
       "0                0.049532                  0.011287               0.005353   \n",
       "1                0.099983                  0.030984               0.000004   \n",
       "2                0.045473                  0.037925               0.014202   \n",
       "3                0.055144                  0.031858               0.021572   \n",
       "4                0.722546                  0.030459               0.002466   \n",
       "5                0.075991                  0.040889               0.013436   \n",
       "6                0.142926                  0.023225               0.008483   \n",
       "7                0.083125                  0.570425               0.001202   \n",
       "\n",
       "        event_name_tips_show  source_google  source_other  source_yandex  \\\n",
       "full_8                                                                     \n",
       "0                   0.325921       0.247649      0.388715       0.363636   \n",
       "1                   0.002082       0.294203      0.320290       0.385507   \n",
       "2                   0.782415       0.214695      0.266221       0.519084   \n",
       "3                   0.776704       0.250851      0.238365       0.510783   \n",
       "4                   0.072700       0.362887      0.268041       0.369072   \n",
       "5                   0.698857       0.229310      0.344828       0.425862   \n",
       "6                   0.051238       0.317073      0.182927       0.500000   \n",
       "7                   0.012517       0.317308      0.245192       0.437500   \n",
       "\n",
       "        time_of_day_day  time_of_day_evening  time_of_day_morning  \\\n",
       "full_8                                                              \n",
       "0              0.478642             0.349352             0.117960   \n",
       "1              0.307224             0.467140             0.144629   \n",
       "2              0.915802             0.034716             0.047065   \n",
       "3              0.055126             0.832399             0.021152   \n",
       "4              0.349919             0.425041             0.141101   \n",
       "5              0.075228             0.019438             0.902077   \n",
       "6              0.358507             0.354826             0.196359   \n",
       "7              0.524207             0.269743             0.181562   \n",
       "\n",
       "        time_of_day_night  actions_by_session  sessions_by_user    full_4  \\\n",
       "full_8                                                                      \n",
       "0                0.054046           15.072407          2.385580  0.561129   \n",
       "1                0.081007            5.554348          3.152174  2.008696   \n",
       "2                0.002417            8.079566          2.269084  0.022901   \n",
       "3                0.091322            8.681703          2.263337  1.001135   \n",
       "4                0.083939            3.501915          2.468041  1.810309   \n",
       "5                0.003257            7.132061          1.975862  1.024138   \n",
       "6                0.090309            7.166981          2.487805  1.878049   \n",
       "7                0.024487            4.640816          2.471154  2.995192   \n",
       "\n",
       "           act_4  \n",
       "full_8            \n",
       "0       1.990596  \n",
       "1       0.008696  \n",
       "2       1.037214  \n",
       "3       1.054484  \n",
       "4       0.076289  \n",
       "5       1.072414  \n",
       "6       0.317073  \n",
       "7       2.927885  "
      ]
     },
     "metadata": {},
     "output_type": "display_data"
    }
   ],
   "source": [
    "clusters_desciption('full_8', True)"
   ]
  },
  {
   "cell_type": "markdown",
   "metadata": {},
   "source": [
    "Видно, что в плане различия кластеров по метрикам самый интересный и контрастный вариант -- кластеризация пользователей только на основе действий на 4 кластера. Дальше будем работать только с ним."
   ]
  },
  {
   "cell_type": "markdown",
   "metadata": {},
   "source": [
    "Посмотрим на количество пользователей в каждом кластере."
   ]
  },
  {
   "cell_type": "markdown",
   "metadata": {},
   "source": [
    "Какая часть всех пользователей попала в каждый кластер"
   ]
  },
  {
   "cell_type": "code",
   "execution_count": 86,
   "metadata": {},
   "outputs": [
    {
     "data": {
      "image/png": "[encoded data removed]",
      "text/plain": [
       "<Figure size 864x432 with 1 Axes>"
      ]
     },
     "metadata": {
      "needs_background": "light"
     },
     "output_type": "display_data"
    }
   ],
   "source": [
    "plt.figure(figsize=(12,6))\n",
    "sns.barplot(x = n_users_in_clusters.index, y = n_users_in_clusters)\n",
    "plt.xlabel('Кластер')\n",
    "plt.ylabel('Число пользователей')\n",
    "plt.title('Количество пользователей в разных кластерах')\n",
    "plt.show()"
   ]
  },
  {
   "cell_type": "code",
   "execution_count": 87,
   "metadata": {},
   "outputs": [
    {
     "data": {
      "image/png": "[encoded data removed]",
      "text/plain": [
       "<Figure size 864x432 with 1 Axes>"
      ]
     },
     "metadata": {
      "needs_background": "light"
     },
     "output_type": "display_data"
    },
    {
     "data": {
      "image/png": "[encoded data removed]",
      "text/plain": [
       "<Figure size 864x432 with 1 Axes>"
      ]
     },
     "metadata": {
      "needs_background": "light"
     },
     "output_type": "display_data"
    },
    {
     "data": {
      "image/png": "[encoded data removed]",
      "text/plain": [
       "<Figure size 864x432 with 1 Axes>"
      ]
     },
     "metadata": {
      "needs_background": "light"
     },
     "output_type": "display_data"
    },
    {
     "data": {
      "image/png": "[encoded data removed]",
      "text/plain": [
       "<Figure size 864x432 with 1 Axes>"
      ]
     },
     "metadata": {
      "needs_background": "light"
     },
     "output_type": "display_data"
    }
   ],
   "source": [
    "data = data.merge(clusters[['user_id', 'act_4']], on='user_id')\n",
    "for cluster in [0,1,2,3]:  \n",
    "    event_barplot = data.loc[data['act_4'] == cluster]['event_name'].value_counts().sort_values()\n",
    "    plt.figure(figsize=(12,6))\n",
    "    sns.barplot(x = event_barplot.index, y = event_barplot)\n",
    "    plt.xlabel('Действие')\n",
    "    plt.ylabel('Действие совершено в приложении, раз')\n",
    "    plt.title('Представленность различных действий в общей активности пользователей кластера {}'.format(cluster))\n",
    "    plt.show()"
   ]
  },
  {
   "cell_type": "code",
   "execution_count": 88,
   "metadata": {},
   "outputs": [],
   "source": [
    "churn_and_target = users_metrics.groupby('user_id')[['is_inactive', 'is_target']].mean()\n",
    "churn_and_target = pd.merge(churn_and_target, clusters[['user_id', 'act_4']], on='user_id')"
   ]
  },
  {
   "cell_type": "code",
   "execution_count": 89,
   "metadata": {},
   "outputs": [
    {
     "data": {
      "image/png": "[encoded data removed]",
      "text/plain": [
       "<Figure size 864x432 with 1 Axes>"
      ]
     },
     "metadata": {
      "needs_background": "light"
     },
     "output_type": "display_data"
    }
   ],
   "source": [
    "conversion_by_clusters = churn_and_target.groupby('act_4')['is_target'].mean()\n",
    "plt.figure(figsize=(12,6))\n",
    "sns.barplot(x = conversion_by_clusters.index, y = conversion_by_clusters)\n",
    "plt.xlabel('Кластер')\n",
    "plt.ylabel('Конверсия')\n",
    "plt.title('Показатель конверсии в разных кластерах')\n",
    "plt.show()"
   ]
  },
  {
   "cell_type": "code",
   "execution_count": 90,
   "metadata": {},
   "outputs": [
    {
     "data": {
      "image/png": "[encoded data removed]",
      "text/plain": [
       "<Figure size 864x432 with 1 Axes>"
      ]
     },
     "metadata": {
      "needs_background": "light"
     },
     "output_type": "display_data"
    }
   ],
   "source": [
    "retention_by_clusters = 1 - churn_and_target.groupby('act_4')['is_inactive'].mean()\n",
    "plt.figure(figsize=(12,6))\n",
    "sns.barplot(x = retention_by_clusters.index, y = retention_by_clusters)\n",
    "plt.xlabel('Кластер')\n",
    "plt.ylabel('Retention Rate')\n",
    "plt.title('Показатель Retention Rate в разных кластерах')\n",
    "plt.show()"
   ]
  },
  {
   "cell_type": "code",
   "execution_count": 91,
   "metadata": {},
   "outputs": [
    {
     "data": {
      "image/png": "[encoded data removed]",
      "text/plain": [
       "<Figure size 1296x216 with 4 Axes>"
      ]
     },
     "metadata": {
      "needs_background": "light"
     },
     "output_type": "display_data"
    },
    {
     "data": {
      "image/png": "[encoded data removed]",
      "text/plain": [
       "<Figure size 1296x216 with 4 Axes>"
      ]
     },
     "metadata": {
      "needs_background": "light"
     },
     "output_type": "display_data"
    }
   ],
   "source": [
    "ftr_dct = {'session_duration' : 'Продолжительность сессии, сек.', 'actions_per_second' : 'Частота действий, действий в сек.'}\n",
    "for ftr in ftr_dct.keys():\n",
    "    f, ax = plt.subplots(1, 4, sharex=True, sharey=True, figsize=(18,3))\n",
    "    rdf0 = users_metrics_clrd.loc[users_metrics_clrd['act_4'] == 0]\n",
    "    sns.distplot(rdf0[ftr], ax = ax[0], bins=30)\n",
    "    ax[0].set_title('Кластер 0')\n",
    "    ax[0].set_ylabel('Доля')\n",
    "    ax[0].set_xlabel(ftr_dct[ftr])\n",
    "    rdf1 = users_metrics_clrd.loc[users_metrics_clrd['act_4'] == 1]\n",
    "    sns.distplot(rdf1[ftr], ax = ax[1], bins=30)\n",
    "    ax[1].set_title('Кластер 1')\n",
    "    ax[1].set_xlabel(ftr_dct[ftr])\n",
    "    rdf2 = users_metrics_clrd.loc[users_metrics_clrd['act_4'] == 2]\n",
    "    sns.distplot(rdf2[ftr], ax = ax[2], bins=30)\n",
    "    ax[2].set_title('Кластер 2')\n",
    "    ax[2].set_xlabel(ftr_dct[ftr])\n",
    "    rdf3 = users_metrics_clrd.loc[users_metrics_clrd['act_4'] == 3]\n",
    "    sns.distplot(rdf3[ftr], ax = ax[3], bins=30)\n",
    "    ax[3].set_title('Кластер 3')\n",
    "    ax[3].set_xlabel(ftr_dct[ftr])"
   ]
  },
  {
   "cell_type": "markdown",
   "metadata": {},
   "source": [
    "### Описание кластеров\n",
    "\n",
    "В структуре активности кластера 0 преобладают действия \"Поиск\", \"Показ фото\" и \"Добавление в избранное\". У этих пользователей наблюдается самый высокий retention rate, средняя продолжительность сессий и конверсия, близкая к среднему значению по выборке в целом. К кластеру отнесены 1253 пользователя.\n",
    "\n",
    "В структуре активности кластера 1 преобладают действия \"Открытие объявления\", \"Открытие карты\" и \"Открытие справки\". При этом у них наблюдается самая большая средняя продолжительность сессий, а также они реже остальных совершают в приложении целевое действие. Скорее всего, это новые пользователи, которые ищут не какой-то конкретный объект, а смотрят все возможные предложения. Это самый многочисленный кластер из выделенных, 2344 человек.\n",
    "\n",
    "В структуре активности кластера 2 преобладают действия действия \"Открытие справки\", \"Открытие объявления\" и \"Открытие карты\", как и у кластера 1, но эти пользователи гораздо реже смотрят контакты, и для них наблюдается самая низкая конверсия среди всех кластеров. При этом у них высокая средняя продолжительность сессий и они совершают много действий в единицу времени и достаточно низкий показатель оттока. Скорее всего, это постоянные пользователи приложения, решающие в нем какие-то свои задачи. К этому кластеру отнесены 481 человек. \n",
    "\n",
    "В структуре активности кластера 3 пробладает целевое действие (\"Показать контакты\"), а также \"Звонок контакту\" и \"Показать фотографии\". Все пользователи, отнесенные к этому кластеру, совершили целевое действие, для них наблюдается самое маленькое среднее время сессии, они совершают больше всех действий в единицу времени, а также у них самый высокий показатель оттока. Скорее всего, это пользователи, заходящие в приложение с определенной целью, уже имея представление о том, что они хотят приобрести. В этом кластере 215 человек."
   ]
  },
  {
   "cell_type": "markdown",
   "metadata": {},
   "source": [
    "<a id='step4'></a>\n",
    "## Статистический анализ"
   ]
  },
  {
   "cell_type": "markdown",
   "metadata": {},
   "source": [
    "**Проверить гипотезу о значимости различий конверсии в зависимости от источника**"
   ]
  },
  {
   "cell_type": "markdown",
   "metadata": {},
   "source": [
    "Формируем датафрейм под z-test (сравнение отношения долей на квантилях нормального распределения), это удобно делать с помощью crosstab"
   ]
  },
  {
   "cell_type": "code",
   "execution_count": 92,
   "metadata": {},
   "outputs": [],
   "source": [
    "for_ztest = pd.merge(users_metrics.groupby('user_id')['is_target'].mean(), data[['user_id', 'source']].drop_duplicates(),\n",
    "                     on='user_id')\n",
    "for_ztest = pd.crosstab(index=for_ztest['source'], columns=for_ztest['is_target'], values=for_ztest['user_id'], aggfunc='count')"
   ]
  },
  {
   "cell_type": "code",
   "execution_count": 93,
   "metadata": {},
   "outputs": [],
   "source": [
    "for_ztest.iloc[:, 0] = for_ztest.iloc[:, 0] + for_ztest.iloc[:, 1]"
   ]
  },
  {
   "cell_type": "code",
   "execution_count": 94,
   "metadata": {},
   "outputs": [],
   "source": [
    "# Функция для удобного вывода описания результатов z-теста. На вход принимает датафрейм, два индекса строк датафрейма с информацией о\n",
    "# количестве объектов в группах, название метрики и типа групп, значение уровня значимости альфа и коэффициент для \n",
    "# поправки на множественные сравнения Бонферрони.\n",
    "\n",
    "def proportion_test(df, ix1, ix2, metric, grouptype, alpha = 0.05, bnf_coef=1):\n",
    "    results = proportions_ztest(df.iloc[[ix1, ix2], 1], df.iloc[[ix1, ix2], 0])\n",
    "    alpha = alpha\n",
    "    if metric == 'conversion': \n",
    "        if grouptype == 'sources':\n",
    "            print('Гипотеза H0: конверсия для пользователей, пришедших с источников', df.index[ix1], 'и', \n",
    "             df.index[ix2] + ',', 'одинакова')\n",
    "        if grouptype == 'clusters':\n",
    "            print('Гипотеза H0: конверсия для пользователей, принадлежащих к кластерам {} и {}, одинакова.'.format(df.index[ix1], df.index[ix2]))\n",
    "    if metric == 'churn':\n",
    "          print('Гипотеза H0: churn rate для пользователей, принадлежащих к кластерам {} и {}, одинаков.'.format(df.index[ix1], df.index[ix2]))\n",
    "    print('')\n",
    "    print('Уровень значимости alpha =', alpha)\n",
    "    print('Коэффициент Бонферрони для поправки на множественные сравнения:', bnf_coef)\n",
    "    print('')\n",
    "    if results[1] < alpha / bnf_coef:\n",
    "        print('Отвергаем гипотезу H0 на уровне значимости 0.05, значение статистики: {:.3f}, p_value: {:.3f}'.\n",
    "             format(results[0], results[1]))\n",
    "    else: \n",
    "        print('Не можем отвергнуть гипотезу H0 на уровне значимости 0.05, значение статистики: {:.3f}, p_value: {:.3f}'.\n",
    "             format(results[0], results[1]))\n",
    "    print('')\n",
    "    print('Значение метрики для', df.index[ix1], '= {:.3f}'.format(df.iloc[ix1, 1] / df.iloc[ix1, 0]))\n",
    "    print('Значение метрики для', df.index[ix2], '= {:.3f}'.format(df.iloc[ix2, 1] / df.iloc[ix2, 0]))\n",
    "    print('')\n",
    "    print('---')\n",
    "    print('')"
   ]
  },
  {
   "cell_type": "markdown",
   "metadata": {},
   "source": [
    "Вычисляем коэффициент поправки Бонферрони: у нас есть три сравнения для источника, плюс еще вполнедствии будем сравнивать четыре выделенных кластера по четырем метрикам. Для сравнения каждого кластера с каждым по одной метрике нужно провести C из 4 по 2 => 6 парных сравнений. То есть для сравнения всех кластеров по всем четырем метрикам потребуется 24 попарных сравнения. Плюс 3 сравнения источников, всего 27. Коэффициент для поправки Бонферрони будет равен 1/27. "
   ]
  },
  {
   "cell_type": "code",
   "execution_count": 95,
   "metadata": {},
   "outputs": [
    {
     "name": "stdout",
     "output_type": "stream",
     "text": [
      "Гипотеза H0: конверсия для пользователей, пришедших с источников google и other, одинакова\n",
      "\n",
      "Уровень значимости alpha = 0.05\n",
      "Коэффициент Бонферрони для поправки на множественные сравнения: 27\n",
      "\n",
      "Отвергаем гипотезу H0 на уровне значимости 0.05, значение статистики: 3.448, p_value: 0.001\n",
      "\n",
      "Значение метрики для google = 0.244\n",
      "Значение метрики для other = 0.185\n",
      "\n",
      "---\n",
      "\n"
     ]
    }
   ],
   "source": [
    "proportion_test(for_ztest, 0, 1, 'conversion', 'sources', 0.05, 27)"
   ]
  },
  {
   "cell_type": "code",
   "execution_count": 96,
   "metadata": {},
   "outputs": [
    {
     "name": "stdout",
     "output_type": "stream",
     "text": [
      "Гипотеза H0: конверсия для пользователей, пришедших с источников google и yandex, одинакова\n",
      "\n",
      "Уровень значимости alpha = 0.05\n",
      "Коэффициент Бонферрони для поправки на множественные сравнения: 27\n",
      "\n",
      "Не можем отвергнуть гипотезу H0 на уровне значимости 0.05, значение статистики: -0.222, p_value: 0.824\n",
      "\n",
      "Значение метрики для google = 0.244\n",
      "Значение метрики для yandex = 0.247\n",
      "\n",
      "---\n",
      "\n"
     ]
    }
   ],
   "source": [
    "proportion_test(for_ztest, 0, 2, 'conversion', 'sources', 0.05, 27)"
   ]
  },
  {
   "cell_type": "code",
   "execution_count": 97,
   "metadata": {},
   "outputs": [
    {
     "name": "stdout",
     "output_type": "stream",
     "text": [
      "Гипотеза H0: конверсия для пользователей, пришедших с источников other и yandex, одинакова\n",
      "\n",
      "Уровень значимости alpha = 0.05\n",
      "Коэффициент Бонферрони для поправки на множественные сравнения: 27\n",
      "\n",
      "Отвергаем гипотезу H0 на уровне значимости 0.05, значение статистики: -4.069, p_value: 0.000\n",
      "\n",
      "Значение метрики для other = 0.185\n",
      "Значение метрики для yandex = 0.247\n",
      "\n",
      "---\n",
      "\n"
     ]
    }
   ],
   "source": [
    "proportion_test(for_ztest, 1, 2, 'conversion', 'sources', 0.05, 27)"
   ]
  },
  {
   "cell_type": "markdown",
   "metadata": {},
   "source": [
    "**Проверить гипотезы о значимости различий между кластерами по исследуемым метрикам**"
   ]
  },
  {
   "cell_type": "markdown",
   "metadata": {},
   "source": [
    "Подготавливаем данные для сравнения долей, используя crosstab"
   ]
  },
  {
   "cell_type": "code",
   "execution_count": 98,
   "metadata": {},
   "outputs": [],
   "source": [
    "for_ztest_clusters = users_metrics.groupby('user_id')[['is_inactive', 'is_target', 'act_4']].mean()\n",
    "for_ztest_clusters_is_inactive = pd.crosstab(index=for_ztest_clusters['act_4'], columns=for_ztest_clusters['is_inactive'], \n",
    "                                             values = for_ztest_clusters.index, aggfunc='count')\n",
    "for_ztest_clusters_is_target = pd.crosstab(index=for_ztest_clusters['act_4'], columns=for_ztest_clusters['is_target'], \n",
    "                                             values = for_ztest_clusters.index, aggfunc='count').fillna(0).astype('int')"
   ]
  },
  {
   "cell_type": "markdown",
   "metadata": {},
   "source": [
    "В первом столбце храним информацию о количестве пользователей в кластере в целом, во втором -- о количестве пользователей, совершивших целевое действие / прекративших пользоваться приложением"
   ]
  },
  {
   "cell_type": "code",
   "execution_count": 99,
   "metadata": {},
   "outputs": [],
   "source": [
    "for_ztest_clusters_is_target.iloc[:, 0] = for_ztest_clusters_is_target.iloc[:, 0] + for_ztest_clusters_is_target.iloc[:, 1]\n",
    "for_ztest_clusters_is_inactive.iloc[:, 0] = for_ztest_clusters_is_inactive.iloc[:, 0] + for_ztest_clusters_is_inactive.iloc[:, 1]"
   ]
  },
  {
   "cell_type": "code",
   "execution_count": 100,
   "metadata": {},
   "outputs": [],
   "source": [
    "clusters_list = [0,1,2,3]"
   ]
  },
  {
   "cell_type": "code",
   "execution_count": 101,
   "metadata": {},
   "outputs": [
    {
     "name": "stdout",
     "output_type": "stream",
     "text": [
      "Гипотеза H0: конверсия для пользователей, принадлежащих к кластерам 0 и 1, одинакова.\n",
      "\n",
      "Уровень значимости alpha = 0.05\n",
      "Коэффициент Бонферрони для поправки на множественные сравнения: 27\n",
      "\n",
      "Не можем отвергнуть гипотезу H0 на уровне значимости 0.05, значение статистики: 0.820, p_value: 0.412\n",
      "\n",
      "Значение метрики для 0 = 0.205\n",
      "Значение метрики для 1 = 0.194\n",
      "\n",
      "---\n",
      "\n",
      "Гипотеза H0: конверсия для пользователей, принадлежащих к кластерам 0 и 2, одинакова.\n",
      "\n",
      "Уровень значимости alpha = 0.05\n",
      "Коэффициент Бонферрони для поправки на множественные сравнения: 27\n",
      "\n",
      "Отвергаем гипотезу H0 на уровне значимости 0.05, значение статистики: 4.405, p_value: 0.000\n",
      "\n",
      "Значение метрики для 0 = 0.205\n",
      "Значение метрики для 2 = 0.114\n",
      "\n",
      "---\n",
      "\n",
      "Гипотеза H0: конверсия для пользователей, принадлежащих к кластерам 0 и 3, одинакова.\n",
      "\n",
      "Уровень значимости alpha = 0.05\n",
      "Коэффициент Бонферрони для поправки на множественные сравнения: 27\n",
      "\n",
      "Отвергаем гипотезу H0 на уровне значимости 0.05, значение статистики: -23.055, p_value: 0.000\n",
      "\n",
      "Значение метрики для 0 = 0.205\n",
      "Значение метрики для 3 = 1.000\n",
      "\n",
      "---\n",
      "\n",
      "Гипотеза H0: конверсия для пользователей, принадлежащих к кластерам 1 и 2, одинакова.\n",
      "\n",
      "Уровень значимости alpha = 0.05\n",
      "Коэффициент Бонферрони для поправки на множественные сравнения: 27\n",
      "\n",
      "Отвергаем гипотезу H0 на уровне значимости 0.05, значение статистики: 4.124, p_value: 0.000\n",
      "\n",
      "Значение метрики для 1 = 0.194\n",
      "Значение метрики для 2 = 0.114\n",
      "\n",
      "---\n",
      "\n",
      "Гипотеза H0: конверсия для пользователей, принадлежащих к кластерам 1 и 3, одинакова.\n",
      "\n",
      "Уровень значимости alpha = 0.05\n",
      "Коэффициент Бонферрони для поправки на множественные сравнения: 27\n",
      "\n",
      "Отвергаем гипотезу H0 на уровне значимости 0.05, значение статистики: -25.751, p_value: 0.000\n",
      "\n",
      "Значение метрики для 1 = 0.194\n",
      "Значение метрики для 3 = 1.000\n",
      "\n",
      "---\n",
      "\n",
      "Гипотеза H0: конверсия для пользователей, принадлежащих к кластерам 2 и 3, одинакова.\n",
      "\n",
      "Уровень значимости alpha = 0.05\n",
      "Коэффициент Бонферрони для поправки на множественные сравнения: 27\n",
      "\n",
      "Отвергаем гипотезу H0 на уровне значимости 0.05, значение статистики: -22.155, p_value: 0.000\n",
      "\n",
      "Значение метрики для 2 = 0.114\n",
      "Значение метрики для 3 = 1.000\n",
      "\n",
      "---\n",
      "\n"
     ]
    }
   ],
   "source": [
    "for i, j in combinations(clusters_list, 2):\n",
    "    proportion_test(for_ztest_clusters_is_target, i, j, 'conversion', 'clusters', 0.05, 27)"
   ]
  },
  {
   "cell_type": "code",
   "execution_count": 102,
   "metadata": {},
   "outputs": [
    {
     "name": "stdout",
     "output_type": "stream",
     "text": [
      "Гипотеза H0: churn rate для пользователей, принадлежащих к кластерам 0 и 1, одинаков.\n",
      "\n",
      "Уровень значимости alpha = 0.05\n",
      "Коэффициент Бонферрони для поправки на множественные сравнения: 27\n",
      "\n",
      "Не можем отвергнуть гипотезу H0 на уровне значимости 0.05, значение статистики: -3.082, p_value: 0.002\n",
      "\n",
      "Значение метрики для 0 = 0.819\n",
      "Значение метрики для 1 = 0.858\n",
      "\n",
      "---\n",
      "\n",
      "Гипотеза H0: churn rate для пользователей, принадлежащих к кластерам 0 и 2, одинаков.\n",
      "\n",
      "Уровень значимости alpha = 0.05\n",
      "Коэффициент Бонферрони для поправки на множественные сравнения: 27\n",
      "\n",
      "Не можем отвергнуть гипотезу H0 на уровне значимости 0.05, значение статистики: -1.449, p_value: 0.147\n",
      "\n",
      "Значение метрики для 0 = 0.819\n",
      "Значение метрики для 2 = 0.848\n",
      "\n",
      "---\n",
      "\n",
      "Гипотеза H0: churn rate для пользователей, принадлежащих к кластерам 0 и 3, одинаков.\n",
      "\n",
      "Уровень значимости alpha = 0.05\n",
      "Коэффициент Бонферрони для поправки на множественные сравнения: 27\n",
      "\n",
      "Не можем отвергнуть гипотезу H0 на уровне значимости 0.05, значение статистики: -1.149, p_value: 0.251\n",
      "\n",
      "Значение метрики для 0 = 0.819\n",
      "Значение метрики для 3 = 0.851\n",
      "\n",
      "---\n",
      "\n",
      "Гипотеза H0: churn rate для пользователей, принадлежащих к кластерам 1 и 2, одинаков.\n",
      "\n",
      "Уровень значимости alpha = 0.05\n",
      "Коэффициент Бонферрони для поправки на множественные сравнения: 27\n",
      "\n",
      "Не можем отвергнуть гипотезу H0 на уровне значимости 0.05, значение статистики: 0.553, p_value: 0.581\n",
      "\n",
      "Значение метрики для 1 = 0.858\n",
      "Значение метрики для 2 = 0.848\n",
      "\n",
      "---\n",
      "\n",
      "Гипотеза H0: churn rate для пользователей, принадлежащих к кластерам 1 и 3, одинаков.\n",
      "\n",
      "Уровень значимости alpha = 0.05\n",
      "Коэффициент Бонферрони для поправки на множественные сравнения: 27\n",
      "\n",
      "Не можем отвергнуть гипотезу H0 на уровне значимости 0.05, значение статистики: 0.272, p_value: 0.786\n",
      "\n",
      "Значение метрики для 1 = 0.858\n",
      "Значение метрики для 3 = 0.851\n",
      "\n",
      "---\n",
      "\n",
      "Гипотеза H0: churn rate для пользователей, принадлежащих к кластерам 2 и 3, одинаков.\n",
      "\n",
      "Уровень значимости alpha = 0.05\n",
      "Коэффициент Бонферрони для поправки на множественные сравнения: 27\n",
      "\n",
      "Не можем отвергнуть гипотезу H0 на уровне значимости 0.05, значение статистики: -0.100, p_value: 0.921\n",
      "\n",
      "Значение метрики для 2 = 0.848\n",
      "Значение метрики для 3 = 0.851\n",
      "\n",
      "---\n",
      "\n"
     ]
    }
   ],
   "source": [
    "for i, j in combinations(clusters_list, 2):\n",
    "    proportion_test(for_ztest_clusters_is_inactive, i, j, 'churn', 'sources', 0.05, 27)"
   ]
  },
  {
   "cell_type": "code",
   "execution_count": 103,
   "metadata": {},
   "outputs": [
    {
     "data": {
      "text/plain": [
       "count    7849.000000\n",
       "mean      854.543254\n",
       "std       873.783297\n",
       "min         5.000000\n",
       "25%       200.000000\n",
       "50%       555.000000\n",
       "75%      1240.000000\n",
       "max      4301.000000\n",
       "Name: session_duration, dtype: float64"
      ]
     },
     "execution_count": 103,
     "metadata": {},
     "output_type": "execute_result"
    }
   ],
   "source": [
    "users_metrics_clrd['session_duration'].describe()"
   ]
  },
  {
   "cell_type": "code",
   "execution_count": 104,
   "metadata": {},
   "outputs": [
    {
     "data": {
      "text/plain": [
       "count    7849.000000\n",
       "mean        0.025745\n",
       "std         0.047583\n",
       "min         0.000939\n",
       "25%         0.006711\n",
       "50%         0.011913\n",
       "75%         0.022989\n",
       "max         0.444444\n",
       "Name: actions_per_second, dtype: float64"
      ]
     },
     "execution_count": 104,
     "metadata": {},
     "output_type": "execute_result"
    }
   ],
   "source": [
    "users_metrics_clrd['actions_per_second'].describe()"
   ]
  },
  {
   "cell_type": "markdown",
   "metadata": {},
   "source": [
    "Для количественных показателей видим, что оба распределения, даже на очищенных от самых экстремальных выбросов данных, все равно имеют тяжелый правый хвост и плохо описываются средним (среднее значительно больше медианы), то, что данные распределены не нормально, видно на глаз и без Шапиро-Уилко. Поэтому используем непараметрический критерий Манна-Уитни. "
   ]
  },
  {
   "cell_type": "code",
   "execution_count": 105,
   "metadata": {},
   "outputs": [],
   "source": [
    "# Функция для удобного вывода результатов теста Манна-Уитни, устроена похоже на функцию для z-теста.\n",
    "\n",
    "def u_test_description(i, j, feature, bnf=1):\n",
    "    first_sample = users_metrics_clrd.loc[users_metrics_clrd['act_4'] == i][feature]\n",
    "    second_sample = users_metrics_clrd.loc[users_metrics_clrd['act_4'] == j][feature]\n",
    "    results = mannwhitneyu(first_sample, second_sample)\n",
    "    print('Сравнение метрики', feature, 'для кластеров {} и {}.'.format(i,j))\n",
    "    print('')\n",
    "    print('Гипотеза H0: значение метрики в двух кластерах не отличается.')\n",
    "    print('Уровень значимости alpha = 0.05')\n",
    "    print('Коэффициент поправки на множественные сравнения Бонферрони = {:.0f}.'.format(bnf))\n",
    "    print('')\n",
    "    if results[1] < 0.05 / bnf:\n",
    "        print('Отвергаем гипотезу H0 на уровне значимости 0.05, значение метрики в двух кластерах отличается.')\n",
    "    else:\n",
    "        print('Не можем отвергнуть гипотезу H0 на уровне значимости 0.05, значение метрики в двух кластерах не отличается.')\n",
    "    print('Значение статистики: {:.3f}, значение p-value: {:.3f}.'.format(results[0], results[1]))\n",
    "    print('Медианное значение признака для кластера {} = {:.3f}'.format(i, np.median(first_sample)))\n",
    "    print('Медианное значение признака для кластера {} = {:.3f}'.format(j, np.median(second_sample)))\n",
    "    print('')\n",
    "    print('---')\n",
    "    print('')"
   ]
  },
  {
   "cell_type": "code",
   "execution_count": 106,
   "metadata": {},
   "outputs": [
    {
     "name": "stdout",
     "output_type": "stream",
     "text": [
      "Сравнение метрики session_duration для кластеров 0 и 1.\n",
      "\n",
      "Гипотеза H0: значение метрики в двух кластерах не отличается.\n",
      "Уровень значимости alpha = 0.05\n",
      "Коэффициент поправки на множественные сравнения Бонферрони = 27.\n",
      "\n",
      "Отвергаем гипотезу H0 на уровне значимости 0.05, значение метрики в двух кластерах отличается.\n",
      "Значение статистики: 3966392.000, значение p-value: 0.000.\n",
      "Медианное значение признака для кластера 0 = 408.000\n",
      "Медианное значение признака для кластера 1 = 674.000\n",
      "\n",
      "---\n",
      "\n",
      "Сравнение метрики session_duration для кластеров 0 и 2.\n",
      "\n",
      "Гипотеза H0: значение метрики в двух кластерах не отличается.\n",
      "Уровень значимости alpha = 0.05\n",
      "Коэффициент поправки на множественные сравнения Бонферрони = 27.\n",
      "\n",
      "Отвергаем гипотезу H0 на уровне значимости 0.05, значение метрики в двух кластерах отличается.\n",
      "Значение статистики: 1029274.500, значение p-value: 0.000.\n",
      "Медианное значение признака для кластера 0 = 408.000\n",
      "Медианное значение признака для кластера 2 = 527.000\n",
      "\n",
      "---\n",
      "\n",
      "Сравнение метрики session_duration для кластеров 0 и 3.\n",
      "\n",
      "Гипотеза H0: значение метрики в двух кластерах не отличается.\n",
      "Уровень значимости alpha = 0.05\n",
      "Коэффициент поправки на множественные сравнения Бонферрони = 27.\n",
      "\n",
      "Отвергаем гипотезу H0 на уровне значимости 0.05, значение метрики в двух кластерах отличается.\n",
      "Значение статистики: 398425.000, значение p-value: 0.001.\n",
      "Медианное значение признака для кластера 0 = 408.000\n",
      "Медианное значение признака для кластера 3 = 310.000\n",
      "\n",
      "---\n",
      "\n",
      "Сравнение метрики session_duration для кластеров 1 и 2.\n",
      "\n",
      "Гипотеза H0: значение метрики в двух кластерах не отличается.\n",
      "Уровень значимости alpha = 0.05\n",
      "Коэффициент поправки на множественные сравнения Бонферрони = 27.\n",
      "\n",
      "Отвергаем гипотезу H0 на уровне значимости 0.05, значение метрики в двух кластерах отличается.\n",
      "Значение статистики: 1676906.000, значение p-value: 0.000.\n",
      "Медианное значение признака для кластера 1 = 674.000\n",
      "Медианное значение признака для кластера 2 = 527.000\n",
      "\n",
      "---\n",
      "\n",
      "Сравнение метрики session_duration для кластеров 1 и 3.\n",
      "\n",
      "Гипотеза H0: значение метрики в двух кластерах не отличается.\n",
      "Уровень значимости alpha = 0.05\n",
      "Коэффициент поправки на множественные сравнения Бонферрони = 27.\n",
      "\n",
      "Отвергаем гипотезу H0 на уровне значимости 0.05, значение метрики в двух кластерах отличается.\n",
      "Значение статистики: 528899.000, значение p-value: 0.000.\n",
      "Медианное значение признака для кластера 1 = 674.000\n",
      "Медианное значение признака для кластера 3 = 310.000\n",
      "\n",
      "---\n",
      "\n",
      "Сравнение метрики session_duration для кластеров 2 и 3.\n",
      "\n",
      "Гипотеза H0: значение метрики в двух кластерах не отличается.\n",
      "Уровень значимости alpha = 0.05\n",
      "Коэффициент поправки на множественные сравнения Бонферрони = 27.\n",
      "\n",
      "Отвергаем гипотезу H0 на уровне значимости 0.05, значение метрики в двух кластерах отличается.\n",
      "Значение статистики: 138753.000, значение p-value: 0.000.\n",
      "Медианное значение признака для кластера 2 = 527.000\n",
      "Медианное значение признака для кластера 3 = 310.000\n",
      "\n",
      "---\n",
      "\n"
     ]
    }
   ],
   "source": [
    "for i, j in combinations(clusters_list, 2):\n",
    "    u_test_description(i, j, 'session_duration', bnf=27)"
   ]
  },
  {
   "cell_type": "code",
   "execution_count": 107,
   "metadata": {},
   "outputs": [
    {
     "name": "stdout",
     "output_type": "stream",
     "text": [
      "Сравнение метрики actions_per_second для кластеров 0 и 1.\n",
      "\n",
      "Гипотеза H0: значение метрики в двух кластерах не отличается.\n",
      "Уровень значимости alpha = 0.05\n",
      "Коэффициент поправки на множественные сравнения Бонферрони = 27.\n",
      "\n",
      "Отвергаем гипотезу H0 на уровне значимости 0.05, значение метрики в двух кластерах отличается.\n",
      "Значение статистики: 4781655.000, значение p-value: 0.001.\n",
      "Медианное значение признака для кластера 0 = 0.012\n",
      "Медианное значение признака для кластера 1 = 0.011\n",
      "\n",
      "---\n",
      "\n",
      "Сравнение метрики actions_per_second для кластеров 0 и 2.\n",
      "\n",
      "Гипотеза H0: значение метрики в двух кластерах не отличается.\n",
      "Уровень значимости alpha = 0.05\n",
      "Коэффициент поправки на множественные сравнения Бонферрони = 27.\n",
      "\n",
      "Отвергаем гипотезу H0 на уровне значимости 0.05, значение метрики в двух кластерах отличается.\n",
      "Значение статистики: 870862.500, значение p-value: 0.000.\n",
      "Медианное значение признака для кластера 0 = 0.012\n",
      "Медианное значение признака для кластера 2 = 0.019\n",
      "\n",
      "---\n",
      "\n",
      "Сравнение метрики actions_per_second для кластеров 0 и 3.\n",
      "\n",
      "Гипотеза H0: значение метрики в двух кластерах не отличается.\n",
      "Уровень значимости alpha = 0.05\n",
      "Коэффициент поправки на множественные сравнения Бонферрони = 27.\n",
      "\n",
      "Отвергаем гипотезу H0 на уровне значимости 0.05, значение метрики в двух кластерах отличается.\n",
      "Значение статистики: 377464.000, значение p-value: 0.000.\n",
      "Медианное значение признака для кластера 0 = 0.012\n",
      "Медианное значение признака для кластера 3 = 0.016\n",
      "\n",
      "---\n",
      "\n",
      "Сравнение метрики actions_per_second для кластеров 1 и 2.\n",
      "\n",
      "Гипотеза H0: значение метрики в двух кластерах не отличается.\n",
      "Уровень значимости alpha = 0.05\n",
      "Коэффициент поправки на множественные сравнения Бонферрони = 27.\n",
      "\n",
      "Отвергаем гипотезу H0 на уровне значимости 0.05, значение метрики в двух кластерах отличается.\n",
      "Значение статистики: 1318081.000, значение p-value: 0.000.\n",
      "Медианное значение признака для кластера 1 = 0.011\n",
      "Медианное значение признака для кластера 2 = 0.019\n",
      "\n",
      "---\n",
      "\n",
      "Сравнение метрики actions_per_second для кластеров 1 и 3.\n",
      "\n",
      "Гипотеза H0: значение метрики в двух кластерах не отличается.\n",
      "Уровень значимости alpha = 0.05\n",
      "Коэффициент поправки на множественные сравнения Бонферрони = 27.\n",
      "\n",
      "Отвергаем гипотезу H0 на уровне значимости 0.05, значение метрики в двух кластерах отличается.\n",
      "Значение статистики: 597892.000, значение p-value: 0.000.\n",
      "Медианное значение признака для кластера 1 = 0.011\n",
      "Медианное значение признака для кластера 3 = 0.016\n",
      "\n",
      "---\n",
      "\n",
      "Сравнение метрики actions_per_second для кластеров 2 и 3.\n",
      "\n",
      "Гипотеза H0: значение метрики в двух кластерах не отличается.\n",
      "Уровень значимости alpha = 0.05\n",
      "Коэффициент поправки на множественные сравнения Бонферрони = 27.\n",
      "\n",
      "Не можем отвергнуть гипотезу H0 на уровне значимости 0.05, значение метрики в двух кластерах не отличается.\n",
      "Значение статистики: 161330.500, значение p-value: 0.085.\n",
      "Медианное значение признака для кластера 2 = 0.019\n",
      "Медианное значение признака для кластера 3 = 0.016\n",
      "\n",
      "---\n",
      "\n"
     ]
    }
   ],
   "source": [
    "for i, j in combinations(clusters_list, 2):\n",
    "    u_test_description(i, j, 'actions_per_second', bnf=27)"
   ]
  },
  {
   "cell_type": "markdown",
   "metadata": {},
   "source": [
    "### Выводы по статистическому анализу\n",
    "\n",
    "1. Сравнение источников. Пользователи, пришедшие с других источников (значение признака 'other'), значимо реже совершают целевое действие (конверсия 0.185), чем пользователи, пришедшие из Yandex'a или Google. Те, в свою очередь, совершают целевое действие одинаково часто (конверсия 0.245 и 0.247 соответственно). \n",
    "\n",
    "2. Сравнение кластеров. Единственная метрика, по которой не обнаруживается значимых отличий между кластерами, это churn/retention rate. По всем остальным метрикам почти все кластеры значимо попарно отличаются друг от друга, что дает дополнительные основания полагать, что кластеризация выделила группы пользователей, характеризующиеся важными для бизнеса параметрами и поведенческими паттернами. \n",
    "\n",
    "**Значения метрик для кластеров.** \n",
    "\n",
    "Конверсия:\n",
    "\n",
    "* кластер 0: 0.205.\n",
    "* кластер 1: 0.194.\n",
    "* кластер 2: 0.114.\n",
    "* кластер 3: 1.\n",
    "\n",
    "Retention Rate (1 - Churn Rate):\n",
    "\n",
    "* кластер 0: 0.395.\n",
    "* кластер 1: 0.360.\n",
    "* кластер 2: 0.362.\n",
    "* кластер 3: 0.335.\n",
    "\n",
    "Продолжительность сессии (медианные значения, в секундах):\n",
    "\n",
    "* кластер 0: 416.\n",
    "* кластер 1: 678.\n",
    "* кластер 2: 537.\n",
    "* кластер 3: 318.\n",
    "\n",
    "Частота действий (медианные значения, количество действий в секунду):\n",
    "\n",
    "* кластер 0: 0.011.\n",
    "* кластер 1: 0.011.\n",
    "* кластер 2: 0.018.\n",
    "* кластер 3: 0.015."
   ]
  },
  {
   "cell_type": "markdown",
   "metadata": {},
   "source": [
    "<a id='step5'></a>\n",
    "## Описание результатов и выводы"
   ]
  },
  {
   "cell_type": "markdown",
   "metadata": {},
   "source": [
    "**Статистический анализ источников.** Пользователи, пришедшие из других источников (значение признака 'other'), значимо реже совершают целевое действие (конверсия 0.185), чем пользователи, пришедшие из Yandex'a или Google. Те, в свою очередь, совершают целевое действие одинаково часто (конверсия 0.245 и 0.247 соответственно). "
   ]
  },
  {
   "cell_type": "markdown",
   "metadata": {},
   "source": [
    "**Выделение и сравнение кластеров.** В результате кластерного анализа пользователей на основании различных признаков, самым контрастным в плане целевых метрик оказалось разделение пользователей на четыре кластера в зависимости от совершаемых ими в приложении действий. Выделенные кластеры значимо отличаются друг от друга по всем метрикам, кроме Retention Rate, для которого значимые различия обнаруживаются только для одной пары кластеров (0 и 3). По всем остальным метрикам почти все кластеры попарно значимо отличаются друг от друга, кроме одного случая: различия между кластерами 0 и 1 по метрикам \"Конверсия\" и \"Частота действий\" статистически незначимы."
   ]
  },
  {
   "cell_type": "markdown",
   "metadata": {},
   "source": [
    "**Описание кластеров**\n",
    "\n",
    "*Кластер 0*, 29% всех пользователей. В структуре активности пользователей этого кластера преобладают действия \"Показать фото\", \"Поиск\" и \"Добавить в избранное\". Скорее всего, это постоянные, опытные пользователи приложения, они тратят в приложении достаточно мало времени, не пользуются справкой, и для них характерны сравнительно высокие показатели конверсии и retention rate. \n",
    "\n",
    "*Кластер 1*, 55% всех пользователей. В структуре активности пользователей этого кластера преобладают действие \"Показать справку\". Видимо, это новые пользователи приложения, незнакомые с ним, и поэтому для них характерна самая большая медианная продолжительность сессии, низкая частота действий, при этом они заинтересованы в использовании приложения и для них характерна достаточно высокая конверсия. *Рекомендации*. Для улучшения retention rate и конверсии этого кластера имеет смысл провести usability-анализ приложения на неопытных пользователях и выяснить, с какими сложностями они сталкиваются во время начала работы с приложением. \n",
    "\n",
    "*Кластер 2*, 11% всех пользователей. Активность этих пользователей в приложении похожа на активность пользователей кластера 1, здесь также преобладают действия \"Показать справку\" и \"Карта\". Но пользователи этого кластера, как правило, проводят в приложении гораздо меньше времени, совершают в целом больше действий, но реже совершают целевое действие. Скорее всего, это также новые пользователи приложения, но перед которыми при использовании приложения не стоит определенной цели. *Рекомендации*. Для улучшения конверсии пользователей этого кластера может подойти предложение им поучаствовать в промо-кампании, вывод специальных предложений и условий, которые помогли бы заинтересовать их в дальнейшем использовании приложения\n",
    "\n",
    "*Кластер 3*, 5% всех пользователей. В структуре активности пользователей этого кластера преобладает целевое действие, а также \"Вызов контакта\" и \"Показ фото\". Для кластера наблюдается самая высокая, стопроцентная, конверсия, и одновременно самые низкие показатели Retention Rate и продолжительности сессии. Скорее всего, это пользователи зашедшие в приложение по внешней ссылке, заранее зная, какое предложение они хотят приобрести. *Рекомендации*. Точка роста этого кластера -- retention rate, стоит попытаться вернуть его пользователей в приложение маркетинговыми рассылками и специальными предложениями. "
   ]
  },
  {
   "cell_type": "markdown",
   "metadata": {},
   "source": [
    "<h4><center>Сравнительная таблица метрик в зависимости от кластера</center></h4>"
   ]
  },
  {
   "cell_type": "markdown",
   "metadata": {},
   "source": [
    "| Кластер | Конверсия | Retention Rate | Продолжительность сессии | Частота действий | Доля от всех пользователей |\n",
    "| --- | --- | --- | --- | --- | --- |\n",
    "| 0 | 0.205 | 0.181 | 408 | 0.011 | 0.29 |\n",
    "| 1 | 0.194 | 0.142 | 674 | 0.011 | 0.55 |\n",
    "| 2 | 0.114 | 0.152 | 527 | 0.019 | 0.11 |\n",
    "| 3 | 1 | 0.149 | 310 | 0.016 | 0.05 |"
   ]
  }
 ],
 "metadata": {
  "celltoolbar": "Отсутствует",
  "kernelspec": {
   "display_name": "Python 3",
   "language": "python",
   "name": "python3"
  },
  "language_info": {
   "codemirror_mode": {
    "name": "ipython",
    "version": 3
   },
   "file_extension": ".py",
   "mimetype": "text/x-python",
   "name": "python",
   "nbconvert_exporter": "python",
   "pygments_lexer": "ipython3",
   "version": "3.8.3"
  },
  "toc": {
   "base_numbering": 1,
   "nav_menu": {},
   "number_sections": true,
   "sideBar": true,
   "skip_h1_title": false,
   "title_cell": "Table of Contents",
   "title_sidebar": "Contents",
   "toc_cell": false,
   "toc_position": {},
   "toc_section_display": true,
   "toc_window_display": false
  }
 },
 "nbformat": 4,
 "nbformat_minor": 4
}
